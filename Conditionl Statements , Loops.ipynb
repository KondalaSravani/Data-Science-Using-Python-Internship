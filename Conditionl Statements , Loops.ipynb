{
 "cells": [
  {
   "cell_type": "markdown",
   "metadata": {},
   "source": [
    "### Contents\n",
    "- Conditional Statements\n",
    "  - if\n",
    "  - if-else\n",
    "  - if-elif-else\n",
    "- Loops\n",
    "  - For\n",
    "  - While\n",
    "- Strings\n",
    "   - Declaring a string\n",
    "   - Accessing elements"
   ]
  },
  {
   "cell_type": "markdown",
   "metadata": {},
   "source": [
    "### Conditional Statements\n",
    "- Controlling flow of execution\n",
    "\n",
    "\n",
    "### Syntax\n",
    "- if:\n",
    "```python\n",
    "if condition:\n",
    "    Block of Code\n",
    "```\n",
    "\n",
    "- if-else:\n",
    "```python\n",
    "if condition:\n",
    "    Block of Code\n",
    "else:\n",
    "    Block of Code\n",
    "```\n",
    "\n",
    "- if-elif-else\n",
    "```python\n",
    "if condition:\n",
    "    Block of Code\n",
    "elif:\n",
    "    Block of Code\n",
    "else:\n",
    "    Block of Code\n",
    "```"
   ]
  },
  {
   "cell_type": "code",
   "execution_count": 1,
   "metadata": {},
   "outputs": [
    {
     "name": "stdout",
     "output_type": "stream",
     "text": [
      "25 is biggest number\n"
     ]
    }
   ],
   "source": [
    "# Biggest of 2 numbers\n",
    "a = 5\n",
    "b = 25\n",
    "if(a>b):\n",
    "    print(a,\"is biggest number\")\n",
    "else:\n",
    "    print(b,\"is biggest number\")"
   ]
  },
  {
   "cell_type": "code",
   "execution_count": 2,
   "metadata": {},
   "outputs": [
    {
     "name": "stdout",
     "output_type": "stream",
     "text": [
      "10 Both are equal\n"
     ]
    }
   ],
   "source": [
    "a = 10\n",
    "b = 10\n",
    "if(a>b):\n",
    "    print(a,\"is biggest number\")\n",
    "elif(b>a):\n",
    "    print(b,\"is biggest number\")\n",
    "else:\n",
    "    print(a,\"Both are equal\")"
   ]
  },
  {
   "cell_type": "code",
   "execution_count": 3,
   "metadata": {},
   "outputs": [
    {
     "name": "stdout",
     "output_type": "stream",
     "text": [
      "15 is biggest number\n"
     ]
    }
   ],
   "source": [
    "#Biggest of 3 numbers\n",
    "a = 5\n",
    "b = 15\n",
    "c = 8\n",
    "if a>b and a>c:\n",
    "    print(a,\"is biggest number\")\n",
    "elif b>a and b>c:\n",
    "    print(b,\"is biggest number\")\n",
    "else:\n",
    "    print(c,\"is biggest number\")"
   ]
  },
  {
   "cell_type": "code",
   "execution_count": 4,
   "metadata": {},
   "outputs": [
    {
     "name": "stdout",
     "output_type": "stream",
     "text": [
      "6\n",
      "6 is even\n"
     ]
    }
   ],
   "source": [
    "# even or not\n",
    "n = int(input())\n",
    "if(n%2==0):\n",
    "    print(n,\"is even\")\n",
    "else:\n",
    "    print(n,\"is odd\")"
   ]
  },
  {
   "cell_type": "markdown",
   "metadata": {},
   "source": [
    "### leap year\n",
    "- it should div by 4 and rem as 0\n",
    "- it shouldn't div by 100\n",
    "- it should div by 400"
   ]
  },
  {
   "cell_type": "code",
   "execution_count": 1,
   "metadata": {},
   "outputs": [
    {
     "name": "stdout",
     "output_type": "stream",
     "text": [
      "2021\n",
      "Not a Leap year\n"
     ]
    }
   ],
   "source": [
    "n=int(input())\n",
    "if(n%400==0) or (n%4==0 and n%100!=0):\n",
    "    print(\"Leap\")\n",
    "else:\n",
    "    print(\"Not a Leap year\")"
   ]
  },
  {
   "cell_type": "markdown",
   "metadata": {},
   "source": [
    "## calculator Application\n",
    "- 2 inputs\n",
    "- Perform Opearations"
   ]
  },
  {
   "cell_type": "code",
   "execution_count": 16,
   "metadata": {},
   "outputs": [
    {
     "name": "stdout",
     "output_type": "stream",
     "text": [
      "Enter a number : 12\n",
      "Enter a number : 6\n",
      "Enter Arithmetic Operation to perform : /\n",
      "2.0\n"
     ]
    }
   ],
   "source": [
    "a = int(input(\"Enter a number : \"))\n",
    "b=int(input(\"Enter a number : \"))\n",
    "arth = input(\"Enter Arithmetic Operation to perform : \")\n",
    "if arth == '+':\n",
    "    print(a+b)\n",
    "elif arth == '-':\n",
    "    print(a-b)\n",
    "elif arth == '*':\n",
    "    print(a*b)\n",
    "elif arth== '/':\n",
    "    print(a/b)\n",
    "else:\n",
    "    print(\"Can't be performed\")"
   ]
  },
  {
   "cell_type": "markdown",
   "metadata": {},
   "source": [
    "### Loops\n",
    "- execite the block of code multiple times\n",
    "\n",
    "### syntax\n",
    "- For loop\n",
    "```python\n",
    "for itervar in groupofdata:\n",
    "    Block of Data\n",
    "```\n",
    "\n",
    "- while loop --> based on condition\n",
    "```python\n",
    "initialization\n",
    "while condition:\n",
    "    block of code\n",
    "    increment/decrement\n",
    "```\n"
   ]
  },
  {
   "cell_type": "code",
   "execution_count": 6,
   "metadata": {},
   "outputs": [
    {
     "name": "stdout",
     "output_type": "stream",
     "text": [
      "1\t2\t3\t4\t5\t6\t7\t8\t9\t10\t11\t12\t13\t14\t15\t16\t17\t18\t19\t20\t21\t22\t23\t24\t25\t26\t27\t28\t29\t30\t31\t32\t33\t34\t35\t36\t37\t38\t39\t40\t41\t42\t43\t44\t45\t46\t47\t48\t49\t50\t51\t52\t53\t54\t55\t56\t57\t58\t59\t60\t61\t62\t63\t64\t65\t66\t67\t68\t69\t70\t71\t72\t73\t74\t75\t76\t77\t78\t79\t80\t81\t82\t83\t84\t85\t86\t87\t88\t89\t90\t91\t92\t93\t94\t95\t96\t97\t98\t99\t100\t"
     ]
    }
   ],
   "source": [
    " # 1 to 100 numbers\n",
    "for i in range(1,101):\n",
    "    print(i,end='\\t')"
   ]
  },
  {
   "cell_type": "code",
   "execution_count": 9,
   "metadata": {},
   "outputs": [
    {
     "name": "stdout",
     "output_type": "stream",
     "text": [
      "1\t3\t5\t7\t9\t11\t13\t15\t17\t19\t21\t23\t25\t27\t29\t31\t33\t35\t37\t39\t41\t43\t45\t47\t49\t51\t53\t55\t57\t59\t61\t63\t65\t67\t69\t71\t73\t75\t77\t79\t81\t83\t85\t87\t89\t91\t93\t95\t97\t99\t101\t103\t105\t107\t109\t111\t113\t115\t117\t119\t121\t123\t125\t127\t129\t131\t133\t135\t137\t139\t141\t143\t145\t147\t149\t151\t153\t155\t157\t159\t161\t163\t165\t167\t169\t171\t173\t175\t177\t179\t181\t183\t185\t187\t189\t191\t193\t195\t197\t199\t201\t203\t205\t207\t209\t211\t213\t215\t217\t219\t221\t223\t225\t227\t229\t231\t233\t235\t237\t239\t241\t243\t245\t247\t249\t251\t253\t255\t257\t259\t261\t263\t265\t267\t269\t271\t273\t275\t277\t279\t281\t283\t285\t287\t289\t291\t293\t295\t297\t299\t301\t303\t305\t307\t309\t311\t313\t315\t317\t319\t321\t323\t325\t327\t329\t331\t333\t335\t337\t339\t341\t343\t345\t347\t349\t351\t353\t355\t357\t359\t361\t363\t365\t367\t369\t371\t373\t375\t377\t379\t381\t383\t385\t387\t389\t391\t393\t395\t397\t399\t401\t403\t405\t407\t409\t411\t413\t415\t417\t419\t421\t423\t425\t427\t429\t431\t433\t435\t437\t439\t441\t443\t445\t447\t449\t451\t453\t455\t457\t459\t461\t463\t465\t467\t469\t471\t473\t475\t477\t479\t481\t483\t485\t487\t489\t491\t493\t495\t497\t499\t501\t503\t505\t507\t509\t511\t513\t515\t517\t519\t521\t523\t525\t527\t529\t531\t533\t535\t537\t539\t541\t543\t545\t547\t549\t551\t553\t555\t557\t559\t561\t563\t565\t567\t569\t571\t573\t575\t577\t579\t581\t583\t585\t587\t589\t591\t593\t595\t597\t599\t601\t603\t605\t607\t609\t611\t613\t615\t617\t619\t621\t623\t625\t627\t629\t631\t633\t635\t637\t639\t641\t643\t645\t647\t649\t651\t653\t655\t657\t659\t661\t663\t665\t667\t669\t671\t673\t675\t677\t679\t681\t683\t685\t687\t689\t691\t693\t695\t697\t699\t701\t703\t705\t707\t709\t711\t713\t715\t717\t719\t721\t723\t725\t727\t729\t731\t733\t735\t737\t739\t741\t743\t745\t747\t749\t751\t753\t755\t757\t759\t761\t763\t765\t767\t769\t771\t773\t775\t777\t779\t781\t783\t785\t787\t789\t791\t793\t795\t797\t799\t801\t803\t805\t807\t809\t811\t813\t815\t817\t819\t821\t823\t825\t827\t829\t831\t833\t835\t837\t839\t841\t843\t845\t847\t849\t851\t853\t855\t857\t859\t861\t863\t865\t867\t869\t871\t873\t875\t877\t879\t881\t883\t885\t887\t889\t891\t893\t895\t897\t899\t901\t903\t905\t907\t909\t911\t913\t915\t917\t919\t921\t923\t925\t927\t929\t931\t933\t935\t937\t939\t941\t943\t945\t947\t949\t951\t953\t955\t957\t959\t961\t963\t965\t967\t969\t971\t973\t975\t977\t979\t981\t983\t985\t987\t989\t991\t993\t995\t997\t999\t"
     ]
    }
   ],
   "source": [
    "for i in range(1,1001,2):\n",
    "    print(i,end='\\t')\n",
    "    "
   ]
  },
  {
   "cell_type": "code",
   "execution_count": 10,
   "metadata": {},
   "outputs": [
    {
     "name": "stdout",
     "output_type": "stream",
     "text": [
      "2\t4\t6\t8\t10\t12\t14\t16\t18\t20\t22\t24\t26\t28\t30\t32\t34\t36\t38\t40\t42\t44\t46\t48\t50\t52\t54\t56\t58\t60\t62\t64\t66\t68\t70\t72\t74\t76\t78\t80\t82\t84\t86\t88\t90\t92\t94\t96\t98\t100\t102\t104\t106\t108\t110\t112\t114\t116\t118\t120\t122\t124\t126\t128\t130\t132\t134\t136\t138\t140\t142\t144\t146\t148\t150\t152\t154\t156\t158\t160\t162\t164\t166\t168\t170\t172\t174\t176\t178\t180\t182\t184\t186\t188\t190\t192\t194\t196\t198\t200\t202\t204\t206\t208\t210\t212\t214\t216\t218\t220\t222\t224\t226\t228\t230\t232\t234\t236\t238\t240\t242\t244\t246\t248\t250\t252\t254\t256\t258\t260\t262\t264\t266\t268\t270\t272\t274\t276\t278\t280\t282\t284\t286\t288\t290\t292\t294\t296\t298\t300\t302\t304\t306\t308\t310\t312\t314\t316\t318\t320\t322\t324\t326\t328\t330\t332\t334\t336\t338\t340\t342\t344\t346\t348\t350\t352\t354\t356\t358\t360\t362\t364\t366\t368\t370\t372\t374\t376\t378\t380\t382\t384\t386\t388\t390\t392\t394\t396\t398\t400\t402\t404\t406\t408\t410\t412\t414\t416\t418\t420\t422\t424\t426\t428\t430\t432\t434\t436\t438\t440\t442\t444\t446\t448\t450\t452\t454\t456\t458\t460\t462\t464\t466\t468\t470\t472\t474\t476\t478\t480\t482\t484\t486\t488\t490\t492\t494\t496\t498\t500\t502\t504\t506\t508\t510\t512\t514\t516\t518\t520\t522\t524\t526\t528\t530\t532\t534\t536\t538\t540\t542\t544\t546\t548\t550\t552\t554\t556\t558\t560\t562\t564\t566\t568\t570\t572\t574\t576\t578\t580\t582\t584\t586\t588\t590\t592\t594\t596\t598\t600\t602\t604\t606\t608\t610\t612\t614\t616\t618\t620\t622\t624\t626\t628\t630\t632\t634\t636\t638\t640\t642\t644\t646\t648\t650\t652\t654\t656\t658\t660\t662\t664\t666\t668\t670\t672\t674\t676\t678\t680\t682\t684\t686\t688\t690\t692\t694\t696\t698\t700\t702\t704\t706\t708\t710\t712\t714\t716\t718\t720\t722\t724\t726\t728\t730\t732\t734\t736\t738\t740\t742\t744\t746\t748\t750\t752\t754\t756\t758\t760\t762\t764\t766\t768\t770\t772\t774\t776\t778\t780\t782\t784\t786\t788\t790\t792\t794\t796\t798\t800\t802\t804\t806\t808\t810\t812\t814\t816\t818\t820\t822\t824\t826\t828\t830\t832\t834\t836\t838\t840\t842\t844\t846\t848\t850\t852\t854\t856\t858\t860\t862\t864\t866\t868\t870\t872\t874\t876\t878\t880\t882\t884\t886\t888\t890\t892\t894\t896\t898\t900\t902\t904\t906\t908\t910\t912\t914\t916\t918\t920\t922\t924\t926\t928\t930\t932\t934\t936\t938\t940\t942\t944\t946\t948\t950\t952\t954\t956\t958\t960\t962\t964\t966\t968\t970\t972\t974\t976\t978\t980\t982\t984\t986\t988\t990\t992\t994\t996\t998\t1000\t"
     ]
    }
   ],
   "source": [
    "for i in range(1,1001):\n",
    "    if(i%2==0):\n",
    "        print(i,end='\\t')"
   ]
  },
  {
   "cell_type": "code",
   "execution_count": null,
   "metadata": {},
   "outputs": [],
   "source": [
    "# get the leap year between given range\n",
    "# starting range and ending is given as input\n",
    "start = int(input(\"Enter Starting Year : \"))\n",
    "end = int(input(\"Enter Ending Year : \"))\n",
    "for n in range(start,end+1):\n",
    "    if(n%400==0) or (n%4==0 and n%100!=0):\n",
    "        print(n,end=\" \")\n",
    "    else:\n",
    "        pass"
   ]
  },
  {
   "cell_type": "code",
   "execution_count": null,
   "metadata": {},
   "outputs": [],
   "source": [
    "# get prime no betwwen given range\n",
    "n=int(input())\n",
    "for i in range(2,n+1):\n",
    "    c=0\n",
    "    for j in range(1,i+1):\n",
    "        if i%j==0:\n",
    "            c=c+1\n",
    "    if c==2:\n",
    "        print(i,end=\" \")"
   ]
  },
  {
   "cell_type": "markdown",
   "metadata": {},
   "source": [
    "### While Loop"
   ]
  },
  {
   "cell_type": "code",
   "execution_count": 5,
   "metadata": {},
   "outputs": [
    {
     "name": "stdout",
     "output_type": "stream",
     "text": [
      "1\t2\t3\t4\t5\t6\t7\t8\t9\t10\t11\t12\t13\t14\t15\t16\t17\t18\t19\t20\t21\t22\t23\t24\t25\t26\t27\t28\t29\t30\t31\t32\t33\t34\t35\t36\t37\t38\t39\t40\t41\t42\t43\t44\t45\t46\t47\t48\t49\t50\t51\t52\t53\t54\t55\t56\t57\t58\t59\t60\t61\t62\t63\t64\t65\t66\t67\t68\t69\t70\t71\t72\t73\t74\t75\t76\t77\t78\t79\t80\t81\t82\t83\t84\t85\t86\t87\t88\t89\t90\t91\t92\t93\t94\t95\t96\t97\t98\t99\t100\t"
     ]
    }
   ],
   "source": [
    "i = 1\n",
    "while i<101:\n",
    "    print(i,end='\\t')\n",
    "    i+=1"
   ]
  },
  {
   "cell_type": "markdown",
   "metadata": {},
   "source": [
    "## Break and Continue\n",
    "- Break : To terminate the execution of the loop\n",
    "- Continue : Skip the current execution of the loop"
   ]
  },
  {
   "cell_type": "code",
   "execution_count": 6,
   "metadata": {},
   "outputs": [
    {
     "name": "stdout",
     "output_type": "stream",
     "text": [
      "1\t2\t3\t4\t5\t6\t7\t8\t9\t10\t11\t12\t13\t14\t15\t16\t17\t18\t19\t20\t21\t22\t23\t24\t25\t26\t27\t28\t29\t30\t31\t32\t33\t34\t35\t36\t37\t38\t39\t40\t41\t42\t43\t44\t45\t46\t47\t48\t49\t"
     ]
    }
   ],
   "source": [
    "# print numbers from 1 to 100 stop at 50\n",
    "for travel in range(1,101,1):\n",
    "    if travel == 50:\n",
    "        break\n",
    "    print(travel,end='\\t')"
   ]
  },
  {
   "cell_type": "code",
   "execution_count": 7,
   "metadata": {},
   "outputs": [
    {
     "name": "stdout",
     "output_type": "stream",
     "text": [
      "1\t3\t5\t7\t9\t11\t13\t15\t17\t19\t21\t23\t25\t27\t29\t31\t33\t35\t37\t39\t41\t43\t45\t47\t49\t"
     ]
    }
   ],
   "source": [
    "for travel in range(1,101,1):\n",
    "    if travel == 50:\n",
    "        break\n",
    "    elif travel%2==0:\n",
    "        continue\n",
    "    print(travel,end='\\t')"
   ]
  },
  {
   "cell_type": "code",
   "execution_count": 8,
   "metadata": {},
   "outputs": [
    {
     "name": "stdout",
     "output_type": "stream",
     "text": [
      "dfgasd\n",
      "dfgasd\n",
      "vsabv\n",
      "vsabv\n",
      "vdvd\n",
      "vdvd\n",
      "Cancel\n",
      "Loop Terminated\n"
     ]
    }
   ],
   "source": [
    "while True:\n",
    "    inp = input()\n",
    "    if inp == 'Cancel':\n",
    "        print(\"Loop Terminated\")\n",
    "        break\n",
    "    print(inp)"
   ]
  },
  {
   "cell_type": "markdown",
   "metadata": {},
   "source": [
    "### strings\n",
    "\n",
    "- group of data enclosed b/w '' \"\" ''' '''\n",
    "\n",
    "### Properties\n",
    "- immutable data type\n",
    "- it is iterable"
   ]
  },
  {
   "cell_type": "code",
   "execution_count": 10,
   "metadata": {},
   "outputs": [
    {
     "name": "stdout",
     "output_type": "stream",
     "text": [
      "I am a String\n",
      "I'm also a String\n",
      "I am \n",
      "multi\n",
      "line \n",
      "string\n"
     ]
    }
   ],
   "source": [
    "s = \"I am a String\"\n",
    "s1 = \"I'm also a String\"\n",
    "s2='''I am \n",
    "multi\n",
    "line \n",
    "string'''\n",
    "print(s)\n",
    "print(s1)\n",
    "print(s2)"
   ]
  },
  {
   "cell_type": "code",
   "execution_count": 12,
   "metadata": {},
   "outputs": [
    {
     "name": "stdout",
     "output_type": "stream",
     "text": [
      "<class 'str'> <class 'str'>\n"
     ]
    }
   ],
   "source": [
    "print(type(s),type(s2))"
   ]
  },
  {
   "cell_type": "code",
   "execution_count": 13,
   "metadata": {},
   "outputs": [
    {
     "name": "stdout",
     "output_type": "stream",
     "text": [
      "I   a m   \n",
      " m u l t i \n",
      " l i n e   \n",
      " s t r i n g "
     ]
    }
   ],
   "source": [
    "for char in s2:\n",
    "    print(char,end=\" \")"
   ]
  },
  {
   "cell_type": "code",
   "execution_count": 18,
   "metadata": {},
   "outputs": [],
   "source": [
    "s = '''A leap year (also known as an intercalary year or bissextile year) is a calendar year that contains an additional day (or, in the case of a lunisolar calendar, a month) added to keep the calendar year synchronized with the astronomical year or seasonal year.[1] Because astronomical events and seasons do not repeat in a whole number of days, calendars that have a constant number of days in each year will unavoidably drift over time with respect to the event that the year is supposed to track, such as seasons. By inserting (called intercalating in technical terminology) an additional day or month into some years, the drift between a civilization's dating system and the physical properties of the solar system can be corrected. A year that is not a leap year is a common year.\n",
    "\n",
    "\n",
    "\n",
    "For example, in the Gregorian calendar, each leap year has 366 days instead of 365, by extending February to 29 days rather than the common 28. These extra days occur in each year which is an integer multiple of 4 (except for years evenly divisible by 100, which are not leap years unless evenly divisible by 400). The leap year of 366 days has 52 weeks and two days, hence the year following a leap year will start later by two days of the week.'''"
   ]
  },
  {
   "cell_type": "code",
   "execution_count": 19,
   "metadata": {},
   "outputs": [
    {
     "data": {
      "text/plain": [
       "\"A leap year (also known as an intercalary year or bissextile year) is a calendar year that contains an additional day (or, in the case of a lunisolar calendar, a month) added to keep the calendar year synchronized with the astronomical year or seasonal year.[1] Because astronomical events and seasons do not repeat in a whole number of days, calendars that have a constant number of days in each year will unavoidably drift over time with respect to the event that the year is supposed to track, such as seasons. By inserting (called intercalating in technical terminology) an additional day or month into some years, the drift between a civilization's dating system and the physical properties of the solar system can be corrected. A year that is not a leap year is a common year.\\n\\n\\n\\nFor example, in the Gregorian calendar, each leap year has 366 days instead of 365, by extending February to 29 days rather than the common 28. These extra days occur in each year which is an integer multiple of 4 (except for years evenly divisible by 100, which are not leap years unless evenly divisible by 400). The leap year of 366 days has 52 weeks and two days, hence the year following a leap year will start later by two days of the week.\""
      ]
     },
     "execution_count": 19,
     "metadata": {},
     "output_type": "execute_result"
    }
   ],
   "source": [
    "s"
   ]
  },
  {
   "cell_type": "code",
   "execution_count": 20,
   "metadata": {},
   "outputs": [
    {
     "name": "stdout",
     "output_type": "stream",
     "text": [
      "A\t \tl\te\ta\tp\t \ty\te\ta\tr\t \t(\ta\tl\ts\to\t \tk\tn\to\tw\tn\t \ta\ts\t \ta\tn\t \ti\tn\tt\te\tr\tc\ta\tl\ta\tr\ty\t \ty\te\ta\tr\t \to\tr\t \tb\ti\ts\ts\te\tx\tt\ti\tl\te\t \ty\te\ta\tr\t)\t \ti\ts\t \ta\t \tc\ta\tl\te\tn\td\ta\tr\t \ty\te\ta\tr\t \tt\th\ta\tt\t \tc\to\tn\tt\ta\ti\tn\ts\t \ta\tn\t \ta\td\td\ti\tt\ti\to\tn\ta\tl\t \td\ta\ty\t \t(\to\tr\t,\t \ti\tn\t \tt\th\te\t \tc\ta\ts\te\t \to\tf\t \ta\t \tl\tu\tn\ti\ts\to\tl\ta\tr\t \tc\ta\tl\te\tn\td\ta\tr\t,\t \ta\t \tm\to\tn\tt\th\t)\t \ta\td\td\te\td\t \tt\to\t \tk\te\te\tp\t \tt\th\te\t \tc\ta\tl\te\tn\td\ta\tr\t \ty\te\ta\tr\t \ts\ty\tn\tc\th\tr\to\tn\ti\tz\te\td\t \tw\ti\tt\th\t \tt\th\te\t \ta\ts\tt\tr\to\tn\to\tm\ti\tc\ta\tl\t \ty\te\ta\tr\t \to\tr\t \ts\te\ta\ts\to\tn\ta\tl\t \ty\te\ta\tr\t.\t[\t1\t]\t \tB\te\tc\ta\tu\ts\te\t \ta\ts\tt\tr\to\tn\to\tm\ti\tc\ta\tl\t \te\tv\te\tn\tt\ts\t \ta\tn\td\t \ts\te\ta\ts\to\tn\ts\t \td\to\t \tn\to\tt\t \tr\te\tp\te\ta\tt\t \ti\tn\t \ta\t \tw\th\to\tl\te\t \tn\tu\tm\tb\te\tr\t \to\tf\t \td\ta\ty\ts\t,\t \tc\ta\tl\te\tn\td\ta\tr\ts\t \tt\th\ta\tt\t \th\ta\tv\te\t \ta\t \tc\to\tn\ts\tt\ta\tn\tt\t \tn\tu\tm\tb\te\tr\t \to\tf\t \td\ta\ty\ts\t \ti\tn\t \te\ta\tc\th\t \ty\te\ta\tr\t \tw\ti\tl\tl\t \tu\tn\ta\tv\to\ti\td\ta\tb\tl\ty\t \td\tr\ti\tf\tt\t \to\tv\te\tr\t \tt\ti\tm\te\t \tw\ti\tt\th\t \tr\te\ts\tp\te\tc\tt\t \tt\to\t \tt\th\te\t \te\tv\te\tn\tt\t \tt\th\ta\tt\t \tt\th\te\t \ty\te\ta\tr\t \ti\ts\t \ts\tu\tp\tp\to\ts\te\td\t \tt\to\t \tt\tr\ta\tc\tk\t,\t \ts\tu\tc\th\t \ta\ts\t \ts\te\ta\ts\to\tn\ts\t.\t \tB\ty\t \ti\tn\ts\te\tr\tt\ti\tn\tg\t \t(\tc\ta\tl\tl\te\td\t \ti\tn\tt\te\tr\tc\ta\tl\ta\tt\ti\tn\tg\t \ti\tn\t \tt\te\tc\th\tn\ti\tc\ta\tl\t \tt\te\tr\tm\ti\tn\to\tl\to\tg\ty\t)\t \ta\tn\t \ta\td\td\ti\tt\ti\to\tn\ta\tl\t \td\ta\ty\t \to\tr\t \tm\to\tn\tt\th\t \ti\tn\tt\to\t \ts\to\tm\te\t \ty\te\ta\tr\ts\t,\t \tt\th\te\t \td\tr\ti\tf\tt\t \tb\te\tt\tw\te\te\tn\t \ta\t \tc\ti\tv\ti\tl\ti\tz\ta\tt\ti\to\tn\t'\ts\t \td\ta\tt\ti\tn\tg\t \ts\ty\ts\tt\te\tm\t \ta\tn\td\t \tt\th\te\t \tp\th\ty\ts\ti\tc\ta\tl\t \tp\tr\to\tp\te\tr\tt\ti\te\ts\t \to\tf\t \tt\th\te\t \ts\to\tl\ta\tr\t \ts\ty\ts\tt\te\tm\t \tc\ta\tn\t \tb\te\t \tc\to\tr\tr\te\tc\tt\te\td\t.\t \tA\t \ty\te\ta\tr\t \tt\th\ta\tt\t \ti\ts\t \tn\to\tt\t \ta\t \tl\te\ta\tp\t \ty\te\ta\tr\t \ti\ts\t \ta\t \tc\to\tm\tm\to\tn\t \ty\te\ta\tr\t.\t\n",
      "\t\n",
      "\t\n",
      "\t\n",
      "\tF\to\tr\t \te\tx\ta\tm\tp\tl\te\t,\t \ti\tn\t \tt\th\te\t \tG\tr\te\tg\to\tr\ti\ta\tn\t \tc\ta\tl\te\tn\td\ta\tr\t,\t \te\ta\tc\th\t \tl\te\ta\tp\t \ty\te\ta\tr\t \th\ta\ts\t \t3\t6\t6\t \td\ta\ty\ts\t \ti\tn\ts\tt\te\ta\td\t \to\tf\t \t3\t6\t5\t,\t \tb\ty\t \te\tx\tt\te\tn\td\ti\tn\tg\t \tF\te\tb\tr\tu\ta\tr\ty\t \tt\to\t \t2\t9\t \td\ta\ty\ts\t \tr\ta\tt\th\te\tr\t \tt\th\ta\tn\t \tt\th\te\t \tc\to\tm\tm\to\tn\t \t2\t8\t.\t \tT\th\te\ts\te\t \te\tx\tt\tr\ta\t \td\ta\ty\ts\t \to\tc\tc\tu\tr\t \ti\tn\t \te\ta\tc\th\t \ty\te\ta\tr\t \tw\th\ti\tc\th\t \ti\ts\t \ta\tn\t \ti\tn\tt\te\tg\te\tr\t \tm\tu\tl\tt\ti\tp\tl\te\t \to\tf\t \t4\t \t(\te\tx\tc\te\tp\tt\t \tf\to\tr\t \ty\te\ta\tr\ts\t \te\tv\te\tn\tl\ty\t \td\ti\tv\ti\ts\ti\tb\tl\te\t \tb\ty\t \t1\t0\t0\t,\t \tw\th\ti\tc\th\t \ta\tr\te\t \tn\to\tt\t \tl\te\ta\tp\t \ty\te\ta\tr\ts\t \tu\tn\tl\te\ts\ts\t \te\tv\te\tn\tl\ty\t \td\ti\tv\ti\ts\ti\tb\tl\te\t \tb\ty\t \t4\t0\t0\t)\t.\t \tT\th\te\t \tl\te\ta\tp\t \ty\te\ta\tr\t \to\tf\t \t3\t6\t6\t \td\ta\ty\ts\t \th\ta\ts\t \t5\t2\t \tw\te\te\tk\ts\t \ta\tn\td\t \tt\tw\to\t \td\ta\ty\ts\t,\t \th\te\tn\tc\te\t \tt\th\te\t \ty\te\ta\tr\t \tf\to\tl\tl\to\tw\ti\tn\tg\t \ta\t \tl\te\ta\tp\t \ty\te\ta\tr\t \tw\ti\tl\tl\t \ts\tt\ta\tr\tt\t \tl\ta\tt\te\tr\t \tb\ty\t \tt\tw\to\t \td\ta\ty\ts\t \to\tf\t \tt\th\te\t \tw\te\te\tk\t.\t"
     ]
    }
   ],
   "source": [
    "for char in s:\n",
    "    print(char,end=\"\\t\")"
   ]
  },
  {
   "cell_type": "code",
   "execution_count": 21,
   "metadata": {},
   "outputs": [
    {
     "name": "stdout",
     "output_type": "stream",
     "text": [
      "A e a e a a o o a a i e a a e a o i e i e e a i a a e a e a a o a i a a i i o a a o i e a e o a u i o a a e a a o a e o e e e a e a e a o i e i e a o o i a e a o e a o a e a e a u e a o o i a e e a e a o o o e e a i a o e u e o a a e a a a e a o a u e o a i e a e a i u a o i a i o e i e i e e o e e e a e e a i u o e o a u a e a o i e i a e i e a a i i e i a e i o o a a i i o a a o o i o o e e a e i e e e a i i i a i o a i e a e i a o e i e o e o a e a e o e e A e a a i o a e a e a i a o o e a o e a e i e e o i a a e a e a e a e a a a i e a o e e i e u a o a a e a e o o e e e a a o u i e a e a i i a i e e u i e o e e o e a e e i i i e i a e o e a e a u e e e i i i e e e a e a o a a e e a o a e e e e a o o i a e a e a i a a e o a o e e e "
     ]
    }
   ],
   "source": [
    "for char in s:\n",
    "    if char in 'aeiouAEIOU':\n",
    "        print(char,end=\" \")"
   ]
  },
  {
   "cell_type": "code",
   "execution_count": 23,
   "metadata": {},
   "outputs": [
    {
     "name": "stdout",
     "output_type": "stream",
     "text": [
      "A\te\ta\te\ta\ta\to\to\ta\ta\ti\te\ta\ta\te\ta\to\ti\te\ti\te\te\ta\ti\ta\ta\te\ta\te\ta\ta\to\ta\ti\ta\ta\ti\ti\to\ta\ta\to\ti\te\ta\te\to\ta\tu\ti\to\ta\ta\te\ta\ta\to\ta\te\to\te\te\te\ta\te\ta\te\ta\to\ti\te\ti\te\ta\to\to\ti\ta\te\ta\to\te\ta\to\ta\te\ta\te\ta\tu\te\ta\to\to\ti\ta\te\te\ta\te\ta\to\to\to\te\te\ta\ti\ta\to\te\tu\te\to\ta\ta\te\ta\ta\ta\te\ta\to\ta\tu\te\to\ta\ti\te\ta\te\ta\ti\tu\ta\to\ti\ta\ti\to\te\ti\te\ti\te\te\to\te\te\te\ta\te\te\ta\ti\tu\to\te\to\ta\tu\ta\te\ta\to\ti\te\ti\ta\te\ti\te\ta\ta\ti\ti\te\ti\ta\te\ti\to\to\ta\ta\ti\ti\to\ta\ta\to\to\ti\to\to\te\te\ta\te\ti\te\te\te\ta\ti\ti\ti\ta\ti\to\ta\ti\te\ta\te\ti\ta\to\te\ti\te\to\te\to\ta\te\ta\te\to\te\te\tA\te\ta\ta\ti\to\ta\te\ta\te\ta\ti\ta\to\to\te\ta\to\te\ta\te\ti\te\te\to\ti\ta\ta\te\ta\te\ta\te\ta\te\ta\ta\ta\ti\te\ta\to\te\te\ti\te\tu\ta\to\ta\ta\te\ta\te\to\to\te\te\te\ta\ta\to\tu\ti\te\ta\te\ta\ti\ti\ta\ti\te\te\tu\ti\te\to\te\te\to\te\ta\te\te\ti\ti\ti\te\ti\ta\te\to\te\ta\te\ta\tu\te\te\te\ti\ti\ti\te\te\te\ta\te\ta\to\ta\ta\te\te\ta\to\ta\te\te\te\te\ta\to\to\ti\ta\te\ta\te\ta\ti\ta\ta\te\to\ta\to\te\te\te\t"
     ]
    }
   ],
   "source": [
    "for char in s:\n",
    "    if char == 'a' or char == 'e' or char == 'i' or char == 'o' or char == 'u' or char == 'A' or char == 'E' or char == 'I' or char == 'O' or char == 'U':\n",
    "        print(char,end='\\t')"
   ]
  },
  {
   "cell_type": "code",
   "execution_count": 24,
   "metadata": {},
   "outputs": [
    {
     "name": "stdout",
     "output_type": "stream",
     "text": [
      "2 Upper 371 Lower 859 Consonants\n"
     ]
    }
   ],
   "source": [
    "l=0\n",
    "u=0\n",
    "c=0\n",
    "for char in s:\n",
    "    if char in 'aeiou':\n",
    "        l+=1\n",
    "    elif char in 'AEIOU':\n",
    "        u+=1\n",
    "    else:\n",
    "        c+=1\n",
    "print(u,\"Upper\",l,\"Lower\",c,\"Consonants\")"
   ]
  },
  {
   "cell_type": "markdown",
   "metadata": {},
   "source": [
    "### Accessing the characters from string\n",
    "- indexing\n",
    "  - forward indexing\n",
    "  - reverse indexing\n",
    "- slicing"
   ]
  },
  {
   "cell_type": "code",
   "execution_count": 25,
   "metadata": {},
   "outputs": [
    {
     "data": {
      "text/plain": [
       "\"A leap year (also known as an intercalary year or bissextile year) is a calendar year that contains an additional day (or, in the case of a lunisolar calendar, a month) added to keep the calendar year synchronized with the astronomical year or seasonal year.[1] Because astronomical events and seasons do not repeat in a whole number of days, calendars that have a constant number of days in each year will unavoidably drift over time with respect to the event that the year is supposed to track, such as seasons. By inserting (called intercalating in technical terminology) an additional day or month into some years, the drift between a civilization's dating system and the physical properties of the solar system can be corrected. A year that is not a leap year is a common year.\\n\\n\\n\\nFor example, in the Gregorian calendar, each leap year has 366 days instead of 365, by extending February to 29 days rather than the common 28. These extra days occur in each year which is an integer multiple of 4 (except for years evenly divisible by 100, which are not leap years unless evenly divisible by 400). The leap year of 366 days has 52 weeks and two days, hence the year following a leap year will start later by two days of the week.\""
      ]
     },
     "execution_count": 25,
     "metadata": {},
     "output_type": "execute_result"
    }
   ],
   "source": [
    "s"
   ]
  },
  {
   "cell_type": "code",
   "execution_count": 26,
   "metadata": {},
   "outputs": [
    {
     "name": "stdout",
     "output_type": "stream",
     "text": [
      "A\n"
     ]
    }
   ],
   "source": [
    "print(s[0])"
   ]
  },
  {
   "cell_type": "code",
   "execution_count": 27,
   "metadata": {},
   "outputs": [
    {
     "name": "stdout",
     "output_type": "stream",
     "text": [
      "a\n"
     ]
    }
   ],
   "source": [
    "print(s[4])"
   ]
  },
  {
   "cell_type": "code",
   "execution_count": 28,
   "metadata": {},
   "outputs": [
    {
     "name": "stdout",
     "output_type": "stream",
     "text": [
      "w\n"
     ]
    }
   ],
   "source": [
    "print(s[-5])"
   ]
  },
  {
   "cell_type": "code",
   "execution_count": null,
   "metadata": {},
   "outputs": [],
   "source": []
  }
 ],
 "metadata": {
  "kernelspec": {
   "display_name": "Python 3",
   "language": "python",
   "name": "python3"
  },
  "language_info": {
   "codemirror_mode": {
    "name": "ipython",
    "version": 3
   },
   "file_extension": ".py",
   "mimetype": "text/x-python",
   "name": "python",
   "nbconvert_exporter": "python",
   "pygments_lexer": "ipython3",
   "version": "3.8.3"
  }
 },
 "nbformat": 4,
 "nbformat_minor": 4
}
