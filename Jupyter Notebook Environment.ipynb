{
 "cells": [
  {
   "cell_type": "code",
   "execution_count": 1,
   "metadata": {},
   "outputs": [
    {
     "name": "stdout",
     "output_type": "stream",
     "text": [
      "Hello World\n"
     ]
    }
   ],
   "source": [
    "print(\"Hello World\")"
   ]
  },
  {
   "cell_type": "markdown",
   "metadata": {},
   "source": [
    "# Markdown syntax\n",
    "\n",
    "## Heading2\n",
    "### Heading3\n",
    "#### Heading4\n",
    "##### Heading5\n",
    "###### Heading6\n",
    "\n",
    "<h1>Markdown Syntax</h1>"
   ]
  },
  {
   "cell_type": "markdown",
   "metadata": {},
   "source": [
    "- Python iseasy to learn\n",
    "* Python is open source\n",
    "+ Python is high level Programming language\n",
    "   - user understandable"
   ]
  },
  {
   "cell_type": "markdown",
   "metadata": {},
   "source": [
    "### Font Styles\n",
    "\n",
    "- I'm in **Bold** font style\n",
    "- I'm in __Bold__ font style\n",
    "- I'm in *Italic* font style\n",
    "- I'm in _Italic_ font style\n",
    "- I'm in both ***Italic and bold*** font style\n",
    "- I'm in both ___Italic and bold___ font style\n",
    "- I'm ~strikeoff~\n",
    "- I'm ~**strikeoff and bold**~\n",
    "- I'm ~***strikeoff,italic and bold***~"
   ]
  },
  {
   "cell_type": "markdown",
   "metadata": {},
   "source": [
    "### Image\n",
    "\n",
    "#### Syntax \n",
    "- ![Image Descrption](image path)\n",
    "![python logo](https://images.ctfassets.net/mrop88jh71hl/55rrbZfwMaURHZKAUc5oOW/9e5fe805eb03135b82e962e92169ce6d/python-programming-language.png)"
   ]
  },
  {
   "cell_type": "markdown",
   "metadata": {},
   "source": [
    "#### Insert hyperlink\n",
    "\n",
    "#### syntax:\n",
    "- [some descrption]\\(link)\n",
    "\n",
    "\n",
    "[click here to view python logo](https://images.ctfassets.net/mrop88jh71hl/55rrbZfwMaURHZKAUc5oOW/9e5fe805eb03135b82e962e92169ce6d/python-programming-language.png)\n",
    "\n",
    "\n",
    "https://images.ctfassets.net/mrop88jh71hl/55rrbZfwMaURHZKAUc5oOW/9e5fe805eb03135b82e962e92169ce6d/python-programming-language.png"
   ]
  },
  {
   "cell_type": "markdown",
   "metadata": {},
   "source": [
    "### Insert tabular data\n",
    "\n",
    "\n",
    "|Name    |Rollno|Email|\n",
    "|--------|------|-----|\n",
    "|Sravani|551|Sravani@gmail.com|\n",
    "|Sanju|24|sanju@gmail.com|"
   ]
  },
  {
   "cell_type": "markdown",
   "metadata": {},
   "source": [
    "### Inserting code\n",
    "\n",
    "### C code for Hello World\n",
    "\n",
    "```c\n",
    "#include<stdio.h>\n",
    "int main()\n",
    "{\n",
    "    printf(\"Hello World\");\n",
    "}\n",
    "```\n",
    "\n",
    "### python code\n",
    "```python\n",
    "print(\"Hello World\")\n",
    "```\n",
    "\n",
    "### HTML\n",
    "```html\n",
    "<h1>Hello</h1>\n",
    "<h2>World</h2>\n",
    "```\n",
    " ### C++\n",
    " ```c++\n",
    "#include<iostream>\n",
    "using namespace std;\n",
    "int main()\n",
    "{\n",
    "    cout<<\"Hello World\";\n",
    "}\n",
    "```"
   ]
  },
  {
   "cell_type": "markdown",
   "metadata": {},
   "source": [
    "### Quotes\n",
    "Normal\n",
    "> Sun rises in east\n",
    "\n",
    "python is `easy` to learn"
   ]
  },
  {
   "cell_type": "markdown",
   "metadata": {},
   "source": [
    "### mathematical Formulas\n",
    "\n",
    "# **$$(a+b)^2 = a^2 + b^2 + 2*a*b $$**\n",
    "\n",
    "a+b whole sq formula : $(a_1 + b_1)^2 = {a_1}^2 + 2*a_1*b_1 + {b_1}*2$\n",
    "\n",
    "- if we want to insert desc we use $\n",
    "\n",
    "\n",
    "\n",
    "$\\alpha + \\beta +\\gamma +\\kappa +\\lambda + \\iota + \\delta $\n",
    "\n",
    "\n",
    "$\\frac{a}{b}$\n",
    "\n",
    "\n",
    "$$\\begin{pmatrix} a & b \\\\ c & d \\end{pmatrix}$$"
   ]
  },
  {
   "cell_type": "code",
   "execution_count": null,
   "metadata": {},
   "outputs": [],
   "source": []
  }
 ],
 "metadata": {
  "kernelspec": {
   "display_name": "Python 3",
   "language": "python",
   "name": "python3"
  },
  "language_info": {
   "codemirror_mode": {
    "name": "ipython",
    "version": 3
   },
   "file_extension": ".py",
   "mimetype": "text/x-python",
   "name": "python",
   "nbconvert_exporter": "python",
   "pygments_lexer": "ipython3",
   "version": "3.8.3"
  }
 },
 "nbformat": 4,
 "nbformat_minor": 4
}
