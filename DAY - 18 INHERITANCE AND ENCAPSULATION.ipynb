{
 "cells": [
  {
   "cell_type": "markdown",
   "metadata": {},
   "source": [
    "### CONTENTS\n",
    "\n",
    "- Inheritance\n",
    "- Encapsulation\n",
    "- Polymorphism"
   ]
  },
  {
   "cell_type": "markdown",
   "metadata": {},
   "source": [
    "### Inheritance\n",
    "    - Capability of accessing of one class to derive(child/sub/base) or inherit the properties from some other class(parent,super).\n",
    "- Properties\n",
    "    - represents real_world relationships\n",
    "    - reusability of pre defined code\n",
    "    - transitive in nature"
   ]
  },
  {
   "cell_type": "code",
   "execution_count": 1,
   "metadata": {},
   "outputs": [],
   "source": [
    "### Single\n",
    "class Parent:\n",
    "    def f1(self):\n",
    "        print(\"Parent Class\")\n",
    "class Child(Parent):\n",
    "    def f2(self):\n",
    "        print(\"Child Class\")"
   ]
  },
  {
   "cell_type": "code",
   "execution_count": 2,
   "metadata": {},
   "outputs": [
    {
     "name": "stdout",
     "output_type": "stream",
     "text": [
      "Parent Class\n"
     ]
    }
   ],
   "source": [
    "c = Child()\n",
    "c.f1()"
   ]
  },
  {
   "cell_type": "code",
   "execution_count": 3,
   "metadata": {},
   "outputs": [
    {
     "data": {
      "text/plain": [
       "21"
      ]
     },
     "execution_count": 3,
     "metadata": {},
     "output_type": "execute_result"
    }
   ],
   "source": [
    "n=6\n",
    "(n<<1)+(n>>1)+n"
   ]
  },
  {
   "cell_type": "code",
   "execution_count": null,
   "metadata": {},
   "outputs": [],
   "source": [
    "### Multiple"
   ]
  },
  {
   "cell_type": "code",
   "execution_count": 4,
   "metadata": {},
   "outputs": [],
   "source": [
    "### Multiple\n",
    "class A:\n",
    "    def f1(self):\n",
    "        print(\"Class A\")\n",
    "class B:\n",
    "    def f2(self):\n",
    "        print(\"Class B\")\n",
    "class C(A,B):\n",
    "    def f3(self):\n",
    "        print(\"Class C\")\n",
    "        \n",
    "obj = C()"
   ]
  },
  {
   "cell_type": "code",
   "execution_count": 5,
   "metadata": {},
   "outputs": [
    {
     "name": "stdout",
     "output_type": "stream",
     "text": [
      "Class B\n"
     ]
    }
   ],
   "source": [
    "obj.f2()"
   ]
  },
  {
   "cell_type": "code",
   "execution_count": 7,
   "metadata": {},
   "outputs": [
    {
     "name": "stdout",
     "output_type": "stream",
     "text": [
      "Class A\n"
     ]
    }
   ],
   "source": [
    "obj.f1()"
   ]
  },
  {
   "cell_type": "code",
   "execution_count": 8,
   "metadata": {},
   "outputs": [
    {
     "name": "stdout",
     "output_type": "stream",
     "text": [
      "Class C\n"
     ]
    }
   ],
   "source": [
    "obj.f3()"
   ]
  },
  {
   "cell_type": "markdown",
   "metadata": {},
   "source": [
    "### Multilevel inheritance\n",
    "- features of base class and derived class are future onherited into the new derived lass"
   ]
  },
  {
   "cell_type": "code",
   "execution_count": 13,
   "metadata": {},
   "outputs": [],
   "source": [
    "class A:\n",
    "    def f1(self):\n",
    "        print(\"Class A\")\n",
    "class B(A):\n",
    "    def f2(self):\n",
    "        print(\"Class B\")\n",
    "class C(B):\n",
    "    def f3(self):\n",
    "        print(\"Class C\")\n",
    "        \n",
    "c = C()"
   ]
  },
  {
   "cell_type": "code",
   "execution_count": 14,
   "metadata": {},
   "outputs": [
    {
     "name": "stdout",
     "output_type": "stream",
     "text": [
      "Class A\n"
     ]
    }
   ],
   "source": [
    "c.f1()"
   ]
  },
  {
   "cell_type": "code",
   "execution_count": 11,
   "metadata": {},
   "outputs": [
    {
     "name": "stdout",
     "output_type": "stream",
     "text": [
      "Class B\n"
     ]
    }
   ],
   "source": [
    "obj.f2()"
   ]
  },
  {
   "cell_type": "code",
   "execution_count": 12,
   "metadata": {},
   "outputs": [
    {
     "name": "stdout",
     "output_type": "stream",
     "text": [
      "Class C\n"
     ]
    }
   ],
   "source": [
    "obj.f3()"
   ]
  },
  {
   "cell_type": "markdown",
   "metadata": {},
   "source": [
    "### Hierarchial Inheritance\n",
    "- when more than 1 derived classes inherit properties from single base(parent)"
   ]
  },
  {
   "cell_type": "code",
   "execution_count": 16,
   "metadata": {},
   "outputs": [],
   "source": [
    "class p1():\n",
    "    def fun1(self):\n",
    "        print(\"In Parent\")\n",
    "class c1(p1):\n",
    "    def fun2(self):\n",
    "        print(\"In child1 class\")\n",
    "class c2(p1):\n",
    "    def fun3(self):\n",
    "        print(\"In child2 class\")\n",
    "z1=c1()\n",
    "z2=c2()"
   ]
  },
  {
   "cell_type": "code",
   "execution_count": 17,
   "metadata": {},
   "outputs": [
    {
     "name": "stdout",
     "output_type": "stream",
     "text": [
      "In Parent\n"
     ]
    }
   ],
   "source": [
    "z1.fun1()"
   ]
  },
  {
   "cell_type": "code",
   "execution_count": 18,
   "metadata": {},
   "outputs": [
    {
     "name": "stdout",
     "output_type": "stream",
     "text": [
      "In child1 class\n"
     ]
    }
   ],
   "source": [
    "z1.fun2()"
   ]
  },
  {
   "cell_type": "code",
   "execution_count": 20,
   "metadata": {},
   "outputs": [
    {
     "name": "stdout",
     "output_type": "stream",
     "text": [
      "In child2 class\n"
     ]
    }
   ],
   "source": [
    "z2.fun3()"
   ]
  },
  {
   "cell_type": "code",
   "execution_count": 21,
   "metadata": {},
   "outputs": [
    {
     "name": "stdout",
     "output_type": "stream",
     "text": [
      "In Parent\n"
     ]
    }
   ],
   "source": [
    "z2.fun1()"
   ]
  },
  {
   "cell_type": "markdown",
   "metadata": {},
   "source": [
    "### Hybrid Inheritance\n",
    "\n",
    "- Inheritance consisting of multiple types of inheritance"
   ]
  },
  {
   "cell_type": "code",
   "execution_count": 27,
   "metadata": {},
   "outputs": [],
   "source": [
    "class clg:\n",
    "    def f1(self):\n",
    "        print(\"Fun in college class\")\n",
    "class stu1(clg):\n",
    "    def f2(self):\n",
    "        print(\"Function in student1\")\n",
    "class stu2(stu1,clg):\n",
    "    def f3(self):\n",
    "        print(\"Function in student2\")\n",
    "s=stu2()\n",
    "\n",
    "s1=stu1()"
   ]
  },
  {
   "cell_type": "code",
   "execution_count": 28,
   "metadata": {},
   "outputs": [
    {
     "name": "stdout",
     "output_type": "stream",
     "text": [
      "Fun in college class\n"
     ]
    }
   ],
   "source": [
    "s.f1()"
   ]
  },
  {
   "cell_type": "code",
   "execution_count": 29,
   "metadata": {},
   "outputs": [
    {
     "name": "stdout",
     "output_type": "stream",
     "text": [
      "Function in student1\n"
     ]
    }
   ],
   "source": [
    "s.f2()"
   ]
  },
  {
   "cell_type": "code",
   "execution_count": 30,
   "metadata": {},
   "outputs": [
    {
     "name": "stdout",
     "output_type": "stream",
     "text": [
      "Function in student2\n"
     ]
    }
   ],
   "source": [
    "s.f3()"
   ]
  },
  {
   "cell_type": "code",
   "execution_count": 31,
   "metadata": {},
   "outputs": [
    {
     "name": "stdout",
     "output_type": "stream",
     "text": [
      "Function in student1\n"
     ]
    }
   ],
   "source": [
    "s1.f2()"
   ]
  },
  {
   "cell_type": "code",
   "execution_count": 32,
   "metadata": {},
   "outputs": [
    {
     "name": "stdout",
     "output_type": "stream",
     "text": [
      "Fun in college class\n"
     ]
    }
   ],
   "source": [
    "s1.f1()"
   ]
  },
  {
   "cell_type": "markdown",
   "metadata": {},
   "source": [
    "### Data Encapsulation\n",
    "\n",
    "- wrapping with one unit\n",
    "- Restrict the accessing of variables and methods of class directly\n",
    "- to protect the data\n",
    "- Private variables\n",
    "- Private methods\n",
    "\n",
    "    - use '__' is used define private methods or private variables"
   ]
  },
  {
   "cell_type": "markdown",
   "metadata": {},
   "source": [
    "#### Private Variables"
   ]
  },
  {
   "cell_type": "code",
   "execution_count": 34,
   "metadata": {},
   "outputs": [],
   "source": [
    "class python:\n",
    "    def __init__(self):\n",
    "        self.__a='HI'\n",
    "    def view(self):\n",
    "        print(self.__a)\n",
    "    def v1(self,b):\n",
    "        self.__a=b\n",
    "        print(self.__a)\n",
    "x=python()"
   ]
  },
  {
   "cell_type": "code",
   "execution_count": 35,
   "metadata": {},
   "outputs": [
    {
     "name": "stdout",
     "output_type": "stream",
     "text": [
      "HI\n"
     ]
    }
   ],
   "source": [
    "x.view()"
   ]
  },
  {
   "cell_type": "code",
   "execution_count": 36,
   "metadata": {},
   "outputs": [
    {
     "name": "stdout",
     "output_type": "stream",
     "text": [
      "a\n"
     ]
    }
   ],
   "source": [
    "x.v1('a')"
   ]
  },
  {
   "cell_type": "code",
   "execution_count": 37,
   "metadata": {},
   "outputs": [
    {
     "name": "stdout",
     "output_type": "stream",
     "text": [
      "5456\n"
     ]
    }
   ],
   "source": [
    "x.v1(5456)"
   ]
  },
  {
   "cell_type": "code",
   "execution_count": 44,
   "metadata": {},
   "outputs": [],
   "source": [
    "class python:\n",
    "    def __init__(self):\n",
    "        self.__a='HI'\n",
    "    def view(self):\n",
    "        self.__a=60\n",
    "        print(self.__a)\n",
    "    def v1(self):\n",
    "        self.__a+=5\n",
    "        print(self.__a)\n",
    "x1=python()"
   ]
  },
  {
   "cell_type": "code",
   "execution_count": 45,
   "metadata": {},
   "outputs": [
    {
     "name": "stdout",
     "output_type": "stream",
     "text": [
      "60\n"
     ]
    }
   ],
   "source": [
    "x1.view()"
   ]
  },
  {
   "cell_type": "code",
   "execution_count": 46,
   "metadata": {},
   "outputs": [
    {
     "name": "stdout",
     "output_type": "stream",
     "text": [
      "65\n"
     ]
    }
   ],
   "source": [
    "x1.v1()"
   ]
  },
  {
   "cell_type": "code",
   "execution_count": 47,
   "metadata": {},
   "outputs": [
    {
     "ename": "AttributeError",
     "evalue": "'python' object has no attribute '__a'",
     "output_type": "error",
     "traceback": [
      "\u001b[1;31m---------------------------------------------------------------------------\u001b[0m",
      "\u001b[1;31mAttributeError\u001b[0m                            Traceback (most recent call last)",
      "\u001b[1;32m<ipython-input-47-a4c55df43e36>\u001b[0m in \u001b[0;36m<module>\u001b[1;34m\u001b[0m\n\u001b[1;32m----> 1\u001b[1;33m \u001b[0mx\u001b[0m\u001b[1;33m.\u001b[0m\u001b[0m__a\u001b[0m\u001b[1;33m\u001b[0m\u001b[1;33m\u001b[0m\u001b[0m\n\u001b[0m",
      "\u001b[1;31mAttributeError\u001b[0m: 'python' object has no attribute '__a'"
     ]
    }
   ],
   "source": [
    "x.__a"
   ]
  },
  {
   "cell_type": "code",
   "execution_count": 48,
   "metadata": {},
   "outputs": [],
   "source": [
    "class m1:\n",
    "    __a=10\n",
    "    def add(self,b):\n",
    "        s = self.__a+b\n",
    "        return s\n",
    "ob = m1()"
   ]
  },
  {
   "cell_type": "code",
   "execution_count": 49,
   "metadata": {},
   "outputs": [
    {
     "data": {
      "text/plain": [
       "75"
      ]
     },
     "execution_count": 49,
     "metadata": {},
     "output_type": "execute_result"
    }
   ],
   "source": [
    "ob.add(65)"
   ]
  },
  {
   "cell_type": "markdown",
   "metadata": {},
   "source": [
    "### Private Methods"
   ]
  },
  {
   "cell_type": "code",
   "execution_count": 51,
   "metadata": {},
   "outputs": [
    {
     "name": "stdout",
     "output_type": "stream",
     "text": [
      "update your software\n"
     ]
    }
   ],
   "source": [
    "class Car:\n",
    "    def __init__(self):\n",
    "        self.__update()\n",
    "    def drive(self):\n",
    "        print(\"driving\")\n",
    "    def __update(self):\n",
    "        print(\"update your software\")\n",
    "c= Car()"
   ]
  },
  {
   "cell_type": "code",
   "execution_count": 53,
   "metadata": {},
   "outputs": [
    {
     "name": "stdout",
     "output_type": "stream",
     "text": [
      "driving\n"
     ]
    }
   ],
   "source": [
    "c.drive()"
   ]
  },
  {
   "cell_type": "markdown",
   "metadata": {},
   "source": [
    "### Constructor in Inheritance"
   ]
  },
  {
   "cell_type": "code",
   "execution_count": 57,
   "metadata": {},
   "outputs": [
    {
     "name": "stdout",
     "output_type": "stream",
     "text": [
      "P1 constructor\n",
      "C1 constructor\n"
     ]
    }
   ],
   "source": [
    "class p1:\n",
    "    def __init__(self):\n",
    "        print(\"P1 constructor\")\n",
    "    def fun1(self):\n",
    "        print(\"In parent\")\n",
    "class c1(p1):\n",
    "    def __init__(self):\n",
    "        super().__init__()\n",
    "        print(\"C1 constructor\")\n",
    "    def fun2(self):\n",
    "        print(\"In child\")\n",
    "a1 = c1()"
   ]
  },
  {
   "cell_type": "code",
   "execution_count": 60,
   "metadata": {},
   "outputs": [
    {
     "name": "stdout",
     "output_type": "stream",
     "text": [
      "P1 constructor\n",
      "C1 constructor\n"
     ]
    }
   ],
   "source": [
    "class p1:\n",
    "    def __init__(self):\n",
    "        print(\"P1 constructor\")\n",
    "    def fun1(self):\n",
    "        print(\"In parent\")\n",
    "class p2:\n",
    "    def __init__(self):\n",
    "        print(\"P2 constructor\")\n",
    "    def fun2(self):\n",
    "        print(\"In parent fun2 \")\n",
    "class c1(p1,p2):\n",
    "    def __init__(self):\n",
    "        super().__init__()\n",
    "        print(\"C1 constructor\")\n",
    "    def fun3(self):\n",
    "        super().fun2()\n",
    "        print(\"In child fun f3\")\n",
    "a1 = c1()"
   ]
  },
  {
   "cell_type": "code",
   "execution_count": 61,
   "metadata": {},
   "outputs": [
    {
     "name": "stdout",
     "output_type": "stream",
     "text": [
      "In parent fun2 \n",
      "In child fun f3\n"
     ]
    }
   ],
   "source": [
    "a1.fun3()"
   ]
  },
  {
   "cell_type": "code",
   "execution_count": null,
   "metadata": {},
   "outputs": [],
   "source": []
  }
 ],
 "metadata": {
  "kernelspec": {
   "display_name": "Python 3",
   "language": "python",
   "name": "python3"
  },
  "language_info": {
   "codemirror_mode": {
    "name": "ipython",
    "version": 3
   },
   "file_extension": ".py",
   "mimetype": "text/x-python",
   "name": "python",
   "nbconvert_exporter": "python",
   "pygments_lexer": "ipython3",
   "version": "3.8.3"
  }
 },
 "nbformat": 4,
 "nbformat_minor": 4
}
