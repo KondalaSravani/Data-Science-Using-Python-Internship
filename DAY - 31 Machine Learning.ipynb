{
 "cells": [
  {
   "cell_type": "markdown",
   "metadata": {},
   "source": [
    "### CONTENTS\n",
    "\n",
    "- Machine Learning\n",
    "- Types of ML\n",
    "- Applications\n",
    "- Steps in Machine Learning\n",
    "- Simple Linear Regression"
   ]
  },
  {
   "cell_type": "markdown",
   "metadata": {},
   "source": [
    "- Machine Learning\n",
    "    - Arthur Samuel 1959\n",
    "    - Field of study that gives the computers the ability to learn without being explicitly programmed "
   ]
  },
  {
   "cell_type": "markdown",
   "metadata": {},
   "source": [
    "- data/input\n",
    "                         Machine Learning                     build the pattern\n",
    "- result/output"
   ]
  },
  {
   "cell_type": "markdown",
   "metadata": {},
   "source": [
    "### Types of ML\n",
    "\n",
    "- 3 types\n",
    "    - Supervised Learning\n",
    "    - Unsupervised Learning\n",
    "    - Reinforcement Learning"
   ]
  },
  {
   "cell_type": "markdown",
   "metadata": {},
   "source": [
    "- Supervised Learning\n",
    "    - Both features and Labels are given to machine inorder to train\n",
    "        - TYPES\n",
    "            - Classification ---> target is descrete\n",
    "            - Regression ---> target is continuous"
   ]
  },
  {
   "cell_type": "markdown",
   "metadata": {},
   "source": [
    "- Unsupervised Learning\n",
    "    - without knowing the label we train the data\n",
    "- Reinforcement Learning\n",
    "    - Advanced"
   ]
  },
  {
   "cell_type": "markdown",
   "metadata": {},
   "source": [
    "#### Applications\n",
    "\n",
    "- Speech Recognition\n",
    "- Email spam filtering\n",
    "- Self driving cars\n",
    "- online fraud detection\n",
    "- Recommended data"
   ]
  },
  {
   "cell_type": "markdown",
   "metadata": {},
   "source": [
    "### Steps of ML\n",
    "\n",
    "- 1.Get Data\n",
    "- 2.Clean,Prepare and Manipulate data\n",
    "- 3.Train Model\n",
    "- 4.Test Data\n",
    "- 5.Improve"
   ]
  },
  {
   "cell_type": "markdown",
   "metadata": {},
   "source": [
    "### Regression\n",
    "\n",
    "- Relationship b/w independent variable and dependent variable \n",
    "\n",
    "- 1.Simple Linear Regression\n",
    "    - Simple-one dependent variable and one independent variable\n",
    "    - Linear ---> Relationship is approx. using some st. line\n",
    "    \n",
    "    \n",
    "    \n",
    "    |                                                \n",
    "    |                                               \n",
    "    |         *\n",
    "    |       *\n",
    "    |     *\n",
    "    |   *\n",
    "    | *\n",
    "    -----------------\n",
    "\n",
    "    +ve lineared\n",
    "    \n",
    "    \n",
    "    \n",
    "    |                                                \n",
    "    | *                                              \n",
    "    |   *         \n",
    "    |     *    \n",
    "    |       *\n",
    "    |          *\n",
    "    |             *\n",
    "    --------------------\n",
    "    \n",
    "    -ve lineared"
   ]
  },
  {
   "cell_type": "markdown",
   "metadata": {},
   "source": [
    "### Simple Linear Regression\n",
    "\n",
    "- 1 feature and 1 label\n",
    "\n",
    "- Applications\n",
    "    - Management\n",
    "    - Engineering\n",
    "    - Biological Sciences"
   ]
  },
  {
   "cell_type": "markdown",
   "metadata": {},
   "source": [
    "### Import the data"
   ]
  },
  {
   "cell_type": "code",
   "execution_count": 3,
   "metadata": {},
   "outputs": [],
   "source": [
    "import pandas as pd"
   ]
  },
  {
   "cell_type": "code",
   "execution_count": 4,
   "metadata": {},
   "outputs": [
    {
     "data": {
      "text/html": [
       "<div>\n",
       "<style scoped>\n",
       "    .dataframe tbody tr th:only-of-type {\n",
       "        vertical-align: middle;\n",
       "    }\n",
       "\n",
       "    .dataframe tbody tr th {\n",
       "        vertical-align: top;\n",
       "    }\n",
       "\n",
       "    .dataframe thead th {\n",
       "        text-align: right;\n",
       "    }\n",
       "</style>\n",
       "<table border=\"1\" class=\"dataframe\">\n",
       "  <thead>\n",
       "    <tr style=\"text-align: right;\">\n",
       "      <th></th>\n",
       "      <th>Unnamed: 0</th>\n",
       "      <th>District</th>\n",
       "      <th>Salary</th>\n",
       "      <th>Age</th>\n",
       "      <th>English</th>\n",
       "      <th>Education</th>\n",
       "      <th>Gender</th>\n",
       "    </tr>\n",
       "  </thead>\n",
       "  <tbody>\n",
       "    <tr>\n",
       "      <th>0</th>\n",
       "      <td>0</td>\n",
       "      <td>Brooklyn</td>\n",
       "      <td>120000.0</td>\n",
       "      <td>31</td>\n",
       "      <td>Only language</td>\n",
       "      <td>Academic degree</td>\n",
       "      <td>Male</td>\n",
       "    </tr>\n",
       "    <tr>\n",
       "      <th>1</th>\n",
       "      <td>1</td>\n",
       "      <td>Brooklyn</td>\n",
       "      <td>45000.0</td>\n",
       "      <td>28</td>\n",
       "      <td>Only language</td>\n",
       "      <td>Academic degree</td>\n",
       "      <td>Female</td>\n",
       "    </tr>\n",
       "    <tr>\n",
       "      <th>2</th>\n",
       "      <td>2</td>\n",
       "      <td>Manhatten</td>\n",
       "      <td>85000.0</td>\n",
       "      <td>54</td>\n",
       "      <td>Only language</td>\n",
       "      <td>Academic degree</td>\n",
       "      <td>Male</td>\n",
       "    </tr>\n",
       "    <tr>\n",
       "      <th>3</th>\n",
       "      <td>3</td>\n",
       "      <td>Manhatten</td>\n",
       "      <td>12000.0</td>\n",
       "      <td>45</td>\n",
       "      <td>Only language</td>\n",
       "      <td>High school diploma</td>\n",
       "      <td>Female</td>\n",
       "    </tr>\n",
       "    <tr>\n",
       "      <th>4</th>\n",
       "      <td>4</td>\n",
       "      <td>Brooklyn</td>\n",
       "      <td>0.0</td>\n",
       "      <td>75</td>\n",
       "      <td>Very well</td>\n",
       "      <td>Academic degree</td>\n",
       "      <td>Female</td>\n",
       "    </tr>\n",
       "  </tbody>\n",
       "</table>\n",
       "</div>"
      ],
      "text/plain": [
       "   Unnamed: 0   District    Salary  Age        English            Education  \\\n",
       "0           0   Brooklyn  120000.0   31  Only language      Academic degree   \n",
       "1           1   Brooklyn   45000.0   28  Only language      Academic degree   \n",
       "2           2  Manhatten   85000.0   54  Only language      Academic degree   \n",
       "3           3  Manhatten   12000.0   45  Only language  High school diploma   \n",
       "4           4   Brooklyn       0.0   75      Very well      Academic degree   \n",
       "\n",
       "   Gender  \n",
       "0    Male  \n",
       "1  Female  \n",
       "2    Male  \n",
       "3  Female  \n",
       "4  Female  "
      ]
     },
     "execution_count": 4,
     "metadata": {},
     "output_type": "execute_result"
    }
   ],
   "source": [
    "df = pd.read_csv(\"https://raw.githubusercontent.com/AP-State-Skill-Development-Corporation/Datasets/master/Regression/salary.csv\")\n",
    "df.head()"
   ]
  },
  {
   "cell_type": "code",
   "execution_count": null,
   "metadata": {},
   "outputs": [],
   "source": []
  }
 ],
 "metadata": {
  "kernelspec": {
   "display_name": "Python 3",
   "language": "python",
   "name": "python3"
  },
  "language_info": {
   "codemirror_mode": {
    "name": "ipython",
    "version": 3
   },
   "file_extension": ".py",
   "mimetype": "text/x-python",
   "name": "python",
   "nbconvert_exporter": "python",
   "pygments_lexer": "ipython3",
   "version": "3.8.3"
  }
 },
 "nbformat": 4,
 "nbformat_minor": 4
}
