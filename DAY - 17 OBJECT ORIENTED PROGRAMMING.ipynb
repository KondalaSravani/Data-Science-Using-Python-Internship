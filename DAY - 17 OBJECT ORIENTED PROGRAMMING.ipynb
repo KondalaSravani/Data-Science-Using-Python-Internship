{
 "cells": [
  {
   "cell_type": "markdown",
   "metadata": {},
   "source": [
    "### CONTENTS\n",
    "\n",
    "- Iterators\n",
    "- Generators\n",
    "- OOP"
   ]
  },
  {
   "cell_type": "markdown",
   "metadata": {},
   "source": [
    "### Iterators --> Space is saved\n",
    "\n",
    "- When to use --> when we want to save some memory\n",
    "     - After execution it will be removed\n",
    "    \n",
    "\n",
    "- list,string,tuple,set,dictionary"
   ]
  },
  {
   "cell_type": "markdown",
   "metadata": {},
   "source": [
    "100 lines of code\n",
    "\n",
    "string with 50 characters\n",
    "\n",
    "50 lines I need 25 characters\n",
    "\n",
    "100 I need 25 characters"
   ]
  },
  {
   "cell_type": "code",
   "execution_count": 1,
   "metadata": {},
   "outputs": [],
   "source": [
    "s1 = \"\"\"Python is an interpreted high-level general-purpose programming language. Python's design philosophy emphasizes code readability with its notable use of significant indentation. Wikipedia\n",
    "Developer: Python Software Foundation\n",
    "Stable release: 3.9.5 / 3 May 2021; 19 days ago\n",
    "Preview release: 3.10.0b1 / 3 May 2021; 19 days ago\n",
    "Typing discipline: Duck, dynamic, strong typing; gradual (since 3.5, but ignored in CPython)\n",
    "First appeared: February 1991; 30 years ago\n",
    "Paradigm: Multi-paradigm: object-oriented, procedural (imperative), functional, structured, reflective\n",
    "\"\"\""
   ]
  },
  {
   "cell_type": "code",
   "execution_count": 2,
   "metadata": {},
   "outputs": [
    {
     "name": "stdout",
     "output_type": "stream",
     "text": [
      "<str_iterator object at 0x000002DD60F72A90>\n"
     ]
    }
   ],
   "source": [
    "it = iter(s1)\n",
    "\n",
    "print(it)"
   ]
  },
  {
   "cell_type": "code",
   "execution_count": 3,
   "metadata": {},
   "outputs": [
    {
     "data": {
      "text/plain": [
       "'P'"
      ]
     },
     "execution_count": 3,
     "metadata": {},
     "output_type": "execute_result"
    }
   ],
   "source": [
    "next(it)"
   ]
  },
  {
   "cell_type": "code",
   "execution_count": 4,
   "metadata": {},
   "outputs": [
    {
     "name": "stdout",
     "output_type": "stream",
     "text": [
      "y\n"
     ]
    }
   ],
   "source": [
    "print(next(it))"
   ]
  },
  {
   "cell_type": "code",
   "execution_count": 5,
   "metadata": {},
   "outputs": [
    {
     "name": "stdout",
     "output_type": "stream",
     "text": [
      "t\n",
      "h\n",
      "o\n",
      "n\n",
      " \n",
      "i\n",
      "s\n",
      " \n",
      "a\n",
      "n\n"
     ]
    }
   ],
   "source": [
    "for i in range(10):\n",
    "    print(next(it))"
   ]
  },
  {
   "cell_type": "code",
   "execution_count": 6,
   "metadata": {},
   "outputs": [
    {
     "data": {
      "text/plain": [
       "' '"
      ]
     },
     "execution_count": 6,
     "metadata": {},
     "output_type": "execute_result"
    }
   ],
   "source": [
    "next(it)"
   ]
  },
  {
   "cell_type": "code",
   "execution_count": 7,
   "metadata": {},
   "outputs": [
    {
     "data": {
      "text/plain": [
       "'i'"
      ]
     },
     "execution_count": 7,
     "metadata": {},
     "output_type": "execute_result"
    }
   ],
   "source": [
    "next(it)"
   ]
  },
  {
   "cell_type": "code",
   "execution_count": 8,
   "metadata": {},
   "outputs": [],
   "source": [
    "it1 = iter('Python')"
   ]
  },
  {
   "cell_type": "code",
   "execution_count": 9,
   "metadata": {},
   "outputs": [],
   "source": [
    "it2 = 'python'"
   ]
  },
  {
   "cell_type": "code",
   "execution_count": 10,
   "metadata": {},
   "outputs": [
    {
     "name": "stdout",
     "output_type": "stream",
     "text": [
      "P\n",
      "y\n",
      "t\n",
      "h\n",
      "o\n",
      "n\n"
     ]
    }
   ],
   "source": [
    "for i in it1:\n",
    "    print(i)"
   ]
  },
  {
   "cell_type": "code",
   "execution_count": 11,
   "metadata": {},
   "outputs": [
    {
     "name": "stdout",
     "output_type": "stream",
     "text": [
      "p\n",
      "y\n",
      "t\n",
      "h\n",
      "o\n",
      "n\n"
     ]
    }
   ],
   "source": [
    "for j in it2:\n",
    "    print(j)"
   ]
  },
  {
   "cell_type": "code",
   "execution_count": 12,
   "metadata": {},
   "outputs": [
    {
     "ename": "TypeError",
     "evalue": "'str' object is not an iterator",
     "output_type": "error",
     "traceback": [
      "\u001b[1;31m---------------------------------------------------------------------------\u001b[0m",
      "\u001b[1;31mTypeError\u001b[0m                                 Traceback (most recent call last)",
      "\u001b[1;32m<ipython-input-12-b917263ed684>\u001b[0m in \u001b[0;36m<module>\u001b[1;34m\u001b[0m\n\u001b[1;32m----> 1\u001b[1;33m \u001b[0mprint\u001b[0m\u001b[1;33m(\u001b[0m\u001b[0mnext\u001b[0m\u001b[1;33m(\u001b[0m\u001b[0mit2\u001b[0m\u001b[1;33m)\u001b[0m\u001b[1;33m)\u001b[0m\u001b[1;33m\u001b[0m\u001b[1;33m\u001b[0m\u001b[0m\n\u001b[0m",
      "\u001b[1;31mTypeError\u001b[0m: 'str' object is not an iterator"
     ]
    }
   ],
   "source": [
    "print(next(it2)) # data will be deleted"
   ]
  },
  {
   "cell_type": "code",
   "execution_count": 13,
   "metadata": {},
   "outputs": [],
   "source": [
    "li = [1,2,3,4,5,6]\n",
    "li2 = iter([1,2,3,4,5,6])"
   ]
  },
  {
   "cell_type": "code",
   "execution_count": 14,
   "metadata": {},
   "outputs": [
    {
     "name": "stdout",
     "output_type": "stream",
     "text": [
      "[1, 2, 3, 4, 5, 6] <list_iterator object at 0x000002DD60F7ECA0>\n"
     ]
    }
   ],
   "source": [
    "print(li,li2)"
   ]
  },
  {
   "cell_type": "code",
   "execution_count": 15,
   "metadata": {},
   "outputs": [
    {
     "data": {
      "text/plain": [
       "1"
      ]
     },
     "execution_count": 15,
     "metadata": {},
     "output_type": "execute_result"
    }
   ],
   "source": [
    "next(li2)"
   ]
  },
  {
   "cell_type": "code",
   "execution_count": 17,
   "metadata": {},
   "outputs": [
    {
     "data": {
      "text/plain": [
       "2"
      ]
     },
     "execution_count": 17,
     "metadata": {},
     "output_type": "execute_result"
    }
   ],
   "source": [
    "next(li2)"
   ]
  },
  {
   "cell_type": "code",
   "execution_count": 18,
   "metadata": {},
   "outputs": [
    {
     "data": {
      "text/plain": [
       "3"
      ]
     },
     "execution_count": 18,
     "metadata": {},
     "output_type": "execute_result"
    }
   ],
   "source": [
    "next(li2)"
   ]
  },
  {
   "cell_type": "code",
   "execution_count": 19,
   "metadata": {},
   "outputs": [
    {
     "data": {
      "text/plain": [
       "4"
      ]
     },
     "execution_count": 19,
     "metadata": {},
     "output_type": "execute_result"
    }
   ],
   "source": [
    "next(li2)"
   ]
  },
  {
   "cell_type": "code",
   "execution_count": 20,
   "metadata": {},
   "outputs": [
    {
     "data": {
      "text/plain": [
       "5"
      ]
     },
     "execution_count": 20,
     "metadata": {},
     "output_type": "execute_result"
    }
   ],
   "source": [
    "next(li2)"
   ]
  },
  {
   "cell_type": "code",
   "execution_count": 21,
   "metadata": {},
   "outputs": [
    {
     "data": {
      "text/plain": [
       "6"
      ]
     },
     "execution_count": 21,
     "metadata": {},
     "output_type": "execute_result"
    }
   ],
   "source": [
    "next(li2)"
   ]
  },
  {
   "cell_type": "code",
   "execution_count": 22,
   "metadata": {},
   "outputs": [
    {
     "ename": "StopIteration",
     "evalue": "",
     "output_type": "error",
     "traceback": [
      "\u001b[1;31m---------------------------------------------------------------------------\u001b[0m",
      "\u001b[1;31mStopIteration\u001b[0m                             Traceback (most recent call last)",
      "\u001b[1;32m<ipython-input-22-a51a8cea1203>\u001b[0m in \u001b[0;36m<module>\u001b[1;34m\u001b[0m\n\u001b[1;32m----> 1\u001b[1;33m \u001b[0mnext\u001b[0m\u001b[1;33m(\u001b[0m\u001b[0mli2\u001b[0m\u001b[1;33m)\u001b[0m\u001b[1;33m\u001b[0m\u001b[1;33m\u001b[0m\u001b[0m\n\u001b[0m",
      "\u001b[1;31mStopIteration\u001b[0m: "
     ]
    }
   ],
   "source": [
    "next(li2)"
   ]
  },
  {
   "cell_type": "code",
   "execution_count": 24,
   "metadata": {},
   "outputs": [],
   "source": [
    "li2 = iter([1,2,3,4,5,6])"
   ]
  },
  {
   "cell_type": "code",
   "execution_count": 25,
   "metadata": {},
   "outputs": [
    {
     "name": "stdout",
     "output_type": "stream",
     "text": [
      "1\n",
      "2\n",
      "3\n"
     ]
    }
   ],
   "source": [
    "for i in range(3):\n",
    "    print(next(li2))"
   ]
  },
  {
   "cell_type": "code",
   "execution_count": 26,
   "metadata": {},
   "outputs": [
    {
     "name": "stdout",
     "output_type": "stream",
     "text": [
      "4\n",
      "5\n",
      "6\n"
     ]
    }
   ],
   "source": [
    "for i in range(3):\n",
    "    print(next(li2))"
   ]
  },
  {
   "cell_type": "code",
   "execution_count": 27,
   "metadata": {},
   "outputs": [
    {
     "ename": "StopIteration",
     "evalue": "",
     "output_type": "error",
     "traceback": [
      "\u001b[1;31m---------------------------------------------------------------------------\u001b[0m",
      "\u001b[1;31mStopIteration\u001b[0m                             Traceback (most recent call last)",
      "\u001b[1;32m<ipython-input-27-9c42caeb07b7>\u001b[0m in \u001b[0;36m<module>\u001b[1;34m\u001b[0m\n\u001b[0;32m      1\u001b[0m \u001b[1;32mfor\u001b[0m \u001b[0mi\u001b[0m \u001b[1;32min\u001b[0m \u001b[0mrange\u001b[0m\u001b[1;33m(\u001b[0m\u001b[1;36m3\u001b[0m\u001b[1;33m)\u001b[0m\u001b[1;33m:\u001b[0m\u001b[1;33m\u001b[0m\u001b[1;33m\u001b[0m\u001b[0m\n\u001b[1;32m----> 2\u001b[1;33m     \u001b[0mprint\u001b[0m\u001b[1;33m(\u001b[0m\u001b[0mnext\u001b[0m\u001b[1;33m(\u001b[0m\u001b[0mli2\u001b[0m\u001b[1;33m)\u001b[0m\u001b[1;33m)\u001b[0m\u001b[1;33m\u001b[0m\u001b[1;33m\u001b[0m\u001b[0m\n\u001b[0m",
      "\u001b[1;31mStopIteration\u001b[0m: "
     ]
    }
   ],
   "source": [
    "for i in range(3):\n",
    "    print(next(li2))"
   ]
  },
  {
   "cell_type": "markdown",
   "metadata": {},
   "source": [
    "### Generator"
   ]
  },
  {
   "cell_type": "code",
   "execution_count": 38,
   "metadata": {},
   "outputs": [],
   "source": [
    "def gen():\n",
    "    a=10\n",
    "    yield a # stops at particular point of time and again executes\n",
    "    \n",
    "    a**=5\n",
    "    yield a\n",
    "    \n",
    "    a**=10\n",
    "    yield a\n"
   ]
  },
  {
   "cell_type": "code",
   "execution_count": 39,
   "metadata": {},
   "outputs": [],
   "source": [
    "g=gen()"
   ]
  },
  {
   "cell_type": "code",
   "execution_count": 40,
   "metadata": {},
   "outputs": [
    {
     "data": {
      "text/plain": [
       "10"
      ]
     },
     "execution_count": 40,
     "metadata": {},
     "output_type": "execute_result"
    }
   ],
   "source": [
    "next(g)"
   ]
  },
  {
   "cell_type": "code",
   "execution_count": 41,
   "metadata": {},
   "outputs": [
    {
     "data": {
      "text/plain": [
       "100000"
      ]
     },
     "execution_count": 41,
     "metadata": {},
     "output_type": "execute_result"
    }
   ],
   "source": [
    "next(g)"
   ]
  },
  {
   "cell_type": "code",
   "execution_count": 42,
   "metadata": {},
   "outputs": [
    {
     "data": {
      "text/plain": [
       "100000000000000000000000000000000000000000000000000"
      ]
     },
     "execution_count": 42,
     "metadata": {},
     "output_type": "execute_result"
    }
   ],
   "source": [
    "next(g)"
   ]
  },
  {
   "cell_type": "code",
   "execution_count": 43,
   "metadata": {},
   "outputs": [
    {
     "ename": "StopIteration",
     "evalue": "",
     "output_type": "error",
     "traceback": [
      "\u001b[1;31m---------------------------------------------------------------------------\u001b[0m",
      "\u001b[1;31mStopIteration\u001b[0m                             Traceback (most recent call last)",
      "\u001b[1;32m<ipython-input-43-e734f8aca5ac>\u001b[0m in \u001b[0;36m<module>\u001b[1;34m\u001b[0m\n\u001b[1;32m----> 1\u001b[1;33m \u001b[0mnext\u001b[0m\u001b[1;33m(\u001b[0m\u001b[0mg\u001b[0m\u001b[1;33m)\u001b[0m\u001b[1;33m\u001b[0m\u001b[1;33m\u001b[0m\u001b[0m\n\u001b[0m",
      "\u001b[1;31mStopIteration\u001b[0m: "
     ]
    }
   ],
   "source": [
    "next(g)"
   ]
  },
  {
   "cell_type": "code",
   "execution_count": 44,
   "metadata": {},
   "outputs": [
    {
     "name": "stdout",
     "output_type": "stream",
     "text": [
      "<generator object <genexpr> at 0x000002DD61067F90>\n"
     ]
    }
   ],
   "source": [
    "t1 = (i for i in range(100))\n",
    "print(t1)"
   ]
  },
  {
   "cell_type": "code",
   "execution_count": 45,
   "metadata": {},
   "outputs": [
    {
     "data": {
      "text/plain": [
       "0"
      ]
     },
     "execution_count": 45,
     "metadata": {},
     "output_type": "execute_result"
    }
   ],
   "source": [
    "next(t1)"
   ]
  },
  {
   "cell_type": "code",
   "execution_count": 46,
   "metadata": {},
   "outputs": [
    {
     "data": {
      "text/plain": [
       "1"
      ]
     },
     "execution_count": 46,
     "metadata": {},
     "output_type": "execute_result"
    }
   ],
   "source": [
    "next(t1)"
   ]
  },
  {
   "cell_type": "code",
   "execution_count": 47,
   "metadata": {},
   "outputs": [
    {
     "data": {
      "text/plain": [
       "2"
      ]
     },
     "execution_count": 47,
     "metadata": {},
     "output_type": "execute_result"
    }
   ],
   "source": [
    "next(t1)"
   ]
  },
  {
   "cell_type": "code",
   "execution_count": 52,
   "metadata": {},
   "outputs": [],
   "source": [
    "li=range(0,100)"
   ]
  },
  {
   "cell_type": "code",
   "execution_count": 53,
   "metadata": {},
   "outputs": [
    {
     "name": "stdout",
     "output_type": "stream",
     "text": [
      "0\n",
      "1\n",
      "2\n",
      "3\n",
      "4\n",
      "5\n",
      "6\n",
      "7\n",
      "8\n",
      "9\n",
      "10\n"
     ]
    }
   ],
   "source": [
    "for i in li:\n",
    "    print(i)\n",
    "    if i==10:\n",
    "        break"
   ]
  },
  {
   "cell_type": "code",
   "execution_count": 54,
   "metadata": {},
   "outputs": [
    {
     "name": "stdout",
     "output_type": "stream",
     "text": [
      "3\n",
      "4\n",
      "5\n",
      "6\n",
      "7\n",
      "8\n",
      "9\n",
      "10\n"
     ]
    }
   ],
   "source": [
    "for i in t1:\n",
    "    print(i)\n",
    "    if i==10:\n",
    "        break"
   ]
  },
  {
   "cell_type": "markdown",
   "metadata": {},
   "source": [
    "### Object Oriented Programming In Python\n",
    "\n",
    "- Attribute : Variables created inside class\n",
    "- Method : Funtion created inside class\n",
    "- Class : Blueprint(design) of an object \n",
    "- Object : Instance of the class\n",
    "\n",
    "\n",
    "\n",
    "### Structure\n",
    "\n",
    "```python\n",
    "class ClassName:\n",
    "    \"\"\" Doc String\"\"\"\n",
    "    Attributes\n",
    "    Methods\n",
    "```"
   ]
  },
  {
   "cell_type": "code",
   "execution_count": 56,
   "metadata": {},
   "outputs": [],
   "source": [
    "class Student:\n",
    "    \"\"\"This is the blueprint created for student id card\"\"\"\n",
    "    pass"
   ]
  },
  {
   "cell_type": "code",
   "execution_count": 59,
   "metadata": {},
   "outputs": [
    {
     "name": "stdout",
     "output_type": "stream",
     "text": [
      "<__main__.Student object at 0x000002DD61F0BD30>\n"
     ]
    }
   ],
   "source": [
    "s = Student()\n",
    "print(s)"
   ]
  },
  {
   "cell_type": "code",
   "execution_count": 60,
   "metadata": {},
   "outputs": [
    {
     "data": {
      "text/plain": [
       "'This is the blueprint created for student id card'"
      ]
     },
     "execution_count": 60,
     "metadata": {},
     "output_type": "execute_result"
    }
   ],
   "source": [
    "s.__doc__"
   ]
  },
  {
   "cell_type": "code",
   "execution_count": 61,
   "metadata": {},
   "outputs": [],
   "source": [
    "class Student:\n",
    "    \"\"\"This is the blueprint created for student id card\"\"\"\n",
    "    college = 'GVP'\n",
    "    Branch = 'CSE'\n",
    "    collegeAddress = 'Vishakapatnam',\"Vijayawada\""
   ]
  },
  {
   "cell_type": "code",
   "execution_count": 62,
   "metadata": {},
   "outputs": [],
   "source": [
    "s1 = Student()\n",
    "s2 = Student()"
   ]
  },
  {
   "cell_type": "code",
   "execution_count": 63,
   "metadata": {},
   "outputs": [
    {
     "data": {
      "text/plain": [
       "'GVP'"
      ]
     },
     "execution_count": 63,
     "metadata": {},
     "output_type": "execute_result"
    }
   ],
   "source": [
    "s1.college"
   ]
  },
  {
   "cell_type": "code",
   "execution_count": 64,
   "metadata": {},
   "outputs": [
    {
     "data": {
      "text/plain": [
       "'CSE'"
      ]
     },
     "execution_count": 64,
     "metadata": {},
     "output_type": "execute_result"
    }
   ],
   "source": [
    "s1.Branch"
   ]
  },
  {
   "cell_type": "code",
   "execution_count": 65,
   "metadata": {},
   "outputs": [
    {
     "data": {
      "text/plain": [
       "('Vishakapatnam', 'Vijayawada')"
      ]
     },
     "execution_count": 65,
     "metadata": {},
     "output_type": "execute_result"
    }
   ],
   "source": [
    "s1.collegeAddress"
   ]
  },
  {
   "cell_type": "code",
   "execution_count": 66,
   "metadata": {},
   "outputs": [
    {
     "name": "stdout",
     "output_type": "stream",
     "text": [
      "GVP\n",
      "CSE\n",
      "('Vishakapatnam', 'Vijayawada')\n"
     ]
    }
   ],
   "source": [
    "print(s2.college)\n",
    "print(s2.Branch)\n",
    "print(s2.collegeAddress)"
   ]
  },
  {
   "cell_type": "code",
   "execution_count": 73,
   "metadata": {},
   "outputs": [],
   "source": [
    "class Student:\n",
    "    \"\"\"This is the blueprint created for student id card\"\"\"\n",
    "    college = 'GVP'\n",
    "    Branch = 'CSE'\n",
    "    collegeAddress = 'Vishakapatnam,Vijayawada'\n",
    "    def __init__(self,name,rollNo,mobile): # dendur init,constructer,instance method,initializer\n",
    "        self.name =  name\n",
    "        self.rollNo = rollNo\n",
    "        self.mobile = mobile\n",
    "        print(\"{} Student object is created\".format(self.name))"
   ]
  },
  {
   "cell_type": "code",
   "execution_count": 74,
   "metadata": {},
   "outputs": [
    {
     "name": "stdout",
     "output_type": "stream",
     "text": [
      "Python Student object is created\n",
      "Programming Student object is created\n"
     ]
    }
   ],
   "source": [
    "s1 = Student('Python','123456','9876543210')\n",
    "s2 = Student('Programming','123457','9812763450')"
   ]
  },
  {
   "cell_type": "code",
   "execution_count": 75,
   "metadata": {},
   "outputs": [
    {
     "name": "stdout",
     "output_type": "stream",
     "text": [
      "<__main__.Student object at 0x000002DD61F1BE20> <__main__.Student object at 0x000002DD61F1B1C0>\n"
     ]
    }
   ],
   "source": [
    "print(s1,s2)"
   ]
  },
  {
   "cell_type": "code",
   "execution_count": 76,
   "metadata": {},
   "outputs": [
    {
     "data": {
      "text/plain": [
       "'Python'"
      ]
     },
     "execution_count": 76,
     "metadata": {},
     "output_type": "execute_result"
    }
   ],
   "source": [
    "s1.name"
   ]
  },
  {
   "cell_type": "code",
   "execution_count": 77,
   "metadata": {},
   "outputs": [
    {
     "data": {
      "text/plain": [
       "'Programming'"
      ]
     },
     "execution_count": 77,
     "metadata": {},
     "output_type": "execute_result"
    }
   ],
   "source": [
    "s2.name"
   ]
  },
  {
   "cell_type": "code",
   "execution_count": 98,
   "metadata": {},
   "outputs": [],
   "source": [
    "class Student:\n",
    "    \"\"\"This is the blueprint created for student data\"\"\"\n",
    "    college = 'GVP'\n",
    "    Branch = 'CSE'\n",
    "    collegeAddress = 'Vishakapatnam,Vijayawada'\n",
    "    def __init__(self,name,rollNo,mobile,python,java): # dendur init,constructer,instance method,initializer\n",
    "        self.name =  name\n",
    "        self.rollNo = rollNo\n",
    "        self.mobile = mobile\n",
    "        self.python = python\n",
    "        self.java = java\n",
    "        print(\"{} Student object is created\".format(self.name))\n",
    "    def average(self):\n",
    "        avg=(self.python+self.java)/2\n",
    "        return avg\n",
    "    def py_status(self):\n",
    "        if self.python>=40:\n",
    "            print(\"You have Passed in Python\")\n",
    "        else:\n",
    "            print(\"Fail\")\n",
    "    def java_status(self):\n",
    "        if self.python>=40:\n",
    "            print(\"You have Passed in Java\")\n",
    "        else:\n",
    "            print(\"Fail\")"
   ]
  },
  {
   "cell_type": "code",
   "execution_count": 99,
   "metadata": {},
   "outputs": [
    {
     "name": "stdout",
     "output_type": "stream",
     "text": [
      "Python Student object is created\n",
      "Programming Student object is created\n"
     ]
    }
   ],
   "source": [
    "s1 = Student('Python','123456','9876543210',86,65)\n",
    "s2 = Student('Programming','123457','9812763450',34,89)"
   ]
  },
  {
   "cell_type": "code",
   "execution_count": 100,
   "metadata": {},
   "outputs": [
    {
     "data": {
      "text/plain": [
       "75.5"
      ]
     },
     "execution_count": 100,
     "metadata": {},
     "output_type": "execute_result"
    }
   ],
   "source": [
    "s1.average()"
   ]
  },
  {
   "cell_type": "code",
   "execution_count": 97,
   "metadata": {},
   "outputs": [
    {
     "name": "stdout",
     "output_type": "stream",
     "text": [
      "You have Passed in Python\n"
     ]
    }
   ],
   "source": [
    "s1.py_status()"
   ]
  },
  {
   "cell_type": "code",
   "execution_count": 101,
   "metadata": {},
   "outputs": [
    {
     "data": {
      "text/plain": [
       "61.5"
      ]
     },
     "execution_count": 101,
     "metadata": {},
     "output_type": "execute_result"
    }
   ],
   "source": [
    "s2.average()"
   ]
  },
  {
   "cell_type": "code",
   "execution_count": 87,
   "metadata": {},
   "outputs": [],
   "source": [
    "class Student:\n",
    "    \"\"\"This is the blueprint created for student data\"\"\"\n",
    "    college = 'GVP'\n",
    "    Branch = 'CSE'\n",
    "    collegeAddress = 'Vishakapatnam,Vijayawada'\n",
    "    def __init__(self,name,rollNo,mobile,python,java): # dendur init,constructer,instance method,initializer\n",
    "        self.name =  name\n",
    "        self.rollNo = rollNo\n",
    "        self.mobile = mobile\n",
    "        self.python = python\n",
    "        self.java = java\n",
    "        print(\"{} Student object is created\".format(self.name))\n",
    "    def average(self):\n",
    "        avg=(self.python+self.java)/2\n",
    "        return avg\n",
    "    def py_status(self,PyaddOn):\n",
    "        self.python+=PyaddOn\n",
    "        if self.python>=40:\n",
    "            print(\"You have Passed in Python\")\n",
    "        else:\n",
    "            print(\"Fail\")\n",
    "    def java_status(self,JaddOn):\n",
    "        self.java+=JaddOn\n",
    "        if self.python>=40:\n",
    "            print(\"You have Passed in Java\")\n",
    "        else:\n",
    "            print(\"Fail\")"
   ]
  },
  {
   "cell_type": "code",
   "execution_count": 88,
   "metadata": {
    "scrolled": true
   },
   "outputs": [
    {
     "name": "stdout",
     "output_type": "stream",
     "text": [
      "Python Student object is created\n",
      "Programming Student object is created\n"
     ]
    }
   ],
   "source": [
    "s1 = Student('Python','123456','9876543210',35,65)\n",
    "s2 = Student('Programming','123457','9812763450',65,35)"
   ]
  },
  {
   "cell_type": "code",
   "execution_count": 89,
   "metadata": {},
   "outputs": [
    {
     "name": "stdout",
     "output_type": "stream",
     "text": [
      "You have Passed in Python\n"
     ]
    }
   ],
   "source": [
    "s1.py_status(5)"
   ]
  },
  {
   "cell_type": "code",
   "execution_count": 90,
   "metadata": {},
   "outputs": [
    {
     "data": {
      "text/plain": [
       "40"
      ]
     },
     "execution_count": 90,
     "metadata": {},
     "output_type": "execute_result"
    }
   ],
   "source": [
    "s1.python"
   ]
  },
  {
   "cell_type": "code",
   "execution_count": 91,
   "metadata": {},
   "outputs": [
    {
     "name": "stdout",
     "output_type": "stream",
     "text": [
      "You have Passed in Python\n"
     ]
    }
   ],
   "source": [
    "s2.py_status(0)"
   ]
  },
  {
   "cell_type": "code",
   "execution_count": 103,
   "metadata": {},
   "outputs": [],
   "source": [
    "class Student:\n",
    "    \"\"\"This is the blueprint created for student data\"\"\"\n",
    "    college = 'GVP'\n",
    "    Branch = 'CSE'\n",
    "    collegeAddress = 'Vishakapatnam,Vijayawada'\n",
    "    def __init__(self,name,rollNo,mobile,python,java): # dendur init,constructer,instance method,initializer\n",
    "        self.name =  name\n",
    "        self.rollNo = rollNo\n",
    "        self.mobile = mobile\n",
    "        self.python = python\n",
    "        self.java = java\n",
    "        print(\"{} Student object is created\".format(self.name))\n",
    "    def average(self):\n",
    "        avg=(self.python+self.java)/2\n",
    "        return avg\n",
    "    def py_status(self,PyaddOn):\n",
    "        self.python+=PyaddOn\n",
    "        if self.python>=40:\n",
    "            print(\"You have Passed in Python\")\n",
    "        else:\n",
    "            print(\"Fail\")\n",
    "    def java_status(self,JaddOn):\n",
    "        self.java+=JaddOn\n",
    "        if self.python>=40:\n",
    "            print(\"You have Passed in Java\")\n",
    "        else:\n",
    "            print(\"Fail\")\n",
    "            \n",
    "    def __str__(self):\n",
    "        return \"This class belongs to {}\".format(self.name)\n",
    "        "
   ]
  },
  {
   "cell_type": "code",
   "execution_count": 104,
   "metadata": {},
   "outputs": [
    {
     "name": "stdout",
     "output_type": "stream",
     "text": [
      "Python Student object is created\n",
      "Programming Student object is created\n"
     ]
    }
   ],
   "source": [
    "s1 = Student('Python','123456','9876543210',35,65)\n",
    "s2 = Student('Programming','123457','9812763450',65,35)"
   ]
  },
  {
   "cell_type": "code",
   "execution_count": 105,
   "metadata": {},
   "outputs": [
    {
     "ename": "AttributeError",
     "evalue": "'Student' object has no attribute 'str'",
     "output_type": "error",
     "traceback": [
      "\u001b[1;31m---------------------------------------------------------------------------\u001b[0m",
      "\u001b[1;31mAttributeError\u001b[0m                            Traceback (most recent call last)",
      "\u001b[1;32m<ipython-input-105-0875c033ca02>\u001b[0m in \u001b[0;36m<module>\u001b[1;34m\u001b[0m\n\u001b[1;32m----> 1\u001b[1;33m \u001b[0ms1\u001b[0m\u001b[1;33m.\u001b[0m\u001b[0mstr\u001b[0m\u001b[1;33m(\u001b[0m\u001b[1;33m)\u001b[0m\u001b[1;33m\u001b[0m\u001b[1;33m\u001b[0m\u001b[0m\n\u001b[0m",
      "\u001b[1;31mAttributeError\u001b[0m: 'Student' object has no attribute 'str'"
     ]
    }
   ],
   "source": [
    "s1.str"
   ]
  },
  {
   "cell_type": "code",
   "execution_count": 113,
   "metadata": {},
   "outputs": [],
   "source": [
    "class Student:\n",
    "    \"\"\"This is the blueprint created for student data\"\"\"\n",
    "    college = 'GVP'\n",
    "    Branch = 'CSE'\n",
    "    collegeAddress = 'Vishakapatnam,Vijayawada'\n",
    "    def __init__(self,name,rollNo,mobile,python,java): # dendur init,constructer,instance method,initializer\n",
    "        self.name =  name\n",
    "        self.rollNo = rollNo\n",
    "        self.mobile = mobile\n",
    "        self.python = python\n",
    "        self.java = java\n",
    "        print(\"{} Student object is created\".format(self.name))\n",
    "    def average(self):\n",
    "        avg=(self.python+self.java)/2\n",
    "        return avg\n",
    "    def py_status\n",
    "    (self,PyaddOn):\n",
    "        self.python+=PyaddOn\n",
    "        if self.python>=40:\n",
    "            print(\"You have Passed in Python\")\n",
    "        else:\n",
    "            print(\"Fail\")\n",
    "    def java_status(self,JaddOn):\n",
    "        self.java+=JaddOn\n",
    "        if self.python>=40:\n",
    "            print(\"You have Passed in Java\")\n",
    "        else:\n",
    "            print(\"Fail\")\n",
    "            \n",
    "    def __str__(self):\n",
    "        return \"This class belongs to {}\".format(self.name)\n",
    "    def __del__(self):# destructor\n",
    "        print(\"{} Data is deleted\".format(self.name))"
   ]
  },
  {
   "cell_type": "code",
   "execution_count": 114,
   "metadata": {},
   "outputs": [
    {
     "name": "stdout",
     "output_type": "stream",
     "text": [
      "Python Student object is created\n",
      "Python Data is delwted\n",
      "Programming Student object is created\n",
      "Programming Data is delwted\n"
     ]
    }
   ],
   "source": [
    "s1 = Student('Python','123456','9876543210',35,65)\n",
    "s2 = Student('Programming','123457','9812763450',65,35)"
   ]
  },
  {
   "cell_type": "markdown",
   "metadata": {},
   "source": [
    "### Types of methods :\n",
    "\n",
    "- Instance method ->init and remaining methods\n",
    "- Class Method\n",
    "- Static Method"
   ]
  },
  {
   "cell_type": "code",
   "execution_count": 116,
   "metadata": {},
   "outputs": [],
   "source": [
    "class Student:\n",
    "    \"\"\"This is the blueprint created for student data\"\"\"\n",
    "    college = 'GVP'\n",
    "    Branch = 'CSE'\n",
    "    collegeAddress = 'Vishakapatnam,Vijayawada'\n",
    "    def __init__(self,name,rollNo,mobile,python,java): # dendur init,constructer,instance method,initializer\n",
    "        self.name =  name\n",
    "        self.rollNo = rollNo\n",
    "        self.mobile = mobile\n",
    "        self.python = python\n",
    "        self.java = java\n",
    "        print(\"{} Student object is created\".format(self.name))\n",
    "    def average(self):\n",
    "        avg=(self.python+self.java)/2\n",
    "        return avg\n",
    "    def py_status(self,PyaddOn):\n",
    "        self.python+=PyaddOn\n",
    "        if self.python>=40:\n",
    "            print(\"You have Passed in Python\")\n",
    "        else:\n",
    "            print(\"Fail\")\n",
    "    def java_status(self,JaddOn):\n",
    "        self.java+=JaddOn\n",
    "        if self.python>=40:\n",
    "            print(\"You have Passed in Java\")\n",
    "        else:\n",
    "            print(\"Fail\")\n",
    "            \n",
    "    def __str__(self):\n",
    "        return \"This class belongs to {}\".format(self.name)\n",
    "    def __del__(self):# destructor\n",
    "        print(\"{} Data is deleted\".format(self.name))\n",
    "        \n",
    "    @staticmethod\n",
    "    def clgNo():\n",
    "        return 123456"
   ]
  },
  {
   "cell_type": "code",
   "execution_count": 117,
   "metadata": {},
   "outputs": [
    {
     "data": {
      "text/plain": [
       "123456"
      ]
     },
     "execution_count": 117,
     "metadata": {},
     "output_type": "execute_result"
    }
   ],
   "source": [
    "Student.clgNo()"
   ]
  },
  {
   "cell_type": "code",
   "execution_count": 118,
   "metadata": {},
   "outputs": [],
   "source": [
    "class Student:\n",
    "    \"\"\"This is the blueprint created for student data\"\"\"\n",
    "    college = 'GVP'\n",
    "    Branch = 'CSE'\n",
    "    collegeAddress = 'Vishakapatnam,Vijayawada'\n",
    "    def __init__(self,name,rollNo,mobile,python,java): # dendur init,constructer,instance method,initializer\n",
    "        self.name =  name\n",
    "        self.rollNo = rollNo\n",
    "        self.mobile = mobile\n",
    "        self.python = python\n",
    "        self.java = java\n",
    "        print(\"{} Student object is created\".format(self.name))\n",
    "    def average(self):\n",
    "        avg=(self.python+self.java)/2\n",
    "        return avg\n",
    "    def py_status(self,PyaddOn):\n",
    "        self.python+=PyaddOn\n",
    "        if self.python>=40:\n",
    "            print(\"You have Passed in Python\")\n",
    "        else:\n",
    "            print(\"Fail\")\n",
    "    def java_status(self,JaddOn):\n",
    "        self.java+=JaddOn\n",
    "        if self.python>=40:\n",
    "            print(\"You have Passed in Java\")\n",
    "        else:\n",
    "            print(\"Fail\")\n",
    "            \n",
    "    def __str__(self):\n",
    "        return \"This class belongs to {}\".format(self.name)\n",
    "    def __del__(self):# destructor\n",
    "        print(\"{} Data is deleted\".format(self.name))\n",
    "        \n",
    "    @staticmethod\n",
    "    def clgNo():\n",
    "        return 123456\n",
    "    \n",
    "    @classmethod\n",
    "    def clgName(cls):\n",
    "        return cls.college"
   ]
  },
  {
   "cell_type": "code",
   "execution_count": 120,
   "metadata": {},
   "outputs": [
    {
     "data": {
      "text/plain": [
       "'GVP'"
      ]
     },
     "execution_count": 120,
     "metadata": {},
     "output_type": "execute_result"
    }
   ],
   "source": [
    "Student.clgName()"
   ]
  },
  {
   "cell_type": "markdown",
   "metadata": {},
   "source": [
    "### Properties\n",
    "\n",
    "- Encapsulation\n",
    "- Polymorphism\n",
    "- Inheritance\n",
    "    - Operator Overloading\n",
    "    - Method Overloading\n",
    "      - Types\n",
    "           - Multi Level\n",
    "           - Hybrid\n",
    "           - Multiple\n",
    "           - Hierarchy\n",
    "- Abstraction\n"
   ]
  },
  {
   "cell_type": "code",
   "execution_count": null,
   "metadata": {},
   "outputs": [],
   "source": []
  }
 ],
 "metadata": {
  "kernelspec": {
   "display_name": "Python 3",
   "language": "python",
   "name": "python3"
  },
  "language_info": {
   "codemirror_mode": {
    "name": "ipython",
    "version": 3
   },
   "file_extension": ".py",
   "mimetype": "text/x-python",
   "name": "python",
   "nbconvert_exporter": "python",
   "pygments_lexer": "ipython3",
   "version": "3.8.3"
  }
 },
 "nbformat": 4,
 "nbformat_minor": 4
}
