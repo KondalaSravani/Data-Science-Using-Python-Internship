{
 "cells": [
  {
   "cell_type": "markdown",
   "metadata": {},
   "source": [
    "### CONTENTS\n",
    "\n",
    "- Elastic Net Regression"
   ]
  },
  {
   "cell_type": "markdown",
   "metadata": {},
   "source": [
    "- Ridge---->add penalty(lambda)---->model performance will be low(doesn't make slopes to zero)\n",
    "- Lasso---->removes unwanted features---->loss of "
   ]
  },
  {
   "cell_type": "code",
   "execution_count": 1,
   "metadata": {},
   "outputs": [],
   "source": [
    "import pandas as pd\n",
    "from sklearn.datasets import load_boston"
   ]
  },
  {
   "cell_type": "code",
   "execution_count": 5,
   "metadata": {},
   "outputs": [
    {
     "data": {
      "text/html": [
       "<div>\n",
       "<style scoped>\n",
       "    .dataframe tbody tr th:only-of-type {\n",
       "        vertical-align: middle;\n",
       "    }\n",
       "\n",
       "    .dataframe tbody tr th {\n",
       "        vertical-align: top;\n",
       "    }\n",
       "\n",
       "    .dataframe thead th {\n",
       "        text-align: right;\n",
       "    }\n",
       "</style>\n",
       "<table border=\"1\" class=\"dataframe\">\n",
       "  <thead>\n",
       "    <tr style=\"text-align: right;\">\n",
       "      <th></th>\n",
       "      <th>CRIM</th>\n",
       "      <th>ZN</th>\n",
       "      <th>INDUS</th>\n",
       "      <th>CHAS</th>\n",
       "      <th>NOX</th>\n",
       "      <th>RM</th>\n",
       "      <th>AGE</th>\n",
       "      <th>DIS</th>\n",
       "      <th>RAD</th>\n",
       "      <th>TAX</th>\n",
       "      <th>PTRATIO</th>\n",
       "      <th>B</th>\n",
       "      <th>LSTAT</th>\n",
       "      <th>Target</th>\n",
       "    </tr>\n",
       "  </thead>\n",
       "  <tbody>\n",
       "    <tr>\n",
       "      <th>0</th>\n",
       "      <td>0.00632</td>\n",
       "      <td>18.0</td>\n",
       "      <td>2.31</td>\n",
       "      <td>0.0</td>\n",
       "      <td>0.538</td>\n",
       "      <td>6.575</td>\n",
       "      <td>65.2</td>\n",
       "      <td>4.0900</td>\n",
       "      <td>1.0</td>\n",
       "      <td>296.0</td>\n",
       "      <td>15.3</td>\n",
       "      <td>396.90</td>\n",
       "      <td>4.98</td>\n",
       "      <td>24.0</td>\n",
       "    </tr>\n",
       "    <tr>\n",
       "      <th>1</th>\n",
       "      <td>0.02731</td>\n",
       "      <td>0.0</td>\n",
       "      <td>7.07</td>\n",
       "      <td>0.0</td>\n",
       "      <td>0.469</td>\n",
       "      <td>6.421</td>\n",
       "      <td>78.9</td>\n",
       "      <td>4.9671</td>\n",
       "      <td>2.0</td>\n",
       "      <td>242.0</td>\n",
       "      <td>17.8</td>\n",
       "      <td>396.90</td>\n",
       "      <td>9.14</td>\n",
       "      <td>21.6</td>\n",
       "    </tr>\n",
       "    <tr>\n",
       "      <th>2</th>\n",
       "      <td>0.02729</td>\n",
       "      <td>0.0</td>\n",
       "      <td>7.07</td>\n",
       "      <td>0.0</td>\n",
       "      <td>0.469</td>\n",
       "      <td>7.185</td>\n",
       "      <td>61.1</td>\n",
       "      <td>4.9671</td>\n",
       "      <td>2.0</td>\n",
       "      <td>242.0</td>\n",
       "      <td>17.8</td>\n",
       "      <td>392.83</td>\n",
       "      <td>4.03</td>\n",
       "      <td>34.7</td>\n",
       "    </tr>\n",
       "    <tr>\n",
       "      <th>3</th>\n",
       "      <td>0.03237</td>\n",
       "      <td>0.0</td>\n",
       "      <td>2.18</td>\n",
       "      <td>0.0</td>\n",
       "      <td>0.458</td>\n",
       "      <td>6.998</td>\n",
       "      <td>45.8</td>\n",
       "      <td>6.0622</td>\n",
       "      <td>3.0</td>\n",
       "      <td>222.0</td>\n",
       "      <td>18.7</td>\n",
       "      <td>394.63</td>\n",
       "      <td>2.94</td>\n",
       "      <td>33.4</td>\n",
       "    </tr>\n",
       "    <tr>\n",
       "      <th>4</th>\n",
       "      <td>0.06905</td>\n",
       "      <td>0.0</td>\n",
       "      <td>2.18</td>\n",
       "      <td>0.0</td>\n",
       "      <td>0.458</td>\n",
       "      <td>7.147</td>\n",
       "      <td>54.2</td>\n",
       "      <td>6.0622</td>\n",
       "      <td>3.0</td>\n",
       "      <td>222.0</td>\n",
       "      <td>18.7</td>\n",
       "      <td>396.90</td>\n",
       "      <td>5.33</td>\n",
       "      <td>36.2</td>\n",
       "    </tr>\n",
       "  </tbody>\n",
       "</table>\n",
       "</div>"
      ],
      "text/plain": [
       "      CRIM    ZN  INDUS  CHAS    NOX     RM   AGE     DIS  RAD    TAX  \\\n",
       "0  0.00632  18.0   2.31   0.0  0.538  6.575  65.2  4.0900  1.0  296.0   \n",
       "1  0.02731   0.0   7.07   0.0  0.469  6.421  78.9  4.9671  2.0  242.0   \n",
       "2  0.02729   0.0   7.07   0.0  0.469  7.185  61.1  4.9671  2.0  242.0   \n",
       "3  0.03237   0.0   2.18   0.0  0.458  6.998  45.8  6.0622  3.0  222.0   \n",
       "4  0.06905   0.0   2.18   0.0  0.458  7.147  54.2  6.0622  3.0  222.0   \n",
       "\n",
       "   PTRATIO       B  LSTAT  Target  \n",
       "0     15.3  396.90   4.98    24.0  \n",
       "1     17.8  396.90   9.14    21.6  \n",
       "2     17.8  392.83   4.03    34.7  \n",
       "3     18.7  394.63   2.94    33.4  \n",
       "4     18.7  396.90   5.33    36.2  "
      ]
     },
     "execution_count": 5,
     "metadata": {},
     "output_type": "execute_result"
    }
   ],
   "source": [
    "boston = load_boston()\n",
    "boston_df=pd.DataFrame(boston.data,columns=boston.feature_names)\n",
    "boston_df[\"Target\"]=boston.target\n",
    "boston_df.head()"
   ]
  },
  {
   "cell_type": "code",
   "execution_count": 6,
   "metadata": {},
   "outputs": [
    {
     "data": {
      "text/plain": [
       "CRIM       0\n",
       "ZN         0\n",
       "INDUS      0\n",
       "CHAS       0\n",
       "NOX        0\n",
       "RM         0\n",
       "AGE        0\n",
       "DIS        0\n",
       "RAD        0\n",
       "TAX        0\n",
       "PTRATIO    0\n",
       "B          0\n",
       "LSTAT      0\n",
       "Target     0\n",
       "dtype: int64"
      ]
     },
     "execution_count": 6,
     "metadata": {},
     "output_type": "execute_result"
    }
   ],
   "source": [
    "boston_df.isna().sum()"
   ]
  },
  {
   "cell_type": "code",
   "execution_count": 7,
   "metadata": {},
   "outputs": [
    {
     "data": {
      "text/plain": [
       "array([[-0.41978194,  0.28482986, -1.2879095 , ..., -1.45900038,\n",
       "         0.44105193, -1.0755623 ],\n",
       "       [-0.41733926, -0.48772236, -0.59338101, ..., -0.30309415,\n",
       "         0.44105193, -0.49243937],\n",
       "       [-0.41734159, -0.48772236, -0.59338101, ..., -0.30309415,\n",
       "         0.39642699, -1.2087274 ],\n",
       "       ...,\n",
       "       [-0.41344658, -0.48772236,  0.11573841, ...,  1.17646583,\n",
       "         0.44105193, -0.98304761],\n",
       "       [-0.40776407, -0.48772236,  0.11573841, ...,  1.17646583,\n",
       "         0.4032249 , -0.86530163],\n",
       "       [-0.41500016, -0.48772236,  0.11573841, ...,  1.17646583,\n",
       "         0.44105193, -0.66905833]])"
      ]
     },
     "execution_count": 7,
     "metadata": {},
     "output_type": "execute_result"
    }
   ],
   "source": [
    "x=boston_df[boston_df.columns[:-1]]\n",
    "y=boston_df[\"Target\"]\n",
    "from sklearn.preprocessing import StandardScaler\n",
    "scale=StandardScaler()\n",
    "x_scale=scale.fit_transform(x)\n",
    "x_scale"
   ]
  },
  {
   "cell_type": "code",
   "execution_count": 8,
   "metadata": {},
   "outputs": [
    {
     "name": "stdout",
     "output_type": "stream",
     "text": [
      "Help on function load_boston in module sklearn.datasets._base:\n",
      "\n",
      "load_boston(*, return_X_y=False)\n",
      "    Load and return the boston house-prices dataset (regression).\n",
      "    \n",
      "    ==============   ==============\n",
      "    Samples total               506\n",
      "    Dimensionality               13\n",
      "    Features         real, positive\n",
      "    Targets           real 5. - 50.\n",
      "    ==============   ==============\n",
      "    \n",
      "    Read more in the :ref:`User Guide <boston_dataset>`.\n",
      "    \n",
      "    Parameters\n",
      "    ----------\n",
      "    return_X_y : bool, default=False.\n",
      "        If True, returns ``(data, target)`` instead of a Bunch object.\n",
      "        See below for more information about the `data` and `target` object.\n",
      "    \n",
      "        .. versionadded:: 0.18\n",
      "    \n",
      "    Returns\n",
      "    -------\n",
      "    data : :class:`~sklearn.utils.Bunch`\n",
      "        Dictionary-like object, with the following attributes.\n",
      "    \n",
      "        data : ndarray of shape (506, 13)\n",
      "            The data matrix.\n",
      "        target : ndarray of shape (506, )\n",
      "            The regression target.\n",
      "        filename : str\n",
      "            The physical location of boston csv dataset.\n",
      "    \n",
      "            .. versionadded:: 0.20\n",
      "    \n",
      "        DESCR : str\n",
      "            The full description of the dataset.\n",
      "        feature_names : ndarray\n",
      "            The names of features\n",
      "    \n",
      "    (data, target) : tuple if ``return_X_y`` is True\n",
      "    \n",
      "        .. versionadded:: 0.18\n",
      "    \n",
      "    Notes\n",
      "    -----\n",
      "        .. versionchanged:: 0.20\n",
      "            Fixed a wrong data point at [445, 0].\n",
      "    \n",
      "    Examples\n",
      "    --------\n",
      "    >>> from sklearn.datasets import load_boston\n",
      "    >>> X, y = load_boston(return_X_y=True)\n",
      "    >>> print(X.shape)\n",
      "    (506, 13)\n",
      "\n"
     ]
    }
   ],
   "source": [
    "help(load_boston)"
   ]
  },
  {
   "cell_type": "code",
   "execution_count": 9,
   "metadata": {},
   "outputs": [
    {
     "data": {
      "text/html": [
       "<div>\n",
       "<style scoped>\n",
       "    .dataframe tbody tr th:only-of-type {\n",
       "        vertical-align: middle;\n",
       "    }\n",
       "\n",
       "    .dataframe tbody tr th {\n",
       "        vertical-align: top;\n",
       "    }\n",
       "\n",
       "    .dataframe thead th {\n",
       "        text-align: right;\n",
       "    }\n",
       "</style>\n",
       "<table border=\"1\" class=\"dataframe\">\n",
       "  <thead>\n",
       "    <tr style=\"text-align: right;\">\n",
       "      <th></th>\n",
       "      <th>age</th>\n",
       "      <th>sex</th>\n",
       "      <th>bmi</th>\n",
       "      <th>children</th>\n",
       "      <th>smoker</th>\n",
       "      <th>region</th>\n",
       "      <th>charges</th>\n",
       "    </tr>\n",
       "  </thead>\n",
       "  <tbody>\n",
       "    <tr>\n",
       "      <th>0</th>\n",
       "      <td>19</td>\n",
       "      <td>female</td>\n",
       "      <td>27.900</td>\n",
       "      <td>0</td>\n",
       "      <td>yes</td>\n",
       "      <td>southwest</td>\n",
       "      <td>16884.92400</td>\n",
       "    </tr>\n",
       "    <tr>\n",
       "      <th>1</th>\n",
       "      <td>18</td>\n",
       "      <td>male</td>\n",
       "      <td>33.770</td>\n",
       "      <td>1</td>\n",
       "      <td>no</td>\n",
       "      <td>southeast</td>\n",
       "      <td>1725.55230</td>\n",
       "    </tr>\n",
       "    <tr>\n",
       "      <th>2</th>\n",
       "      <td>28</td>\n",
       "      <td>male</td>\n",
       "      <td>33.000</td>\n",
       "      <td>3</td>\n",
       "      <td>no</td>\n",
       "      <td>southeast</td>\n",
       "      <td>4449.46200</td>\n",
       "    </tr>\n",
       "    <tr>\n",
       "      <th>3</th>\n",
       "      <td>33</td>\n",
       "      <td>male</td>\n",
       "      <td>22.705</td>\n",
       "      <td>0</td>\n",
       "      <td>no</td>\n",
       "      <td>northwest</td>\n",
       "      <td>21984.47061</td>\n",
       "    </tr>\n",
       "    <tr>\n",
       "      <th>4</th>\n",
       "      <td>32</td>\n",
       "      <td>male</td>\n",
       "      <td>28.880</td>\n",
       "      <td>0</td>\n",
       "      <td>no</td>\n",
       "      <td>northwest</td>\n",
       "      <td>3866.85520</td>\n",
       "    </tr>\n",
       "  </tbody>\n",
       "</table>\n",
       "</div>"
      ],
      "text/plain": [
       "   age     sex     bmi  children smoker     region      charges\n",
       "0   19  female  27.900         0    yes  southwest  16884.92400\n",
       "1   18    male  33.770         1     no  southeast   1725.55230\n",
       "2   28    male  33.000         3     no  southeast   4449.46200\n",
       "3   33    male  22.705         0     no  northwest  21984.47061\n",
       "4   32    male  28.880         0     no  northwest   3866.85520"
      ]
     },
     "execution_count": 9,
     "metadata": {},
     "output_type": "execute_result"
    }
   ],
   "source": [
    "import pandas as pd\n",
    "df = pd.read_csv(\"insurance.csv\")\n",
    "df.head()"
   ]
  },
  {
   "cell_type": "code",
   "execution_count": 10,
   "metadata": {},
   "outputs": [
    {
     "data": {
      "text/plain": [
       "Index(['age', 'sex', 'bmi', 'children', 'smoker', 'region', 'charges'], dtype='object')"
      ]
     },
     "execution_count": 10,
     "metadata": {},
     "output_type": "execute_result"
    }
   ],
   "source": [
    "df.columns"
   ]
  },
  {
   "cell_type": "code",
   "execution_count": 11,
   "metadata": {},
   "outputs": [
    {
     "data": {
      "text/plain": [
       "age         0\n",
       "sex         0\n",
       "bmi         0\n",
       "children    0\n",
       "smoker      0\n",
       "region      0\n",
       "charges     0\n",
       "dtype: int64"
      ]
     },
     "execution_count": 11,
     "metadata": {},
     "output_type": "execute_result"
    }
   ],
   "source": [
    "df.isna().sum()"
   ]
  },
  {
   "cell_type": "code",
   "execution_count": 12,
   "metadata": {},
   "outputs": [
    {
     "data": {
      "text/plain": [
       "(1338, 7)"
      ]
     },
     "execution_count": 12,
     "metadata": {},
     "output_type": "execute_result"
    }
   ],
   "source": [
    "df.shape"
   ]
  },
  {
   "cell_type": "code",
   "execution_count": 13,
   "metadata": {
    "scrolled": true
   },
   "outputs": [],
   "source": [
    "x = df[[\"age\"]]\n",
    "y = df[\"charges\"]"
   ]
  },
  {
   "cell_type": "code",
   "execution_count": 14,
   "metadata": {},
   "outputs": [
    {
     "data": {
      "text/plain": [
       "LinearRegression()"
      ]
     },
     "execution_count": 14,
     "metadata": {},
     "output_type": "execute_result"
    }
   ],
   "source": [
    "from sklearn.linear_model import LinearRegression\n",
    "model = LinearRegression()\n",
    "model.fit(x,y)"
   ]
  },
  {
   "cell_type": "code",
   "execution_count": 15,
   "metadata": {},
   "outputs": [
    {
     "data": {
      "text/plain": [
       "0.8940589967885804"
      ]
     },
     "execution_count": 15,
     "metadata": {},
     "output_type": "execute_result"
    }
   ],
   "source": [
    "model.score(x,y)*10"
   ]
  },
  {
   "cell_type": "markdown",
   "metadata": {},
   "source": [
    "### MULTI LINEAR REGRESSION"
   ]
  },
  {
   "cell_type": "code",
   "execution_count": 16,
   "metadata": {},
   "outputs": [],
   "source": [
    "df.replace('female',0,inplace=True)\n",
    "df.replace('male',1,inplace=True)"
   ]
  },
  {
   "cell_type": "code",
   "execution_count": 17,
   "metadata": {},
   "outputs": [],
   "source": [
    "df.replace('yes',0,inplace=True)\n",
    "df.replace('no',1,inplace=True)"
   ]
  },
  {
   "cell_type": "code",
   "execution_count": 18,
   "metadata": {},
   "outputs": [],
   "source": [
    "df.replace('southwest',0,inplace=True)\n",
    "df.replace('southeast',1,inplace=True)\n",
    "df.replace('northwest',0,inplace=True)\n",
    "df.replace('northeast',1,inplace=True)"
   ]
  },
  {
   "cell_type": "code",
   "execution_count": 19,
   "metadata": {},
   "outputs": [
    {
     "data": {
      "text/html": [
       "<div>\n",
       "<style scoped>\n",
       "    .dataframe tbody tr th:only-of-type {\n",
       "        vertical-align: middle;\n",
       "    }\n",
       "\n",
       "    .dataframe tbody tr th {\n",
       "        vertical-align: top;\n",
       "    }\n",
       "\n",
       "    .dataframe thead th {\n",
       "        text-align: right;\n",
       "    }\n",
       "</style>\n",
       "<table border=\"1\" class=\"dataframe\">\n",
       "  <thead>\n",
       "    <tr style=\"text-align: right;\">\n",
       "      <th></th>\n",
       "      <th>age</th>\n",
       "      <th>sex</th>\n",
       "      <th>bmi</th>\n",
       "      <th>children</th>\n",
       "      <th>smoker</th>\n",
       "      <th>region</th>\n",
       "      <th>charges</th>\n",
       "    </tr>\n",
       "  </thead>\n",
       "  <tbody>\n",
       "    <tr>\n",
       "      <th>0</th>\n",
       "      <td>19</td>\n",
       "      <td>0</td>\n",
       "      <td>27.900</td>\n",
       "      <td>0</td>\n",
       "      <td>0</td>\n",
       "      <td>0</td>\n",
       "      <td>16884.92400</td>\n",
       "    </tr>\n",
       "    <tr>\n",
       "      <th>1</th>\n",
       "      <td>18</td>\n",
       "      <td>1</td>\n",
       "      <td>33.770</td>\n",
       "      <td>1</td>\n",
       "      <td>1</td>\n",
       "      <td>1</td>\n",
       "      <td>1725.55230</td>\n",
       "    </tr>\n",
       "    <tr>\n",
       "      <th>2</th>\n",
       "      <td>28</td>\n",
       "      <td>1</td>\n",
       "      <td>33.000</td>\n",
       "      <td>3</td>\n",
       "      <td>1</td>\n",
       "      <td>1</td>\n",
       "      <td>4449.46200</td>\n",
       "    </tr>\n",
       "    <tr>\n",
       "      <th>3</th>\n",
       "      <td>33</td>\n",
       "      <td>1</td>\n",
       "      <td>22.705</td>\n",
       "      <td>0</td>\n",
       "      <td>1</td>\n",
       "      <td>0</td>\n",
       "      <td>21984.47061</td>\n",
       "    </tr>\n",
       "    <tr>\n",
       "      <th>4</th>\n",
       "      <td>32</td>\n",
       "      <td>1</td>\n",
       "      <td>28.880</td>\n",
       "      <td>0</td>\n",
       "      <td>1</td>\n",
       "      <td>0</td>\n",
       "      <td>3866.85520</td>\n",
       "    </tr>\n",
       "    <tr>\n",
       "      <th>...</th>\n",
       "      <td>...</td>\n",
       "      <td>...</td>\n",
       "      <td>...</td>\n",
       "      <td>...</td>\n",
       "      <td>...</td>\n",
       "      <td>...</td>\n",
       "      <td>...</td>\n",
       "    </tr>\n",
       "    <tr>\n",
       "      <th>1333</th>\n",
       "      <td>50</td>\n",
       "      <td>1</td>\n",
       "      <td>30.970</td>\n",
       "      <td>3</td>\n",
       "      <td>1</td>\n",
       "      <td>0</td>\n",
       "      <td>10600.54830</td>\n",
       "    </tr>\n",
       "    <tr>\n",
       "      <th>1334</th>\n",
       "      <td>18</td>\n",
       "      <td>0</td>\n",
       "      <td>31.920</td>\n",
       "      <td>0</td>\n",
       "      <td>1</td>\n",
       "      <td>1</td>\n",
       "      <td>2205.98080</td>\n",
       "    </tr>\n",
       "    <tr>\n",
       "      <th>1335</th>\n",
       "      <td>18</td>\n",
       "      <td>0</td>\n",
       "      <td>36.850</td>\n",
       "      <td>0</td>\n",
       "      <td>1</td>\n",
       "      <td>1</td>\n",
       "      <td>1629.83350</td>\n",
       "    </tr>\n",
       "    <tr>\n",
       "      <th>1336</th>\n",
       "      <td>21</td>\n",
       "      <td>0</td>\n",
       "      <td>25.800</td>\n",
       "      <td>0</td>\n",
       "      <td>1</td>\n",
       "      <td>0</td>\n",
       "      <td>2007.94500</td>\n",
       "    </tr>\n",
       "    <tr>\n",
       "      <th>1337</th>\n",
       "      <td>61</td>\n",
       "      <td>0</td>\n",
       "      <td>29.070</td>\n",
       "      <td>0</td>\n",
       "      <td>0</td>\n",
       "      <td>0</td>\n",
       "      <td>29141.36030</td>\n",
       "    </tr>\n",
       "  </tbody>\n",
       "</table>\n",
       "<p>1338 rows × 7 columns</p>\n",
       "</div>"
      ],
      "text/plain": [
       "      age  sex     bmi  children  smoker  region      charges\n",
       "0      19    0  27.900         0       0       0  16884.92400\n",
       "1      18    1  33.770         1       1       1   1725.55230\n",
       "2      28    1  33.000         3       1       1   4449.46200\n",
       "3      33    1  22.705         0       1       0  21984.47061\n",
       "4      32    1  28.880         0       1       0   3866.85520\n",
       "...   ...  ...     ...       ...     ...     ...          ...\n",
       "1333   50    1  30.970         3       1       0  10600.54830\n",
       "1334   18    0  31.920         0       1       1   2205.98080\n",
       "1335   18    0  36.850         0       1       1   1629.83350\n",
       "1336   21    0  25.800         0       1       0   2007.94500\n",
       "1337   61    0  29.070         0       0       0  29141.36030\n",
       "\n",
       "[1338 rows x 7 columns]"
      ]
     },
     "execution_count": 19,
     "metadata": {},
     "output_type": "execute_result"
    }
   ],
   "source": [
    "df"
   ]
  },
  {
   "cell_type": "code",
   "execution_count": 20,
   "metadata": {},
   "outputs": [],
   "source": [
    "x = df.iloc[:,:7]\n",
    "y = df[\"charges\"]"
   ]
  },
  {
   "cell_type": "code",
   "execution_count": 21,
   "metadata": {},
   "outputs": [],
   "source": [
    "from sklearn.model_selection import train_test_split\n",
    "x_train,x_test,y_train,y_test = train_test_split(x,y,train_size=0.6,random_state=400)"
   ]
  },
  {
   "cell_type": "code",
   "execution_count": 22,
   "metadata": {},
   "outputs": [
    {
     "data": {
      "text/plain": [
       "LinearRegression()"
      ]
     },
     "execution_count": 22,
     "metadata": {},
     "output_type": "execute_result"
    }
   ],
   "source": [
    "from sklearn.linear_model import LinearRegression\n",
    "model1 = LinearRegression()\n",
    "model1.fit(x_train,y_train)"
   ]
  },
  {
   "cell_type": "code",
   "execution_count": 23,
   "metadata": {},
   "outputs": [
    {
     "data": {
      "text/plain": [
       "array([ 3597.596  ,  6198.7518 ,  9288.0267 , 48173.361  , 14235.072  ,\n",
       "       35491.64   ,  9377.9047 , 11658.11505,  9625.92   ,  1743.214  ,\n",
       "        8428.0693 ,  7537.1639 , 13919.8229 , 43254.41795,  7512.267  ,\n",
       "        8827.2099 , 11165.41765,  7729.64575,  6858.4796 , 12032.326  ,\n",
       "       18259.216  , 39836.519  ,  1705.6245 , 11488.31695, 11289.10925,\n",
       "        5415.6612 ,  3227.1211 , 40103.89   , 36085.219  ,  8601.3293 ,\n",
       "        4686.3887 , 15828.82173, 48673.5588 ,  4618.0799 , 19515.5416 ,\n",
       "        8026.6666 ,  1967.0227 , 12269.68865,  2566.4707 , 23306.547  ,\n",
       "       17128.42608, 30166.61817, 12638.195  ,  3577.999  ,  6500.2359 ,\n",
       "       38792.6856 ,  7152.6714 ,  1984.4533 ,  1880.07   ,  4500.33925,\n",
       "       34166.273  , 14210.53595, 16796.41194,  9863.4718 ,  6664.68595,\n",
       "        4529.477  ,  9880.068  , 12333.828  ,  8410.04685, 13747.87235,\n",
       "       11743.9341 , 34672.1472 , 20745.9891 , 12485.8009 , 40003.33225,\n",
       "        2897.3235 ,  2156.7518 ,  7173.35995,  5594.8455 ,  7804.1605 ,\n",
       "        1141.4451 , 21082.16   ,  4441.21315, 30184.9367 , 21978.6769 ,\n",
       "       12105.32   , 14394.39815, 21344.8467 ,  6571.544  ,  6184.2994 ,\n",
       "        7196.867  ,  7749.1564 ,  4719.52405, 11848.141  ,  1969.614  ,\n",
       "        8823.279  , 12829.4551 ,  7345.7266 , 37742.5757 , 11879.10405,\n",
       "       44585.45587, 17878.90068,  6948.7008 ,  4340.4409 , 34838.873  ,\n",
       "       26236.57997, 37270.1512 ,  3201.24515, 10577.087  ,  1391.5287 ,\n",
       "       47055.5321 , 14043.4767 ,  5028.1466 , 16115.3045 , 48970.2476 ,\n",
       "        2200.83085,  6770.1925 , 11743.299  ,  3062.50825, 40419.0191 ,\n",
       "       14283.4594 ,  2217.6012 , 22493.65964, 11013.7119 ,  6373.55735,\n",
       "       19214.70553, 10791.96   ,  2166.732  ,  9715.841  ,  9566.9909 ,\n",
       "       13352.0998 ,  6474.013  ,  7441.053  , 34617.84065,  6203.90175,\n",
       "       12244.531  , 17748.5062 , 35069.37452, 13204.28565,  5400.9805 ,\n",
       "        3268.84665, 28101.33305, 11345.519  ,  1720.3537 ,  1532.4697 ,\n",
       "        3366.6697 , 12646.207  ,  3877.30425, 21677.28345,  4239.89265,\n",
       "       14382.70905, 10959.33   ,  2136.88225, 12323.936  , 12644.589  ,\n",
       "       39727.614  , 38709.176  , 11090.7178 ,  1837.237  , 20234.85475,\n",
       "       14394.5579 , 13112.6048 ,  4877.98105, 18223.4512 ,  8615.3    ,\n",
       "        8280.6227 ,  8527.532  , 17361.7661 ,  5934.3798 ,  2755.02095,\n",
       "        4934.705  , 27322.73386, 41949.2441 ,  8782.469  ,  8334.45755,\n",
       "       13228.84695,  5699.8375 ,  9249.4952 , 13451.122  , 46718.16325,\n",
       "        2850.68375, 11552.904  ,  2842.76075, 11944.59435,  7624.63   ,\n",
       "        7345.084  , 22144.032  , 13012.20865, 25992.82104, 10264.4421 ,\n",
       "        2483.736  ,  4504.6624 , 23568.272  , 13462.52   ,  4667.60765,\n",
       "       30284.64294, 12643.3778 , 12957.118  ,  4931.647  ,  1728.897  ,\n",
       "       40273.6455 ,  2154.361  , 23082.95533,  5124.1887 , 18963.17192,\n",
       "       11830.6072 , 10085.846  , 10806.839  ,  5469.0066 ,  4687.797  ,\n",
       "        5757.41345,  4751.07   , 30063.58055,  2416.955  ,  6748.5912 ,\n",
       "       46889.2612 ,  1694.7964 ,  4779.6023 , 25309.489  ,  2497.0383 ,\n",
       "       35160.13457,  4149.736  , 11881.9696 ,  3861.20965, 38126.2465 ,\n",
       "       47896.79135,  6837.3687 , 43896.3763 , 13607.36875, 11938.25595,\n",
       "        9432.9253 , 21259.37795, 21348.706  , 48675.5177 , 25081.76784,\n",
       "       13470.86   , 11299.343  ,  5729.0053 ,  1748.774  ,  4074.4537 ,\n",
       "       13457.9608 ,  6877.9801 , 12648.7034 , 16776.30405,  6610.1097 ,\n",
       "       11520.09985,  4357.04365, 40974.1649 , 17179.522  ,  8891.1395 ,\n",
       "        3208.787  ,  4040.55825,  3537.703  , 23045.56616, 22192.43711,\n",
       "        1137.4697 ,  3277.161  , 12044.342  , 18033.9679 , 12981.3457 ,\n",
       "       13429.0354 , 16232.847  ,  4466.6214 ,  1163.4627 ,  5116.5004 ,\n",
       "        5484.4673 ,  6940.90985, 10197.7722 ,  1719.4363 , 19594.80965,\n",
       "        3935.1799 , 42560.4304 , 11436.73815, 22218.1149 ,  2459.7201 ,\n",
       "        1632.03625,  2480.9791 ,  9144.565  , 11674.13   , 19144.57652,\n",
       "       19964.7463 , 42760.5022 ,  6282.235  , 11763.0009 , 37079.372  ,\n",
       "        6457.8434 ,  4005.4225 ,  4894.7533 , 11381.3254 ,  4463.2051 ,\n",
       "       41999.52   , 39556.4945 ,  8116.26885,  3392.3652 , 15817.9857 ,\n",
       "        7640.3092 ,  2727.3951 ,  7337.748  ,  3704.3545 , 12268.63225,\n",
       "       11946.6259 ,  5926.846  , 11362.755  ,  6640.54485,  9301.89355,\n",
       "        3579.8287 ,  2927.0647 ,  3972.9247 ,  8233.0975 ,  6849.026  ,\n",
       "       11735.87905, 46255.1125 ,  9541.69555, 12523.6048 ,  1664.9996 ,\n",
       "        2585.269  , 12629.1656 ,  4949.7587 , 20149.3229 ,  9877.6077 ,\n",
       "        1253.936  ,  6117.4945 ,  7358.17565, 10065.413  , 39871.7043 ,\n",
       "        3176.8159 , 13041.921  , 19199.944  ,  1727.54   ,  2203.73595,\n",
       "       28950.4692 ,  1625.43375,  3866.8552 ,  4762.329  , 46599.1084 ,\n",
       "        2719.27975,  8515.7587 ,  8116.68   ,  3353.4703 ,  2198.18985,\n",
       "       33732.6867 ,  9222.4026 , 48517.56315, 27533.9129 , 12096.6512 ,\n",
       "       21595.38229, 12231.6136 , 17043.3414 ,  4234.927  ,  7151.092  ,\n",
       "        5257.50795,  6555.07035,  2221.56445, 32548.3405 , 16085.1275 ,\n",
       "       13129.60345, 25333.33284,  2643.2685 ,  5253.524  , 11070.535  ,\n",
       "       12982.8747 ,  2867.1196 ,  2721.3208 , 13844.506  , 18608.262  ,\n",
       "        2352.96845,  8334.5896 ,  5002.7827 , 10156.7832 , 24869.8368 ,\n",
       "        3309.7926 , 12629.8967 , 10493.9458 , 24915.22085, 18806.14547,\n",
       "        5969.723  ,  1261.859  ,  8930.93455,  3756.6216 , 18972.495  ,\n",
       "        2741.948  , 11326.71487,  7740.337  , 27724.28875, 26125.67477,\n",
       "       44641.1974 ,  3857.75925,  2117.33885,  1986.9334 ,  8442.667  ,\n",
       "        1725.5523 , 10096.97   ,  1263.249  , 17904.52705,  4571.41305,\n",
       "        1964.78   ,  8932.084  , 13224.693  ,  4462.7218 ,  1146.7966 ,\n",
       "        6985.50695, 10355.641  , 28287.89766, 36898.73308,  6406.4107 ,\n",
       "       11264.541  ,  1815.8759 ,  6571.02435,  2103.08   , 14007.222  ,\n",
       "        9182.17   , 11945.1327 ,  5227.98875, 19444.2658 ,  8835.26495,\n",
       "        2464.6188 , 11884.04858,  8823.98575,  4428.88785,  6313.759  ,\n",
       "        4433.9159 , 10601.63225,  6548.19505,  2699.56835, 10381.4787 ,\n",
       "       11363.2832 ,  8569.8618 , 27346.04207,  5261.46945,  5989.52365,\n",
       "        2803.69785, 37607.5277 ,  4320.41085,  3171.6149 , 47269.854  ,\n",
       "        7153.5539 , 39611.7577 ,  5003.853  ,  2710.82855, 13770.0979 ,\n",
       "       47462.894  ,  5354.07465,  2523.1695 , 11253.421  , 17626.23951,\n",
       "       44400.4064 , 14711.7438 , 27941.28758, 13390.559  ,  4915.05985,\n",
       "        6393.60345,  4185.0979 , 14349.8544 ,  9620.3307 ,  9095.06825,\n",
       "        9193.8385 ,  9800.8882 ,  6781.3542 , 12363.547  ,  2730.10785,\n",
       "       19521.9682 ,  2331.519  , 26392.26029,  2395.17155,  3659.346  ,\n",
       "        4137.5227 , 11554.2236 ,  3556.9223 ,  8627.5411 , 10796.35025,\n",
       "        2498.4144 , 13143.86485, 13887.9685 ,  8068.185  ,  2438.0552 ,\n",
       "       13217.0945 , 21472.4788 , 14358.36437,  8023.13545,  9140.951  ,\n",
       "       11272.33139, 10600.5483 , 10141.1362 ,  7222.78625, 13019.16105,\n",
       "        3206.49135,  8516.829  , 10825.2537 , 62592.87309, 34828.654  ,\n",
       "       16657.71745, 36149.4835 ,  3056.3881 , 41097.16175,  9282.4806 ,\n",
       "       14478.33015,  4518.82625, 10560.4917 , 14119.62   ,  3906.127  ,\n",
       "       12574.049  , 39983.42595,  9174.13565, 51194.55914,  7448.40395,\n",
       "        7935.29115, 47496.49445, 42124.5153 ,  4433.3877 ,  3757.8448 ,\n",
       "        4189.1131 , 28468.91901,  4747.0529 , 11163.568  ,  3077.0955 ,\n",
       "       20462.99766, 38245.59327,  4738.2682 , 45702.02235,  6796.86325,\n",
       "        1880.487  , 46661.4424 ,  3766.8838 ,  7160.3303 ,  4922.9159 ,\n",
       "        4766.022  ,  5375.038  , 19933.458  ,  1632.56445,  4032.2407 ,\n",
       "        7526.70645,  1917.3184 ,  9411.005  ,  6799.458  , 39597.4072 ,\n",
       "       21232.18226, 12495.29085, 11737.84884,  1631.8212 , 33307.5508 ,\n",
       "       39722.7462 , 36837.467  , 11286.5387 ,  3594.17085,  3410.324  ,\n",
       "        9875.6804 ])"
      ]
     },
     "execution_count": 23,
     "metadata": {},
     "output_type": "execute_result"
    }
   ],
   "source": [
    "y_pred = model1.predict(x_test)\n",
    "y_pred"
   ]
  },
  {
   "cell_type": "code",
   "execution_count": 24,
   "metadata": {},
   "outputs": [
    {
     "data": {
      "text/plain": [
       "100.0"
      ]
     },
     "execution_count": 24,
     "metadata": {},
     "output_type": "execute_result"
    }
   ],
   "source": [
    "model1.score(x_train,y_train)*100"
   ]
  },
  {
   "cell_type": "code",
   "execution_count": 25,
   "metadata": {},
   "outputs": [
    {
     "data": {
      "text/plain": [
       "1.0"
      ]
     },
     "execution_count": 25,
     "metadata": {},
     "output_type": "execute_result"
    }
   ],
   "source": [
    "model1.score(x_test,y_test)"
   ]
  },
  {
   "cell_type": "markdown",
   "metadata": {},
   "source": [
    "### Polynomial Regression"
   ]
  },
  {
   "cell_type": "code",
   "execution_count": 29,
   "metadata": {},
   "outputs": [],
   "source": [
    "from sklearn.preprocessing import PolynomialFeatures\n",
    "poly=PolynomialFeatures(degree=8)\n",
    "x_poly=poly.fit_transform(x)\n",
    "model=LinearRegression()\n",
    "model.fit(x_poly,y)\n",
    "y_pred=model.predict(x_poly)"
   ]
  },
  {
   "cell_type": "code",
   "execution_count": 30,
   "metadata": {},
   "outputs": [
    {
     "data": {
      "text/plain": [
       "94.03122858316338"
      ]
     },
     "execution_count": 30,
     "metadata": {},
     "output_type": "execute_result"
    }
   ],
   "source": [
    "\n",
    "r2_score(y,y_pred)*100"
   ]
  },
  {
   "cell_type": "code",
   "execution_count": null,
   "metadata": {},
   "outputs": [],
   "source": []
  }
 ],
 "metadata": {
  "kernelspec": {
   "display_name": "Python 3",
   "language": "python",
   "name": "python3"
  },
  "language_info": {
   "codemirror_mode": {
    "name": "ipython",
    "version": 3
   },
   "file_extension": ".py",
   "mimetype": "text/x-python",
   "name": "python",
   "nbconvert_exporter": "python",
   "pygments_lexer": "ipython3",
   "version": "3.8.3"
  }
 },
 "nbformat": 4,
 "nbformat_minor": 4
}
