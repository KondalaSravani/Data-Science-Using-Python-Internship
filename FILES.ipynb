{
 "cells": [
  {
   "cell_type": "markdown",
   "metadata": {},
   "source": [
    "### CONTENTS\n",
    "\n",
    "- File and File operations"
   ]
  },
  {
   "cell_type": "markdown",
   "metadata": {},
   "source": [
    "### Files and File Operations\n",
    "\n",
    "- file is a collection of records\n",
    "- File Operations:\n",
    "  - open \n",
    "  - read r+\n",
    "  - write w+,w\n",
    "  - append a+,a\n",
    "  - close \n",
    "  \n",
    "  \n",
    "- All data must be in string"
   ]
  },
  {
   "cell_type": "markdown",
   "metadata": {},
   "source": [
    "### Files\n",
    "\n",
    "- open() \n",
    "      - r -> read the file from existing file\n",
    "      - w -> write data to new file / if file exists remove all the data and add new data\n",
    "      - a ->write data to the existing file\n",
    "- Do some operations\n",
    "      - read the data\n",
    "      - write the data\n",
    "- close()"
   ]
  },
  {
   "cell_type": "code",
   "execution_count": 1,
   "metadata": {},
   "outputs": [
    {
     "data": {
      "text/plain": [
       "'C:\\\\Users\\\\sravani\\\\1 DATA ANALYSIS USING PYTHON INTERNSHIP'"
      ]
     },
     "execution_count": 1,
     "metadata": {},
     "output_type": "execute_result"
    }
   ],
   "source": [
    "pwd()"
   ]
  },
  {
   "cell_type": "code",
   "execution_count": 17,
   "metadata": {},
   "outputs": [
    {
     "name": "stdout",
     "output_type": "stream",
     "text": [
      "13\n"
     ]
    }
   ],
   "source": [
    "fopen=open('data.txt','w') # using w creates a file\n",
    "fw=fopen.write(\"Good Evening\\n\")\n",
    "print(fw)\n",
    "fopen.close()"
   ]
  },
  {
   "cell_type": "code",
   "execution_count": 18,
   "metadata": {},
   "outputs": [],
   "source": [
    "fadd=open('data.txt','a')\n",
    "fa = fadd.write(\"Good Evening\\n\"*10)\n",
    "fadd.close()"
   ]
  },
  {
   "cell_type": "code",
   "execution_count": 19,
   "metadata": {},
   "outputs": [
    {
     "name": "stdout",
     "output_type": "stream",
     "text": [
      "Good Evening\n",
      "Good Evening\n",
      "Good Evening\n",
      "Good Evening\n",
      "Good Evening\n",
      "Good Evening\n",
      "Good Evening\n",
      "Good Evening\n",
      "Good Evening\n",
      "Good Evening\n",
      "Good Evening\n",
      "\n"
     ]
    }
   ],
   "source": [
    "fread = open(\"data.txt\",'r')\n",
    "fr=fread.read()\n",
    "print(fr)\n",
    "fread.close()"
   ]
  },
  {
   "cell_type": "code",
   "execution_count": 20,
   "metadata": {},
   "outputs": [
    {
     "name": "stdout",
     "output_type": "stream",
     "text": [
      "['Good Evening\\n', 'Good Evening\\n', 'Good Evening\\n', 'Good Evening\\n', 'Good Evening\\n', 'Good Evening\\n', 'Good Evening\\n', 'Good Evening\\n', 'Good Evening\\n', 'Good Evening\\n', 'Good Evening\\n']\n"
     ]
    }
   ],
   "source": [
    "fread = open(\"data.txt\",'r')\n",
    "fr=fread.readlines() # to read in form of list format\n",
    "print(fr)\n",
    "fread.close()"
   ]
  },
  {
   "cell_type": "code",
   "execution_count": 21,
   "metadata": {},
   "outputs": [
    {
     "name": "stdout",
     "output_type": "stream",
     "text": [
      "22\n"
     ]
    }
   ],
   "source": [
    "with open(\"data.txt1\",'w') as ds:\n",
    "    ff = ds.write(\"Good Evening Everyone\\n\")\n",
    "    print(ff)\n",
    "ds.close()"
   ]
  },
  {
   "cell_type": "code",
   "execution_count": 22,
   "metadata": {},
   "outputs": [
    {
     "name": "stdout",
     "output_type": "stream",
     "text": [
      "210\n"
     ]
    }
   ],
   "source": [
    "with open(\"data2.txt\",'w') as ds:\n",
    "    ff = ds.write(\"Good Evening Everyone\"*10)\n",
    "    print(ff)\n",
    "ds.close()"
   ]
  },
  {
   "cell_type": "code",
   "execution_count": 16,
   "metadata": {},
   "outputs": [
    {
     "ename": "AttributeError",
     "evalue": "'int' object has no attribute 'read'",
     "output_type": "error",
     "traceback": [
      "\u001b[1;31m---------------------------------------------------------------------------\u001b[0m",
      "\u001b[1;31mAttributeError\u001b[0m                            Traceback (most recent call last)",
      "\u001b[1;32m<ipython-input-16-6a56ad68e173>\u001b[0m in \u001b[0;36m<module>\u001b[1;34m\u001b[0m\n\u001b[1;32m----> 1\u001b[1;33m \u001b[0mf\u001b[0m \u001b[1;33m=\u001b[0m \u001b[0mff\u001b[0m\u001b[1;33m.\u001b[0m\u001b[0mread\u001b[0m\u001b[1;33m(\u001b[0m\u001b[1;33m)\u001b[0m\u001b[1;33m\u001b[0m\u001b[1;33m\u001b[0m\u001b[0m\n\u001b[0m",
      "\u001b[1;31mAttributeError\u001b[0m: 'int' object has no attribute 'read'"
     ]
    }
   ],
   "source": [
    "f = ff.read()"
   ]
  },
  {
   "cell_type": "code",
   "execution_count": null,
   "metadata": {},
   "outputs": [],
   "source": [
    "# no of lines\n",
    "# no of words\n",
    "# no of characters in a file"
   ]
  },
  {
   "cell_type": "code",
   "execution_count": null,
   "metadata": {},
   "outputs": [],
   "source": []
  },
  {
   "cell_type": "code",
   "execution_count": 26,
   "metadata": {},
   "outputs": [
    {
     "name": "stdout",
     "output_type": "stream",
     "text": [
      "Number of lines :  12\n",
      "Number of words :  22\n",
      "Number of characters :  143\n"
     ]
    }
   ],
   "source": [
    "cnt=0\n",
    "with open('data.txt','r') as fg:\n",
    "    k = fg.read()\n",
    "    cnt+=1\n",
    "    wc=1\n",
    "    for i in k:\n",
    "        if i=='\\n':\n",
    "            cnt+=1\n",
    "            wc=k.split()\n",
    "    print(\"Number of lines : \",cnt)\n",
    "    print(\"Number of words : \",len(wc))\n",
    "    print(\"Number of characters : \",len(k))\n",
    "    "
   ]
  },
  {
   "cell_type": "code",
   "execution_count": 27,
   "metadata": {},
   "outputs": [],
   "source": [
    "f = open('file.txt','w')\n",
    "\n",
    "f.close()"
   ]
  },
  {
   "cell_type": "code",
   "execution_count": 29,
   "metadata": {},
   "outputs": [],
   "source": [
    "for i in range(1,5):\n",
    "    f = open('file'+str(i)+'.txt','w') # all data must be in string so str(i)\n",
    "    \n",
    "    f.close()"
   ]
  },
  {
   "cell_type": "code",
   "execution_count": 30,
   "metadata": {},
   "outputs": [
    {
     "ename": "TypeError",
     "evalue": "write() argument must be str, not int",
     "output_type": "error",
     "traceback": [
      "\u001b[1;31m---------------------------------------------------------------------------\u001b[0m",
      "\u001b[1;31mTypeError\u001b[0m                                 Traceback (most recent call last)",
      "\u001b[1;32m<ipython-input-30-495ff2d0f69a>\u001b[0m in \u001b[0;36m<module>\u001b[1;34m\u001b[0m\n\u001b[0;32m      1\u001b[0m \u001b[1;31m# write only takes strings and not integers\u001b[0m\u001b[1;33m\u001b[0m\u001b[1;33m\u001b[0m\u001b[1;33m\u001b[0m\u001b[0m\n\u001b[0;32m      2\u001b[0m \u001b[0mf\u001b[0m \u001b[1;33m=\u001b[0m \u001b[0mopen\u001b[0m\u001b[1;33m(\u001b[0m\u001b[1;34m\"file.txt\"\u001b[0m\u001b[1;33m,\u001b[0m\u001b[1;34m\"w\"\u001b[0m\u001b[1;33m)\u001b[0m\u001b[1;33m\u001b[0m\u001b[1;33m\u001b[0m\u001b[0m\n\u001b[1;32m----> 3\u001b[1;33m \u001b[0mf\u001b[0m\u001b[1;33m.\u001b[0m\u001b[0mwrite\u001b[0m\u001b[1;33m(\u001b[0m\u001b[1;36m5\u001b[0m\u001b[1;33m)\u001b[0m\u001b[1;33m\u001b[0m\u001b[1;33m\u001b[0m\u001b[0m\n\u001b[0m\u001b[0;32m      4\u001b[0m \u001b[0mf\u001b[0m\u001b[1;33m.\u001b[0m\u001b[0mclose\u001b[0m\u001b[1;33m(\u001b[0m\u001b[1;33m)\u001b[0m\u001b[1;33m\u001b[0m\u001b[1;33m\u001b[0m\u001b[0m\n",
      "\u001b[1;31mTypeError\u001b[0m: write() argument must be str, not int"
     ]
    }
   ],
   "source": [
    "# write only takes strings and not integers\n",
    "f = open(\"file.txt\",\"w\")\n",
    "f.write(5) # error since it takes inly str\n",
    "f.close()"
   ]
  },
  {
   "cell_type": "code",
   "execution_count": 31,
   "metadata": {},
   "outputs": [],
   "source": [
    "f=open('file.txt','w')\n",
    "for i in range(1,101):\n",
    "    f.write('18JG1A050'+str(i)+'\\n')\n",
    "f.close()\n",
    "    "
   ]
  },
  {
   "cell_type": "code",
   "execution_count": 32,
   "metadata": {},
   "outputs": [],
   "source": [
    "f=open('file.txt','a')\n",
    "for i in range(1,101):\n",
    "    f.write('19JG1A050'+str(i)+'\\t')\n",
    "f.close()\n",
    "    "
   ]
  },
  {
   "cell_type": "code",
   "execution_count": 34,
   "metadata": {
    "collapsed": true
   },
   "outputs": [
    {
     "name": "stdout",
     "output_type": "stream",
     "text": [
      "18jg1a0501\n",
      "18jg1a0502\n",
      "18jg1a0503\n",
      "18jg1a0504\n",
      "18jg1a0505\n",
      "18jg1a0506\n",
      "18jg1a0507\n",
      "18jg1a0508\n",
      "18jg1a0509\n",
      "18jg1a05010\n",
      "18jg1a05011\n",
      "18jg1a05012\n",
      "18jg1a05013\n",
      "18jg1a05014\n",
      "18jg1a05015\n",
      "18jg1a05016\n",
      "18jg1a05017\n",
      "18jg1a05018\n",
      "18jg1a05019\n",
      "18jg1a05020\n",
      "18jg1a05021\n",
      "18jg1a05022\n",
      "18jg1a05023\n",
      "18jg1a05024\n",
      "18jg1a05025\n",
      "18jg1a05026\n",
      "18jg1a05027\n",
      "18jg1a05028\n",
      "18jg1a05029\n",
      "18jg1a05030\n",
      "18jg1a05031\n",
      "18jg1a05032\n",
      "18jg1a05033\n",
      "18jg1a05034\n",
      "18jg1a05035\n",
      "18jg1a05036\n",
      "18jg1a05037\n",
      "18jg1a05038\n",
      "18jg1a05039\n",
      "18jg1a05040\n",
      "18jg1a05041\n",
      "18jg1a05042\n",
      "18jg1a05043\n",
      "18jg1a05044\n",
      "18jg1a05045\n",
      "18jg1a05046\n",
      "18jg1a05047\n",
      "18jg1a05048\n",
      "18jg1a05049\n",
      "18jg1a05050\n",
      "18jg1a05051\n",
      "18jg1a05052\n",
      "18jg1a05053\n",
      "18jg1a05054\n",
      "18jg1a05055\n",
      "18jg1a05056\n",
      "18jg1a05057\n",
      "18jg1a05058\n",
      "18jg1a05059\n",
      "18jg1a05060\n",
      "18jg1a05061\n",
      "18jg1a05062\n",
      "18jg1a05063\n",
      "18jg1a05064\n",
      "18jg1a05065\n",
      "18jg1a05066\n",
      "18jg1a05067\n",
      "18jg1a05068\n",
      "18jg1a05069\n",
      "18jg1a05070\n",
      "18jg1a05071\n",
      "18jg1a05072\n",
      "18jg1a05073\n",
      "18jg1a05074\n",
      "18jg1a05075\n",
      "18jg1a05076\n",
      "18jg1a05077\n",
      "18jg1a05078\n",
      "18jg1a05079\n",
      "18jg1a05080\n",
      "18jg1a05081\n",
      "18jg1a05082\n",
      "18jg1a05083\n",
      "18jg1a05084\n",
      "18jg1a05085\n",
      "18jg1a05086\n",
      "18jg1a05087\n",
      "18jg1a05088\n",
      "18jg1a05089\n",
      "18jg1a05090\n",
      "18jg1a05091\n",
      "18jg1a05092\n",
      "18jg1a05093\n",
      "18jg1a05094\n",
      "18jg1a05095\n",
      "18jg1a05096\n",
      "18jg1a05097\n",
      "18jg1a05098\n",
      "18jg1a05099\n",
      "18jg1a050100\n",
      "19jg1a0501\t19jg1a0502\t19jg1a0503\t19jg1a0504\t19jg1a0505\t19jg1a0506\t19jg1a0507\t19jg1a0508\t19jg1a0509\t19jg1a05010\t19jg1a05011\t19jg1a05012\t19jg1a05013\t19jg1a05014\t19jg1a05015\t19jg1a05016\t19jg1a05017\t19jg1a05018\t19jg1a05019\t19jg1a05020\t19jg1a05021\t19jg1a05022\t19jg1a05023\t19jg1a05024\t19jg1a05025\t19jg1a05026\t19jg1a05027\t19jg1a05028\t19jg1a05029\t19jg1a05030\t19jg1a05031\t19jg1a05032\t19jg1a05033\t19jg1a05034\t19jg1a05035\t19jg1a05036\t19jg1a05037\t19jg1a05038\t19jg1a05039\t19jg1a05040\t19jg1a05041\t19jg1a05042\t19jg1a05043\t19jg1a05044\t19jg1a05045\t19jg1a05046\t19jg1a05047\t19jg1a05048\t19jg1a05049\t19jg1a05050\t19jg1a05051\t19jg1a05052\t19jg1a05053\t19jg1a05054\t19jg1a05055\t19jg1a05056\t19jg1a05057\t19jg1a05058\t19jg1a05059\t19jg1a05060\t19jg1a05061\t19jg1a05062\t19jg1a05063\t19jg1a05064\t19jg1a05065\t19jg1a05066\t19jg1a05067\t19jg1a05068\t19jg1a05069\t19jg1a05070\t19jg1a05071\t19jg1a05072\t19jg1a05073\t19jg1a05074\t19jg1a05075\t19jg1a05076\t19jg1a05077\t19jg1a05078\t19jg1a05079\t19jg1a05080\t19jg1a05081\t19jg1a05082\t19jg1a05083\t19jg1a05084\t19jg1a05085\t19jg1a05086\t19jg1a05087\t19jg1a05088\t19jg1a05089\t19jg1a05090\t19jg1a05091\t19jg1a05092\t19jg1a05093\t19jg1a05094\t19jg1a05095\t19jg1a05096\t19jg1a05097\t19jg1a05098\t19jg1a05099\t19jg1a050100\t\n",
      "18JG1A0501\n",
      "18JG1A0502\n",
      "18JG1A0503\n",
      "18JG1A0504\n",
      "18JG1A0505\n",
      "18JG1A0506\n",
      "18JG1A0507\n",
      "18JG1A0508\n",
      "18JG1A0509\n",
      "18JG1A05010\n",
      "18JG1A05011\n",
      "18JG1A05012\n",
      "18JG1A05013\n",
      "18JG1A05014\n",
      "18JG1A05015\n",
      "18JG1A05016\n",
      "18JG1A05017\n",
      "18JG1A05018\n",
      "18JG1A05019\n",
      "18JG1A05020\n",
      "18JG1A05021\n",
      "18JG1A05022\n",
      "18JG1A05023\n",
      "18JG1A05024\n",
      "18JG1A05025\n",
      "18JG1A05026\n",
      "18JG1A05027\n",
      "18JG1A05028\n",
      "18JG1A05029\n",
      "18JG1A05030\n",
      "18JG1A05031\n",
      "18JG1A05032\n",
      "18JG1A05033\n",
      "18JG1A05034\n",
      "18JG1A05035\n",
      "18JG1A05036\n",
      "18JG1A05037\n",
      "18JG1A05038\n",
      "18JG1A05039\n",
      "18JG1A05040\n",
      "18JG1A05041\n",
      "18JG1A05042\n",
      "18JG1A05043\n",
      "18JG1A05044\n",
      "18JG1A05045\n",
      "18JG1A05046\n",
      "18JG1A05047\n",
      "18JG1A05048\n",
      "18JG1A05049\n",
      "18JG1A05050\n",
      "18JG1A05051\n",
      "18JG1A05052\n",
      "18JG1A05053\n",
      "18JG1A05054\n",
      "18JG1A05055\n",
      "18JG1A05056\n",
      "18JG1A05057\n",
      "18JG1A05058\n",
      "18JG1A05059\n",
      "18JG1A05060\n",
      "18JG1A05061\n",
      "18JG1A05062\n",
      "18JG1A05063\n",
      "18JG1A05064\n",
      "18JG1A05065\n",
      "18JG1A05066\n",
      "18JG1A05067\n",
      "18JG1A05068\n",
      "18JG1A05069\n",
      "18JG1A05070\n",
      "18JG1A05071\n",
      "18JG1A05072\n",
      "18JG1A05073\n",
      "18JG1A05074\n",
      "18JG1A05075\n",
      "18JG1A05076\n",
      "18JG1A05077\n",
      "18JG1A05078\n",
      "18JG1A05079\n",
      "18JG1A05080\n",
      "18JG1A05081\n",
      "18JG1A05082\n",
      "18JG1A05083\n",
      "18JG1A05084\n",
      "18JG1A05085\n",
      "18JG1A05086\n",
      "18JG1A05087\n",
      "18JG1A05088\n",
      "18JG1A05089\n",
      "18JG1A05090\n",
      "18JG1A05091\n",
      "18JG1A05092\n",
      "18JG1A05093\n",
      "18JG1A05094\n",
      "18JG1A05095\n",
      "18JG1A05096\n",
      "18JG1A05097\n",
      "18JG1A05098\n",
      "18JG1A05099\n",
      "18JG1A050100\n",
      "19JG1A0501\t19JG1A0502\t19JG1A0503\t19JG1A0504\t19JG1A0505\t19JG1A0506\t19JG1A0507\t19JG1A0508\t19JG1A0509\t19JG1A05010\t19JG1A05011\t19JG1A05012\t19JG1A05013\t19JG1A05014\t19JG1A05015\t19JG1A05016\t19JG1A05017\t19JG1A05018\t19JG1A05019\t19JG1A05020\t19JG1A05021\t19JG1A05022\t19JG1A05023\t19JG1A05024\t19JG1A05025\t19JG1A05026\t19JG1A05027\t19JG1A05028\t19JG1A05029\t19JG1A05030\t19JG1A05031\t19JG1A05032\t19JG1A05033\t19JG1A05034\t19JG1A05035\t19JG1A05036\t19JG1A05037\t19JG1A05038\t19JG1A05039\t19JG1A05040\t19JG1A05041\t19JG1A05042\t19JG1A05043\t19JG1A05044\t19JG1A05045\t19JG1A05046\t19JG1A05047\t19JG1A05048\t19JG1A05049\t19JG1A05050\t19JG1A05051\t19JG1A05052\t19JG1A05053\t19JG1A05054\t19JG1A05055\t19JG1A05056\t19JG1A05057\t19JG1A05058\t19JG1A05059\t19JG1A05060\t19JG1A05061\t19JG1A05062\t19JG1A05063\t19JG1A05064\t19JG1A05065\t19JG1A05066\t19JG1A05067\t19JG1A05068\t19JG1A05069\t19JG1A05070\t19JG1A05071\t19JG1A05072\t19JG1A05073\t19JG1A05074\t19JG1A05075\t19JG1A05076\t19JG1A05077\t19JG1A05078\t19JG1A05079\t19JG1A05080\t19JG1A05081\t19JG1A05082\t19JG1A05083\t19JG1A05084\t19JG1A05085\t19JG1A05086\t19JG1A05087\t19JG1A05088\t19JG1A05089\t19JG1A05090\t19JG1A05091\t19JG1A05092\t19JG1A05093\t19JG1A05094\t19JG1A05095\t19JG1A05096\t19JG1A05097\t19JG1A05098\t19JG1A05099\t19JG1A050100\t\n"
     ]
    }
   ],
   "source": [
    "f=open('file.txt','r')\n",
    "data = f.read()\n",
    "\n",
    "print(data.lower())\n",
    "print(data)\n",
    "f.close()"
   ]
  },
  {
   "cell_type": "code",
   "execution_count": 36,
   "metadata": {},
   "outputs": [
    {
     "name": "stdout",
     "output_type": "stream",
     "text": [
      "18JG1A0501\n",
      "\n"
     ]
    }
   ],
   "source": [
    "f=open('file.txt','r')\n",
    "data = f.readline()\n",
    "\n",
    "print(data)\n",
    "f.close()"
   ]
  },
  {
   "cell_type": "code",
   "execution_count": 37,
   "metadata": {},
   "outputs": [
    {
     "name": "stdout",
     "output_type": "stream",
     "text": [
      "18JG1A0501\n",
      "\n",
      "18JG1A0502\n",
      "\n"
     ]
    }
   ],
   "source": [
    "f=open('file.txt','r')\n",
    "data = f.readline()\n",
    "\n",
    "print(data)\n",
    "print(f.readline()) # read secid line\n",
    "f.close()"
   ]
  },
  {
   "cell_type": "code",
   "execution_count": 38,
   "metadata": {},
   "outputs": [
    {
     "name": "stdout",
     "output_type": "stream",
     "text": [
      "18JG1A0501\n",
      "18JG\n"
     ]
    }
   ],
   "source": [
    "# to get 15 characters\n",
    "f=open('file.txt','r')\n",
    "data = f.read(15)\n",
    "\n",
    "print(data)\n",
    "f.close()"
   ]
  },
  {
   "cell_type": "code",
   "execution_count": 40,
   "metadata": {},
   "outputs": [
    {
     "name": "stdout",
     "output_type": "stream",
     "text": [
      "['18JG1A0501\\n', '18JG1A0502\\n', '18JG1A0503\\n', '18JG1A0504\\n', '18JG1A0505\\n', '18JG1A0506\\n', '18JG1A0507\\n', '18JG1A0508\\n', '18JG1A0509\\n', '18JG1A05010\\n']\n"
     ]
    }
   ],
   "source": [
    "f=open('file.txt','r')\n",
    "data = f.readlines()\n",
    "\n",
    "print(data[:10])\n",
    "f.close()"
   ]
  },
  {
   "cell_type": "code",
   "execution_count": 41,
   "metadata": {
    "collapsed": true
   },
   "outputs": [
    {
     "name": "stdout",
     "output_type": "stream",
     "text": [
      "18JG1A0501\n",
      "\n",
      "18JG1A0502\n",
      "\n",
      "18JG1A0503\n",
      "\n",
      "18JG1A0504\n",
      "\n",
      "18JG1A0505\n",
      "\n",
      "18JG1A0506\n",
      "\n",
      "18JG1A0507\n",
      "\n",
      "18JG1A0508\n",
      "\n",
      "18JG1A0509\n",
      "\n",
      "18JG1A05010\n",
      "\n",
      "18JG1A05011\n",
      "\n",
      "18JG1A05012\n",
      "\n",
      "18JG1A05013\n",
      "\n",
      "18JG1A05014\n",
      "\n",
      "18JG1A05015\n",
      "\n",
      "18JG1A05016\n",
      "\n",
      "18JG1A05017\n",
      "\n",
      "18JG1A05018\n",
      "\n",
      "18JG1A05019\n",
      "\n",
      "18JG1A05020\n",
      "\n",
      "18JG1A05021\n",
      "\n",
      "18JG1A05022\n",
      "\n",
      "18JG1A05023\n",
      "\n",
      "18JG1A05024\n",
      "\n",
      "18JG1A05025\n",
      "\n",
      "18JG1A05026\n",
      "\n",
      "18JG1A05027\n",
      "\n",
      "18JG1A05028\n",
      "\n",
      "18JG1A05029\n",
      "\n",
      "18JG1A05030\n",
      "\n",
      "18JG1A05031\n",
      "\n",
      "18JG1A05032\n",
      "\n",
      "18JG1A05033\n",
      "\n",
      "18JG1A05034\n",
      "\n",
      "18JG1A05035\n",
      "\n",
      "18JG1A05036\n",
      "\n",
      "18JG1A05037\n",
      "\n",
      "18JG1A05038\n",
      "\n",
      "18JG1A05039\n",
      "\n",
      "18JG1A05040\n",
      "\n",
      "18JG1A05041\n",
      "\n",
      "18JG1A05042\n",
      "\n",
      "18JG1A05043\n",
      "\n",
      "18JG1A05044\n",
      "\n",
      "18JG1A05045\n",
      "\n",
      "18JG1A05046\n",
      "\n",
      "18JG1A05047\n",
      "\n",
      "18JG1A05048\n",
      "\n",
      "18JG1A05049\n",
      "\n",
      "18JG1A05050\n",
      "\n",
      "18JG1A05051\n",
      "\n",
      "18JG1A05052\n",
      "\n",
      "18JG1A05053\n",
      "\n",
      "18JG1A05054\n",
      "\n",
      "18JG1A05055\n",
      "\n",
      "18JG1A05056\n",
      "\n",
      "18JG1A05057\n",
      "\n",
      "18JG1A05058\n",
      "\n",
      "18JG1A05059\n",
      "\n",
      "18JG1A05060\n",
      "\n",
      "18JG1A05061\n",
      "\n",
      "18JG1A05062\n",
      "\n",
      "18JG1A05063\n",
      "\n",
      "18JG1A05064\n",
      "\n",
      "18JG1A05065\n",
      "\n",
      "18JG1A05066\n",
      "\n",
      "18JG1A05067\n",
      "\n",
      "18JG1A05068\n",
      "\n",
      "18JG1A05069\n",
      "\n",
      "18JG1A05070\n",
      "\n",
      "18JG1A05071\n",
      "\n",
      "18JG1A05072\n",
      "\n",
      "18JG1A05073\n",
      "\n",
      "18JG1A05074\n",
      "\n",
      "18JG1A05075\n",
      "\n",
      "18JG1A05076\n",
      "\n",
      "18JG1A05077\n",
      "\n",
      "18JG1A05078\n",
      "\n",
      "18JG1A05079\n",
      "\n",
      "18JG1A05080\n",
      "\n",
      "18JG1A05081\n",
      "\n",
      "18JG1A05082\n",
      "\n",
      "18JG1A05083\n",
      "\n",
      "18JG1A05084\n",
      "\n",
      "18JG1A05085\n",
      "\n",
      "18JG1A05086\n",
      "\n",
      "18JG1A05087\n",
      "\n",
      "18JG1A05088\n",
      "\n",
      "18JG1A05089\n",
      "\n",
      "18JG1A05090\n",
      "\n",
      "18JG1A05091\n",
      "\n",
      "18JG1A05092\n",
      "\n",
      "18JG1A05093\n",
      "\n",
      "18JG1A05094\n",
      "\n",
      "18JG1A05095\n",
      "\n",
      "18JG1A05096\n",
      "\n",
      "18JG1A05097\n",
      "\n",
      "18JG1A05098\n",
      "\n",
      "18JG1A05099\n",
      "\n",
      "18JG1A050100\n",
      "\n",
      "19JG1A0501\t19JG1A0502\t19JG1A0503\t19JG1A0504\t19JG1A0505\t19JG1A0506\t19JG1A0507\t19JG1A0508\t19JG1A0509\t19JG1A05010\t19JG1A05011\t19JG1A05012\t19JG1A05013\t19JG1A05014\t19JG1A05015\t19JG1A05016\t19JG1A05017\t19JG1A05018\t19JG1A05019\t19JG1A05020\t19JG1A05021\t19JG1A05022\t19JG1A05023\t19JG1A05024\t19JG1A05025\t19JG1A05026\t19JG1A05027\t19JG1A05028\t19JG1A05029\t19JG1A05030\t19JG1A05031\t19JG1A05032\t19JG1A05033\t19JG1A05034\t19JG1A05035\t19JG1A05036\t19JG1A05037\t19JG1A05038\t19JG1A05039\t19JG1A05040\t19JG1A05041\t19JG1A05042\t19JG1A05043\t19JG1A05044\t19JG1A05045\t19JG1A05046\t19JG1A05047\t19JG1A05048\t19JG1A05049\t19JG1A05050\t19JG1A05051\t19JG1A05052\t19JG1A05053\t19JG1A05054\t19JG1A05055\t19JG1A05056\t19JG1A05057\t19JG1A05058\t19JG1A05059\t19JG1A05060\t19JG1A05061\t19JG1A05062\t19JG1A05063\t19JG1A05064\t19JG1A05065\t19JG1A05066\t19JG1A05067\t19JG1A05068\t19JG1A05069\t19JG1A05070\t19JG1A05071\t19JG1A05072\t19JG1A05073\t19JG1A05074\t19JG1A05075\t19JG1A05076\t19JG1A05077\t19JG1A05078\t19JG1A05079\t19JG1A05080\t19JG1A05081\t19JG1A05082\t19JG1A05083\t19JG1A05084\t19JG1A05085\t19JG1A05086\t19JG1A05087\t19JG1A05088\t19JG1A05089\t19JG1A05090\t19JG1A05091\t19JG1A05092\t19JG1A05093\t19JG1A05094\t19JG1A05095\t19JG1A05096\t19JG1A05097\t19JG1A05098\t19JG1A05099\t19JG1A050100\t\n"
     ]
    }
   ],
   "source": [
    "f=open('file.txt','r')\n",
    "data = f.readlines()\n",
    "\n",
    "for line in data:\n",
    "    print(line)\n",
    "f.close()"
   ]
  },
  {
   "cell_type": "markdown",
   "metadata": {},
   "source": [
    "- r+\n",
    "- w+\n",
    "- a+"
   ]
  },
  {
   "cell_type": "code",
   "execution_count": 42,
   "metadata": {},
   "outputs": [],
   "source": [
    "f=open('file.txt','r+')\n",
    "data = f.read()\n",
    "f.write(data)\n",
    "f.close()"
   ]
  },
  {
   "cell_type": "code",
   "execution_count": 44,
   "metadata": {
    "collapsed": true
   },
   "outputs": [
    {
     "name": "stdout",
     "output_type": "stream",
     "text": [
      "8JG1A0502\n",
      "18JG1A0503\n",
      "18JG1A0504\n",
      "18JG1A0505\n",
      "18JG1A0506\n",
      "18JG1A0507\n",
      "18JG1A0508\n",
      "18JG1A0509\n",
      "18JG1A05010\n",
      "18JG1A05011\n",
      "18JG1A05012\n",
      "18JG1A05013\n",
      "18JG1A05014\n",
      "18JG1A05015\n",
      "18JG1A05016\n",
      "18JG1A05017\n",
      "18JG1A05018\n",
      "18JG1A05019\n",
      "18JG1A05020\n",
      "18JG1A05021\n",
      "18JG1A05022\n",
      "18JG1A05023\n",
      "18JG1A05024\n",
      "18JG1A05025\n",
      "18JG1A05026\n",
      "18JG1A05027\n",
      "18JG1A05028\n",
      "18JG1A05029\n",
      "18JG1A05030\n",
      "18JG1A05031\n",
      "18JG1A05032\n",
      "18JG1A05033\n",
      "18JG1A05034\n",
      "18JG1A05035\n",
      "18JG1A05036\n",
      "18JG1A05037\n",
      "18JG1A05038\n",
      "18JG1A05039\n",
      "18JG1A05040\n",
      "18JG1A05041\n",
      "18JG1A05042\n",
      "18JG1A05043\n",
      "18JG1A05044\n",
      "18JG1A05045\n",
      "18JG1A05046\n",
      "18JG1A05047\n",
      "18JG1A05048\n",
      "18JG1A05049\n",
      "18JG1A05050\n",
      "18JG1A05051\n",
      "18JG1A05052\n",
      "18JG1A05053\n",
      "18JG1A05054\n",
      "18JG1A05055\n",
      "18JG1A05056\n",
      "18JG1A05057\n",
      "18JG1A05058\n",
      "18JG1A05059\n",
      "18JG1A05060\n",
      "18JG1A05061\n",
      "18JG1A05062\n",
      "18JG1A05063\n",
      "18JG1A05064\n",
      "18JG1A05065\n",
      "18JG1A05066\n",
      "18JG1A05067\n",
      "18JG1A05068\n",
      "18JG1A05069\n",
      "18JG1A05070\n",
      "18JG1A05071\n",
      "18JG1A05072\n",
      "18JG1A05073\n",
      "18JG1A05074\n",
      "18JG1A05075\n",
      "18JG1A05076\n",
      "18JG1A05077\n",
      "18JG1A05078\n",
      "18JG1A05079\n",
      "18JG1A05080\n",
      "18JG1A05081\n",
      "18JG1A05082\n",
      "18JG1A05083\n",
      "18JG1A05084\n",
      "18JG1A05085\n",
      "18JG1A05086\n",
      "18JG1A05087\n",
      "18JG1A05088\n",
      "18JG1A05089\n",
      "18JG1A05090\n",
      "18JG1A05091\n",
      "18JG1A05092\n",
      "18JG1A05093\n",
      "18JG1A05094\n",
      "18JG1A05095\n",
      "18JG1A05096\n",
      "18JG1A05097\n",
      "18JG1A05098\n",
      "18JG1A05099\n",
      "18JG1A050100\n",
      "19JG1A0501\t19JG1A0502\t19JG1A0503\t19JG1A0504\t19JG1A0505\t19JG1A0506\t19JG1A0507\t19JG1A0508\t19JG1A0509\t19JG1A05010\t19JG1A05011\t19JG1A05012\t19JG1A05013\t19JG1A05014\t19JG1A05015\t19JG1A05016\t19JG1A05017\t19JG1A05018\t19JG1A05019\t19JG1A05020\t19JG1A05021\t19JG1A05022\t19JG1A05023\t19JG1A05024\t19JG1A05025\t19JG1A05026\t19JG1A05027\t19JG1A05028\t19JG1A05029\t19JG1A05030\t19JG1A05031\t19JG1A05032\t19JG1A05033\t19JG1A05034\t19JG1A05035\t19JG1A05036\t19JG1A05037\t19JG1A05038\t19JG1A05039\t19JG1A05040\t19JG1A05041\t19JG1A05042\t19JG1A05043\t19JG1A05044\t19JG1A05045\t19JG1A05046\t19JG1A05047\t19JG1A05048\t19JG1A05049\t19JG1A05050\t19JG1A05051\t19JG1A05052\t19JG1A05053\t19JG1A05054\t19JG1A05055\t19JG1A05056\t19JG1A05057\t19JG1A05058\t19JG1A05059\t19JG1A05060\t19JG1A05061\t19JG1A05062\t19JG1A05063\t19JG1A05064\t19JG1A05065\t19JG1A05066\t19JG1A05067\t19JG1A05068\t19JG1A05069\t19JG1A05070\t19JG1A05071\t19JG1A05072\t19JG1A05073\t19JG1A05074\t19JG1A05075\t19JG1A05076\t19JG1A05077\t19JG1A05078\t19JG1A05079\t19JG1A05080\t19JG1A05081\t19JG1A05082\t19JG1A05083\t19JG1A05084\t19JG1A05085\t19JG1A05086\t19JG1A05087\t19JG1A05088\t19JG1A05089\t19JG1A05090\t19JG1A05091\t19JG1A05092\t19JG1A05093\t19JG1A05094\t19JG1A05095\t19JG1A05096\t19JG1A05097\t19JG1A05098\t19JG1A05099\t19JG1A050100\t18JG1A0501\n",
      "18JG1A0502\n",
      "18JG1A0503\n",
      "18JG1A0504\n",
      "18JG1A0505\n",
      "18JG1A0506\n",
      "18JG1A0507\n",
      "18JG1A0508\n",
      "18JG1A0509\n",
      "18JG1A05010\n",
      "18JG1A05011\n",
      "18JG1A05012\n",
      "18JG1A05013\n",
      "18JG1A05014\n",
      "18JG1A05015\n",
      "18JG1A05016\n",
      "18JG1A05017\n",
      "18JG1A05018\n",
      "18JG1A05019\n",
      "18JG1A05020\n",
      "18JG1A05021\n",
      "18JG1A05022\n",
      "18JG1A05023\n",
      "18JG1A05024\n",
      "18JG1A05025\n",
      "18JG1A05026\n",
      "18JG1A05027\n",
      "18JG1A05028\n",
      "18JG1A05029\n",
      "18JG1A05030\n",
      "18JG1A05031\n",
      "18JG1A05032\n",
      "18JG1A05033\n",
      "18JG1A05034\n",
      "18JG1A05035\n",
      "18JG1A05036\n",
      "18JG1A05037\n",
      "18JG1A05038\n",
      "18JG1A05039\n",
      "18JG1A05040\n",
      "18JG1A05041\n",
      "18JG1A05042\n",
      "18JG1A05043\n",
      "18JG1A05044\n",
      "18JG1A05045\n",
      "18JG1A05046\n",
      "18JG1A05047\n",
      "18JG1A05048\n",
      "18JG1A05049\n",
      "18JG1A05050\n",
      "18JG1A05051\n",
      "18JG1A05052\n",
      "18JG1A05053\n",
      "18JG1A05054\n",
      "18JG1A05055\n",
      "18JG1A05056\n",
      "18JG1A05057\n",
      "18JG1A05058\n",
      "18JG1A05059\n",
      "18JG1A05060\n",
      "18JG1A05061\n",
      "18JG1A05062\n",
      "18JG1A05063\n",
      "18JG1A05064\n",
      "18JG1A05065\n",
      "18JG1A05066\n",
      "18JG1A05067\n",
      "18JG1A05068\n",
      "18JG1A05069\n",
      "18JG1A05070\n",
      "18JG1A05071\n",
      "18JG1A05072\n",
      "18JG1A05073\n",
      "18JG1A05074\n",
      "18JG1A05075\n",
      "18JG1A05076\n",
      "18JG1A05077\n",
      "18JG1A05078\n",
      "18JG1A05079\n",
      "18JG1A05080\n",
      "18JG1A05081\n",
      "18JG1A05082\n",
      "18JG1A05083\n",
      "18JG1A05084\n",
      "18JG1A05085\n",
      "18JG1A05086\n",
      "18JG1A05087\n",
      "18JG1A05088\n",
      "18JG1A05089\n",
      "18JG1A05090\n",
      "18JG1A05091\n",
      "18JG1A05092\n",
      "18JG1A05093\n",
      "18JG1A05094\n",
      "18JG1A05095\n",
      "18JG1A05096\n",
      "18JG1A05097\n",
      "18JG1A05098\n",
      "18JG1A05099\n",
      "18JG1A050100\n",
      "19JG1A0501\t19JG1A0502\t19JG1A0503\t19JG1A0504\t19JG1A0505\t19JG1A0506\t19JG1A0507\t19JG1A0508\t19JG1A0509\t19JG1A05010\t19JG1A05011\t19JG1A05012\t19JG1A05013\t19JG1A05014\t19JG1A05015\t19JG1A05016\t19JG1A05017\t19JG1A05018\t19JG1A05019\t19JG1A05020\t19JG1A05021\t19JG1A05022\t19JG1A05023\t19JG1A05024\t19JG1A05025\t19JG1A05026\t19JG1A05027\t19JG1A05028\t19JG1A05029\t19JG1A05030\t19JG1A05031\t19JG1A05032\t19JG1A05033\t19JG1A05034\t19JG1A05035\t19JG1A05036\t19JG1A05037\t19JG1A05038\t19JG1A05039\t19JG1A05040\t19JG1A05041\t19JG1A05042\t19JG1A05043\t19JG1A05044\t19JG1A05045\t19JG1A05046\t19JG1A05047\t19JG1A05048\t19JG1A05049\t19JG1A05050\t19JG1A05051\t19JG1A05052\t19JG1A05053\t19JG1A05054\t19JG1A05055\t19JG1A05056\t19JG1A05057\t19JG1A05058\t19JG1A05059\t19JG1A05060\t19JG1A05061\t19JG1A05062\t19JG1A05063\t19JG1A05064\t19JG1A05065\t19JG1A05066\t19JG1A05067\t19JG1A05068\t19JG1A05069\t19JG1A05070\t19JG1A05071\t19JG1A05072\t19JG1A05073\t19JG1A05074\t19JG1A05075\t19JG1A05076\t19JG1A05077\t19JG1A05078\t19JG1A05079\t19JG1A05080\t19JG1A05081\t19JG1A05082\t19JG1A05083\t19JG1A05084\t19JG1A05085\t19JG1A05086\t19JG1A05087\t19JG1A05088\t19JG1A05089\t19JG1A05090\t19JG1A05091\t19JG1A05092\t19JG1A05093\t19JG1A05094\t19JG1A05095\t19JG1A05096\t19JG1A05097\t19JG1A05098\t19JG1A05099\t19JG1A050100\t\n"
     ]
    }
   ],
   "source": [
    "with open('file.txt','r+') as f:\n",
    "    f.write(\"Data Analysis\") #if came out of indendation file automatically closes\n",
    "    print(f.read())"
   ]
  },
  {
   "cell_type": "code",
   "execution_count": 45,
   "metadata": {},
   "outputs": [],
   "source": [
    "### copy from 1 to many"
   ]
  },
  {
   "cell_type": "code",
   "execution_count": 46,
   "metadata": {},
   "outputs": [],
   "source": [
    "with open('file.txt','r+') as f:\n",
    "    data=f.read()\n",
    "for i in range(1,5):\n",
    "    with open('file'+str(i)+'.txt','r+') as f:\n",
    "        f.write(data)"
   ]
  },
  {
   "cell_type": "code",
   "execution_count": null,
   "metadata": {},
   "outputs": [],
   "source": []
  }
 ],
 "metadata": {
  "kernelspec": {
   "display_name": "Python 3",
   "language": "python",
   "name": "python3"
  },
  "language_info": {
   "codemirror_mode": {
    "name": "ipython",
    "version": 3
   },
   "file_extension": ".py",
   "mimetype": "text/x-python",
   "name": "python",
   "nbconvert_exporter": "python",
   "pygments_lexer": "ipython3",
   "version": "3.8.3"
  }
 },
 "nbformat": 4,
 "nbformat_minor": 4
}
