{
 "cells": [
  {
   "cell_type": "markdown",
   "metadata": {},
   "source": [
    "### CONTENTS\n",
    "- Dictionary \n",
    "  - Accessing the elements\n",
    "  - Dictionary Methods\n",
    "- Set\n",
    "   - Set Methods"
   ]
  },
  {
   "cell_type": "markdown",
   "metadata": {},
   "source": [
    "### Dictionary\n",
    "\n",
    "- It is used to store non-homogeneous group of data in key: value pair\n",
    "\n",
    "#### Properties\n",
    "\n",
    "- It is used to store in key:value in'{}'\n",
    "- It is iterative\n",
    "- Ordered\n",
    "   - Python 3.6 is unordered\n",
    "   - Python 3.6+ is ordered\n",
    "- Key should be unique and it is immutable"
   ]
  },
  {
   "cell_type": "code",
   "execution_count": 1,
   "metadata": {},
   "outputs": [
    {
     "name": "stdout",
     "output_type": "stream",
     "text": [
      "<class 'dict'> <class 'dict'>\n"
     ]
    }
   ],
   "source": [
    "d1 = {}\n",
    "d2 = dict()\n",
    "\n",
    "print(type(d1),type(d2))"
   ]
  },
  {
   "cell_type": "code",
   "execution_count": 2,
   "metadata": {},
   "outputs": [
    {
     "data": {
      "text/plain": [
       "{'RollNo': [501, 202, 503, 504, 505, 506]}"
      ]
     },
     "execution_count": 2,
     "metadata": {},
     "output_type": "execute_result"
    }
   ],
   "source": [
    "d1 = {'RollNo' : [501,202,503,504,505,506]}\n",
    "d1"
   ]
  },
  {
   "cell_type": "code",
   "execution_count": 13,
   "metadata": {},
   "outputs": [
    {
     "data": {
      "text/plain": [
       "{'1234567890': ['Java', 'Vijayawada', '01/01/2000', '9876543210'],\n",
       " '9876543210': ['Python', 'Earth', '01/01/2000', '1234567890'],\n",
       " '12345678900': ['C', 'Visakhapatnam', '01/01/2000', '223344556688']}"
      ]
     },
     "execution_count": 13,
     "metadata": {},
     "output_type": "execute_result"
    }
   ],
   "source": [
    "d1 = {'1234567890' : ['Java','Vijayawada','01/01/2000','9876543210'],\n",
    "     '9876543210':['Python','Earth','01/01/2000','1234567890'],\n",
    "     '12345678900':['C','Visakhapatnam','01/01/2000','223344556688']}\n",
    "d1"
   ]
  },
  {
   "cell_type": "code",
   "execution_count": 14,
   "metadata": {},
   "outputs": [
    {
     "name": "stdout",
     "output_type": "stream",
     "text": [
      "{(1, 2, 3): 'Python'}\n"
     ]
    }
   ],
   "source": [
    "# key ---> only use immutable data type\n",
    "d2 = {(1,2,3):'Python'}\n",
    "print(d2)"
   ]
  },
  {
   "cell_type": "code",
   "execution_count": 15,
   "metadata": {},
   "outputs": [
    {
     "ename": "TypeError",
     "evalue": "unhashable type: 'list'",
     "output_type": "error",
     "traceback": [
      "\u001b[1;31m---------------------------------------------------------------------------\u001b[0m",
      "\u001b[1;31mTypeError\u001b[0m                                 Traceback (most recent call last)",
      "\u001b[1;32m<ipython-input-15-677466ec6a3c>\u001b[0m in \u001b[0;36m<module>\u001b[1;34m\u001b[0m\n\u001b[0;32m      1\u001b[0m \u001b[1;31m#List is mutable so can't be used\u001b[0m\u001b[1;33m\u001b[0m\u001b[1;33m\u001b[0m\u001b[1;33m\u001b[0m\u001b[0m\n\u001b[1;32m----> 2\u001b[1;33m \u001b[0md2\u001b[0m \u001b[1;33m=\u001b[0m \u001b[1;33m{\u001b[0m\u001b[1;33m[\u001b[0m\u001b[1;36m1\u001b[0m\u001b[1;33m,\u001b[0m\u001b[1;36m2\u001b[0m\u001b[1;33m,\u001b[0m\u001b[1;36m3\u001b[0m\u001b[1;33m]\u001b[0m\u001b[1;33m:\u001b[0m\u001b[1;34m'Python'\u001b[0m\u001b[1;33m}\u001b[0m\u001b[1;33m\u001b[0m\u001b[1;33m\u001b[0m\u001b[0m\n\u001b[0m\u001b[0;32m      3\u001b[0m \u001b[0mprint\u001b[0m\u001b[1;33m(\u001b[0m\u001b[0md2\u001b[0m\u001b[1;33m)\u001b[0m\u001b[1;33m\u001b[0m\u001b[1;33m\u001b[0m\u001b[0m\n",
      "\u001b[1;31mTypeError\u001b[0m: unhashable type: 'list'"
     ]
    }
   ],
   "source": [
    "#List is mutable so can't be used\n",
    "d2 = {[1,2,3]:'Python'}\n",
    "print(d2)"
   ]
  },
  {
   "cell_type": "markdown",
   "metadata": {},
   "source": [
    "### Accessing the pairs from the dict"
   ]
  },
  {
   "cell_type": "code",
   "execution_count": 16,
   "metadata": {},
   "outputs": [
    {
     "name": "stdout",
     "output_type": "stream",
     "text": [
      "{'1234567890': ['Java', 'Vijayawada', '01/01/2000', '9876543210'], '9876543210': ['Python', 'Earth', '01/01/2000', '1234567890'], '12345678900': ['C', 'Visakhapatnam', '01/01/2000', '223344556688']}\n"
     ]
    }
   ],
   "source": [
    "print(d1)"
   ]
  },
  {
   "cell_type": "code",
   "execution_count": 10,
   "metadata": {},
   "outputs": [
    {
     "name": "stdout",
     "output_type": "stream",
     "text": [
      "['C', 'Visakhapatnam', '01/01/2000', '223344556688']\n"
     ]
    }
   ],
   "source": [
    "print(d1['1234567890'])"
   ]
  },
  {
   "cell_type": "code",
   "execution_count": 17,
   "metadata": {},
   "outputs": [],
   "source": [
    "d1['12345678900'] = ['C++','Visakhapatnam','01/01/2000','9988776655']"
   ]
  },
  {
   "cell_type": "code",
   "execution_count": 18,
   "metadata": {},
   "outputs": [
    {
     "name": "stdout",
     "output_type": "stream",
     "text": [
      "{'1234567890': ['Java', 'Vijayawada', '01/01/2000', '9876543210'], '9876543210': ['Python', 'Earth', '01/01/2000', '1234567890'], '12345678900': ['C++', 'Visakhapatnam', '01/01/2000', '9988776655']}\n"
     ]
    }
   ],
   "source": [
    "print(d1)"
   ]
  },
  {
   "cell_type": "code",
   "execution_count": null,
   "metadata": {},
   "outputs": [],
   "source": [
    "d1['']"
   ]
  },
  {
   "cell_type": "code",
   "execution_count": null,
   "metadata": {},
   "outputs": [],
   "source": []
  },
  {
   "cell_type": "markdown",
   "metadata": {},
   "source": [
    "### DICTIONARY METHODS"
   ]
  },
  {
   "cell_type": "code",
   "execution_count": 19,
   "metadata": {},
   "outputs": [
    {
     "name": "stdout",
     "output_type": "stream",
     "text": [
      "{'1234567890': ['Java', 'Vijayawada', '01/01/2000', '9876543210'], '9876543210': ['Python', 'Earth', '01/01/2000', '1234567890'], '12345678900': ['C++', 'Visakhapatnam', '01/01/2000', '9988776655']}\n"
     ]
    }
   ],
   "source": [
    "print(d1)"
   ]
  },
  {
   "cell_type": "code",
   "execution_count": 20,
   "metadata": {},
   "outputs": [
    {
     "name": "stdout",
     "output_type": "stream",
     "text": [
      "dict_keys(['1234567890', '9876543210', '12345678900'])\n"
     ]
    }
   ],
   "source": [
    "print(d1.keys())"
   ]
  },
  {
   "cell_type": "code",
   "execution_count": 21,
   "metadata": {},
   "outputs": [
    {
     "name": "stdout",
     "output_type": "stream",
     "text": [
      "dict_values([['Java', 'Vijayawada', '01/01/2000', '9876543210'], ['Python', 'Earth', '01/01/2000', '1234567890'], ['C++', 'Visakhapatnam', '01/01/2000', '9988776655']])\n"
     ]
    }
   ],
   "source": [
    "print(d1.values())"
   ]
  },
  {
   "cell_type": "code",
   "execution_count": 23,
   "metadata": {},
   "outputs": [
    {
     "name": "stdout",
     "output_type": "stream",
     "text": [
      "dict_items([('1234567890', ['Java', 'Vijayawada', '01/01/2000', '9876543210']), ('9876543210', ['Python', 'Earth', '01/01/2000', '1234567890']), ('12345678900', ['C++', 'Visakhapatnam', '01/01/2000', '9988776655'])])\n"
     ]
    }
   ],
   "source": [
    "print(d1.items())"
   ]
  },
  {
   "cell_type": "code",
   "execution_count": 25,
   "metadata": {},
   "outputs": [
    {
     "name": "stdout",
     "output_type": "stream",
     "text": [
      "None\n"
     ]
    }
   ],
   "source": [
    "print(d1.get('567'))"
   ]
  },
  {
   "cell_type": "code",
   "execution_count": 30,
   "metadata": {},
   "outputs": [
    {
     "name": "stdout",
     "output_type": "stream",
     "text": [
      "Key not available\n"
     ]
    }
   ],
   "source": [
    "print(d1.get('567','Key not available'))"
   ]
  },
  {
   "cell_type": "code",
   "execution_count": 29,
   "metadata": {},
   "outputs": [
    {
     "name": "stdout",
     "output_type": "stream",
     "text": [
      "['Java', 'Vijayawada', '01/01/2000', '9876543210']\n"
     ]
    }
   ],
   "source": [
    "print(d1.get('1234567890','Key not available'))"
   ]
  },
  {
   "cell_type": "code",
   "execution_count": 36,
   "metadata": {},
   "outputs": [
    {
     "name": "stdout",
     "output_type": "stream",
     "text": [
      "{1: 1, 2: 4, 3: 9, 4: 16, 5: 25, 6: 36, 7: 49, 8: 64, 9: 81, 10: 100, 11: 121, 12: 144, 13: 169, 14: 196, 15: 225, 16: 256, 17: 289, 18: 324, 19: 361, 20: 400, 21: 441, 22: 484, 23: 529, 24: 576, 25: 625, 26: 676, 27: 729, 28: 784, 29: 841, 30: 900, 31: 961, 32: 1024, 33: 1089, 34: 1156, 35: 1225, 36: 1296, 37: 1369, 38: 1444, 39: 1521, 40: 1600, 41: 1681, 42: 1764, 43: 1849, 44: 1936, 45: 2025, 46: 2116, 47: 2209, 48: 2304, 49: 2401, 50: 2500, 51: 2601, 52: 2704, 53: 2809, 54: 2916, 55: 3025, 56: 3136, 57: 3249, 58: 3364, 59: 3481, 60: 3600, 61: 3721, 62: 3844, 63: 3969, 64: 4096, 65: 4225, 66: 4356, 67: 4489, 68: 4624, 69: 4761, 70: 4900, 71: 5041, 72: 5184, 73: 5329, 74: 5476, 75: 5625, 76: 5776, 77: 5929, 78: 6084, 79: 6241, 80: 6400, 81: 6561, 82: 6724, 83: 6889, 84: 7056, 85: 7225, 86: 7396, 87: 7569, 88: 7744, 89: 7921, 90: 8100, 91: 8281, 92: 8464, 93: 8649, 94: 8836, 95: 9025, 96: 9216, 97: 9409, 98: 9604, 99: 9801, 100: 10000}\n"
     ]
    }
   ],
   "source": [
    "sq = {}\n",
    "for i in range(1,101):\n",
    "    sq[i] = i**2\n",
    "print(sq)"
   ]
  },
  {
   "cell_type": "code",
   "execution_count": 37,
   "metadata": {},
   "outputs": [
    {
     "name": "stdout",
     "output_type": "stream",
     "text": [
      "{2: 4, 4: 16, 6: 36, 8: 64, 10: 100, 12: 144, 14: 196, 16: 256, 18: 324, 20: 400, 22: 484, 24: 576, 26: 676, 28: 784, 30: 900, 32: 1024, 34: 1156, 36: 1296, 38: 1444, 40: 1600, 42: 1764, 44: 1936, 46: 2116, 48: 2304, 50: 2500, 52: 2704, 54: 2916, 56: 3136, 58: 3364, 60: 3600, 62: 3844, 64: 4096, 66: 4356, 68: 4624, 70: 4900, 72: 5184, 74: 5476, 76: 5776, 78: 6084, 80: 6400, 82: 6724, 84: 7056, 86: 7396, 88: 7744, 90: 8100, 92: 8464, 94: 8836, 96: 9216, 98: 9604, 100: 10000}\n"
     ]
    }
   ],
   "source": [
    "sq = {}\n",
    "for i in range(1,101):\n",
    "    if i%2==0:\n",
    "        sq[i] = i**2\n",
    "print(sq)"
   ]
  },
  {
   "cell_type": "code",
   "execution_count": 38,
   "metadata": {},
   "outputs": [
    {
     "name": "stdout",
     "output_type": "stream",
     "text": [
      "4 16 36 64 100 144 196 256 324 400 484 576 676 784 900 1024 1156 1296 1444 1600 1764 1936 2116 2304 2500 2704 2916 3136 3364 3600 3844 4096 4356 4624 4900 5184 5476 5776 6084 6400 6724 7056 7396 7744 8100 8464 8836 9216 9604 10000 "
     ]
    }
   ],
   "source": [
    "for key in sq:\n",
    "    if key%2==0:\n",
    "        print(sq[key],end=\" \")"
   ]
  },
  {
   "cell_type": "code",
   "execution_count": 39,
   "metadata": {},
   "outputs": [],
   "source": [
    "# freq of each char in a string\n",
    "# word count"
   ]
  },
  {
   "cell_type": "markdown",
   "metadata": {},
   "source": [
    "### Contact Application\n",
    "\n",
    "- 1.Create a contact ->key->value\n",
    "- 2.add the contact to existing contact key->value\n",
    "- 3.Edit the contact key->value\n",
    "- 4.Delete contact -> Name"
   ]
  },
  {
   "cell_type": "code",
   "execution_count": 45,
   "metadata": {},
   "outputs": [
    {
     "name": "stdout",
     "output_type": "stream",
     "text": [
      "Press the options :\n",
      "1.Create a contact \n",
      "2.add the contact to existing contact \n",
      "3.Edit the contact \n",
      "4.Delete contact\n",
      "1\n"
     ]
    }
   ],
   "source": [
    "option = input(\"\"\"Press the options :\n",
    "1.Create a contact \n",
    "2.add the contact to existing contact \n",
    "3.Edit the contact \n",
    "4.Delete contact\n",
    "\"\"\")"
   ]
  },
  {
   "cell_type": "code",
   "execution_count": 46,
   "metadata": {},
   "outputs": [],
   "source": [
    "contact = {}\n",
    "if option==1:\n",
    "    key = input(\"Enter Contact Name :\")\n",
    "    value = input(\"Enter details with space sep\").split()\n",
    "    contact[key] = value"
   ]
  },
  {
   "cell_type": "code",
   "execution_count": 47,
   "metadata": {},
   "outputs": [],
   "source": [
    "if option == 2:\n",
    "    name = input(\"Enter the name to add \")\n",
    "    if name in contact:\n",
    "        data = input(\"Enter the data to update\").split()\n",
    "        contact[name].extend(data)\n",
    "    else:\n",
    "        print(name,\"contact is not available\")"
   ]
  },
  {
   "cell_type": "code",
   "execution_count": 41,
   "metadata": {},
   "outputs": [
    {
     "name": "stdout",
     "output_type": "stream",
     "text": [
      "contact Sravani added\n"
     ]
    }
   ],
   "source": [
    "contact={}\n",
    "def add_contact(name,num):\n",
    "    if name in contact:\n",
    "        print(name,\"already exists\")\n",
    "    else:\n",
    "        contact[name]=num\n",
    "        print('contact',name,'added')\n",
    "add_contact('Sravani',9381818202)\n",
    "def del_contact(name):\n",
    "    if name in contact:\n",
    "        contact.pop(name)\n",
    "        print('contact',name,'deleted')\n",
    "\n",
    "def search_contact(name):\n",
    "    if name in contact:\n",
    "        print(name,contact[name],sep=\":\")\n",
    "    else:\n",
    "        print(\"contact doesn't exist\")\n",
    "\n",
    "def edit_contact(name):\n",
    "    if name in contact:\n",
    "        print(contact[name])\n",
    "        num=int(input('new number:'))\n",
    "        contact[name]=num\n",
    "        print('contact updated')\n",
    "\n",
    "        "
   ]
  },
  {
   "cell_type": "code",
   "execution_count": null,
   "metadata": {},
   "outputs": [],
   "source": []
  }
 ],
 "metadata": {
  "kernelspec": {
   "display_name": "Python 3",
   "language": "python",
   "name": "python3"
  },
  "language_info": {
   "codemirror_mode": {
    "name": "ipython",
    "version": 3
   },
   "file_extension": ".py",
   "mimetype": "text/x-python",
   "name": "python",
   "nbconvert_exporter": "python",
   "pygments_lexer": "ipython3",
   "version": "3.8.3"
  }
 },
 "nbformat": 4,
 "nbformat_minor": 4
}
