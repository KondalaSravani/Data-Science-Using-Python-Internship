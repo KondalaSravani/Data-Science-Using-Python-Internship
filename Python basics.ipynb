{
 "cells": [
  {
   "cell_type": "markdown",
   "metadata": {},
   "source": [
    "### CONTENTS\n",
    "- Input and Output\n",
    "- Variables\n",
    "- Operators\n",
    "- Type Conversions\n",
    "- Operators in Python"
   ]
  },
  {
   "cell_type": "code",
   "execution_count": 1,
   "metadata": {},
   "outputs": [
    {
     "name": "stdout",
     "output_type": "stream",
     "text": [
      "Hello World\n"
     ]
    }
   ],
   "source": [
    "print(\"Hello World\")"
   ]
  },
  {
   "cell_type": "code",
   "execution_count": 2,
   "metadata": {},
   "outputs": [
    {
     "name": "stdout",
     "output_type": "stream",
     "text": [
      "Todays date is 29\n"
     ]
    }
   ],
   "source": [
    "print(\"Todays date is\",29)"
   ]
  },
  {
   "cell_type": "code",
   "execution_count": 3,
   "metadata": {},
   "outputs": [
    {
     "name": "stdout",
     "output_type": "stream",
     "text": [
      "Todays date is-29\n"
     ]
    }
   ],
   "source": [
    "print(\"Todays date is\",29,sep = '-')"
   ]
  },
  {
   "cell_type": "code",
   "execution_count": 4,
   "metadata": {},
   "outputs": [
    {
     "name": "stdout",
     "output_type": "stream",
     "text": [
      "1\t2\t3\t4\t5\t6\n"
     ]
    }
   ],
   "source": [
    "print(1,2,3,4,5,6,sep='\\t')"
   ]
  },
  {
   "cell_type": "code",
   "execution_count": 5,
   "metadata": {},
   "outputs": [
    {
     "name": "stdout",
     "output_type": "stream",
     "text": [
      "1abc2abc3abc4abc5abc6\n"
     ]
    }
   ],
   "source": [
    "print(1,2,3,4,5,6,sep='abc')"
   ]
  },
  {
   "cell_type": "code",
   "execution_count": 6,
   "metadata": {},
   "outputs": [
    {
     "name": "stdout",
     "output_type": "stream",
     "text": [
      "Hello World\n",
      "Hello World\n",
      "Hello World\n"
     ]
    }
   ],
   "source": [
    "print(\"Hello World\")\n",
    "print(\"Hello World\")\n",
    "print(\"Hello World\")"
   ]
  },
  {
   "cell_type": "markdown",
   "metadata": {},
   "source": [
    "### VARIABLE\n",
    "\n",
    "- it is named memory location which hold some value\n",
    "\n",
    "### Properties\n",
    "- It can contain AZaz09_\n",
    "- It shouldn't start with a number\n",
    "- No special characters should included in variable name except _\n",
    "- Keywords are not allowed\n",
    "- Case Sensitive"
   ]
  },
  {
   "cell_type": "markdown",
   "metadata": {},
   "source": [
    "## DATA TYPES\n",
    "- Primary data types\n",
    "  - int\n",
    "  - float\n",
    "  - complex\n",
    "  - string\n",
    "  - boolean\n",
    "- Secondary\n",
    "   - containers --> List tuple Dictionary set"
   ]
  },
  {
   "cell_type": "code",
   "execution_count": 1,
   "metadata": {},
   "outputs": [],
   "source": [
    "a = 55\n",
    "b = 55.66\n",
    "c = 5 + 6j\n",
    "d = True\n",
    "e = 'a+5/.,;'\n",
    "f = ['python', 65, 5+6j, 55.665]\n",
    "g = ('python', 65, 5+6j, 55.665)\n",
    "h = {'Name': 'Python'}\n",
    "i = {1,2,3,4}"
   ]
  },
  {
   "cell_type": "code",
   "execution_count": 2,
   "metadata": {},
   "outputs": [
    {
     "name": "stdout",
     "output_type": "stream",
     "text": [
      "<class 'int'>\n",
      "<class 'float'>\n",
      "<class 'complex'>\n",
      "<class 'bool'>\n",
      "<class 'str'>\n",
      "<class 'list'>\n",
      "<class 'tuple'>\n",
      "<class 'dict'>\n",
      "<class 'set'>\n"
     ]
    }
   ],
   "source": [
    "print(type(a))\n",
    "print(type(b))\n",
    "print(type(c))\n",
    "print(type(d))\n",
    "print(type(e))\n",
    "print(type(f))\n",
    "print(type(g))\n",
    "print(type(h))\n",
    "print(type(i))"
   ]
  },
  {
   "cell_type": "markdown",
   "metadata": {},
   "source": [
    "### Type Conversions"
   ]
  },
  {
   "cell_type": "code",
   "execution_count": 3,
   "metadata": {},
   "outputs": [
    {
     "name": "stdout",
     "output_type": "stream",
     "text": [
      "6\n",
      "6 <class 'int'>\n"
     ]
    }
   ],
   "source": [
    "a = int(input())\n",
    "print(a, type(a))"
   ]
  },
  {
   "cell_type": "code",
   "execution_count": 4,
   "metadata": {},
   "outputs": [
    {
     "name": "stdout",
     "output_type": "stream",
     "text": [
      "12.5\n"
     ]
    },
    {
     "ename": "ValueError",
     "evalue": "invalid literal for int() with base 10: '12.5'",
     "output_type": "error",
     "traceback": [
      "\u001b[1;31m---------------------------------------------------------------------------\u001b[0m",
      "\u001b[1;31mValueError\u001b[0m                                Traceback (most recent call last)",
      "\u001b[1;32m<ipython-input-4-645ff026c8e5>\u001b[0m in \u001b[0;36m<module>\u001b[1;34m\u001b[0m\n\u001b[1;32m----> 1\u001b[1;33m \u001b[0mb\u001b[0m \u001b[1;33m=\u001b[0m \u001b[0mint\u001b[0m\u001b[1;33m(\u001b[0m\u001b[0minput\u001b[0m\u001b[1;33m(\u001b[0m\u001b[1;33m)\u001b[0m\u001b[1;33m)\u001b[0m\u001b[1;33m\u001b[0m\u001b[1;33m\u001b[0m\u001b[0m\n\u001b[0m\u001b[0;32m      2\u001b[0m \u001b[0mprint\u001b[0m\u001b[1;33m(\u001b[0m\u001b[0mb\u001b[0m\u001b[1;33m,\u001b[0m\u001b[0mtype\u001b[0m\u001b[1;33m(\u001b[0m\u001b[0mb\u001b[0m\u001b[1;33m)\u001b[0m\u001b[1;33m)\u001b[0m\u001b[1;33m\u001b[0m\u001b[1;33m\u001b[0m\u001b[0m\n",
      "\u001b[1;31mValueError\u001b[0m: invalid literal for int() with base 10: '12.5'"
     ]
    }
   ],
   "source": [
    "# int can't be converted to float\n",
    "b = int(input())\n",
    "print(b,type(b))"
   ]
  },
  {
   "cell_type": "code",
   "execution_count": 6,
   "metadata": {},
   "outputs": [
    {
     "name": "stdout",
     "output_type": "stream",
     "text": [
      "12\n",
      "12.0 <class 'float'>\n"
     ]
    }
   ],
   "source": [
    "b = float(input())\n",
    "print(b,type(b))"
   ]
  },
  {
   "cell_type": "markdown",
   "metadata": {},
   "source": [
    "### Number System\n",
    "\n",
    "- Decimal -> 10 -> 0-9\n",
    "- Binary -> 2 -> 0,1\n",
    "- Octal -> 8 -> 0-7\n",
    "- Hexadecimal -> 16 -> 0-F"
   ]
  },
  {
   "cell_type": "code",
   "execution_count": 7,
   "metadata": {},
   "outputs": [
    {
     "name": "stdout",
     "output_type": "stream",
     "text": [
      "0b110111 0o67 0x37\n"
     ]
    }
   ],
   "source": [
    "a = 55\n",
    "\n",
    "print(bin(a), oct(a), hex(a))"
   ]
  },
  {
   "cell_type": "code",
   "execution_count": 8,
   "metadata": {},
   "outputs": [
    {
     "name": "stdout",
     "output_type": "stream",
     "text": [
      "55 55 55\n"
     ]
    }
   ],
   "source": [
    "print(int('110111', 2), int('67', 8), int('37', 16))"
   ]
  },
  {
   "cell_type": "code",
   "execution_count": 9,
   "metadata": {},
   "outputs": [
    {
     "name": "stdout",
     "output_type": "stream",
     "text": [
      "97\n",
      "a\n"
     ]
    }
   ],
   "source": [
    "print(ord('a'))\n",
    "print(chr(97))"
   ]
  },
  {
   "cell_type": "markdown",
   "metadata": {},
   "source": [
    "### Opertaors in Python\n",
    "\n",
    "- Arthematic Operator -> +, -, *, /, %, //, **\n",
    "- Logical -> and, or, not\n",
    "- Comparision/relational -> <, >, <=, >=, ==, !=\n",
    "- Bitwise Operator -> &(and), |(or), ~(Not), ^(XOR), >>(right shift), <<(left shift)\n",
    "- Assignment Operator -> +=, -=, /=, %=, //=, **=\n",
    "- Identity operators -> is, not is\n",
    "- Membership operators -> in, not in"
   ]
  },
  {
   "cell_type": "code",
   "execution_count": 10,
   "metadata": {},
   "outputs": [
    {
     "name": "stdout",
     "output_type": "stream",
     "text": [
      "14->-6->40->0.4->4->0->16\n"
     ]
    }
   ],
   "source": [
    "# Arithmetic Opertors\n",
    "\n",
    "a = 4\n",
    "b = 10\n",
    "\n",
    "\n",
    "print(a+b, a-b, a*b, a/b, a % b, a//b, a ** 2, sep = '->')"
   ]
  },
  {
   "cell_type": "markdown",
   "metadata": {},
   "source": [
    "- AND(INP1 * INP2)\n",
    "\n",
    "|inp1|inp2|inp1 and inp2|\n",
    "|----|-----|-------|\n",
    "|T|T|T|\n",
    "|T|F|F|\n",
    "|F|T|F|\n",
    "|F|F|F|\n",
    "\n",
    "- OR(INP1 + INP2)\n",
    "\n",
    "|inp1|inp2|inp1 or inp2|\n",
    "|----|-----|-------|\n",
    "|T|T|T|\n",
    "|T|F|T|\n",
    "|F|T|T|\n",
    "|F|F|F|\n",
    "\n",
    "- NOT\n",
    "\n",
    "|inp1|not inp1|\n",
    "|----|----|\n",
    "|T|F|\n",
    "|F|T|"
   ]
  },
  {
   "cell_type": "code",
   "execution_count": 11,
   "metadata": {},
   "outputs": [
    {
     "name": "stdout",
     "output_type": "stream",
     "text": [
      "0->1->False->0-><class 'str'>->False\n"
     ]
    }
   ],
   "source": [
    "a = 1\n",
    "b = 0\n",
    "c = '0'\n",
    "\n",
    "print(a and b, a or b, not a, a and c, type(a and c), not c, sep = '->')"
   ]
  },
  {
   "cell_type": "code",
   "execution_count": 13,
   "metadata": {},
   "outputs": [
    {
     "name": "stdout",
     "output_type": "stream",
     "text": [
      "6\n",
      "0 0\n"
     ]
    }
   ],
   "source": [
    "a = 5\n",
    "b = 6\n",
    "c = 0\n",
    "\n",
    "print(a and b)\n",
    "\n",
    "print(a and c, c and a)"
   ]
  },
  {
   "cell_type": "code",
   "execution_count": 14,
   "metadata": {},
   "outputs": [
    {
     "name": "stdout",
     "output_type": "stream",
     "text": [
      "True False False\n"
     ]
    }
   ],
   "source": [
    "### COMPARISON OPERATORS\n",
    "a = 5\n",
    "b = 6\n",
    "\n",
    "print(a < b, a>b, a == b)"
   ]
  },
  {
   "cell_type": "markdown",
   "metadata": {},
   "source": [
    "### BITWISE OPERATORS\n",
    "- &, |, ~, ^\n",
    "  - a = 4\n",
    "  - b = 10\n",
    "\n",
    "\n",
    "- ~a\n",
    "- 4  -> 0100 # Convert to Binary\n",
    "      - 0001 # Add 1 \n",
    "      - -0101 -> *5 "
   ]
  },
  {
   "cell_type": "code",
   "execution_count": 15,
   "metadata": {},
   "outputs": [
    {
     "name": "stdout",
     "output_type": "stream",
     "text": [
      "0 14 -5\n"
     ]
    }
   ],
   "source": [
    "a = 4\n",
    "b = 10\n",
    "\n",
    "print(a & b, a | b, ~a)"
   ]
  },
  {
   "cell_type": "markdown",
   "metadata": {},
   "source": [
    "\n",
    "- XOR -> A'B + AB'\n",
    "\n",
    "\n",
    "|A|B|A xor B|\n",
    "|----|-----|-------|\n",
    "|T|T|T|\n",
    "|T|F|T|\n",
    "|F|T|T|\n",
    "|F|F|F|\n",
    "\n",
    "\n",
    "- a = 4  -> 0100\n",
    "  b = 10 -> 1010\n",
    "            _____\n",
    "            1110 -> 14"
   ]
  },
  {
   "cell_type": "code",
   "execution_count": 16,
   "metadata": {},
   "outputs": [
    {
     "name": "stdout",
     "output_type": "stream",
     "text": [
      "14\n"
     ]
    }
   ],
   "source": [
    "\n",
    "print(a ^ b)"
   ]
  },
  {
   "cell_type": "markdown",
   "metadata": {},
   "source": [
    "### Left Shift and right shift\n",
    "a = 4 -> 0100\n",
    "\n",
    "a << 2 -> 010000 -> 16\n",
    "\n",
    "a << 2 -> 0001 -> 1"
   ]
  },
  {
   "cell_type": "code",
   "execution_count": 17,
   "metadata": {},
   "outputs": [
    {
     "name": "stdout",
     "output_type": "stream",
     "text": [
      "16 1\n"
     ]
    }
   ],
   "source": [
    "a = 4\n",
    "\n",
    "print( a << 2, a >> 2)"
   ]
  },
  {
   "cell_type": "markdown",
   "metadata": {},
   "source": [
    "### ASSIGNMENT OPERTORS"
   ]
  },
  {
   "cell_type": "code",
   "execution_count": 19,
   "metadata": {},
   "outputs": [
    {
     "name": "stdout",
     "output_type": "stream",
     "text": [
      "15\n",
      "25\n",
      "20\n",
      "400\n"
     ]
    }
   ],
   "source": [
    "\n",
    "a = 5\n",
    "\n",
    "a = a + 10\n",
    "print(a)\n",
    "a += 10\n",
    "print(a)\n",
    "a -= 5\n",
    "print(a)\n",
    "a **= 2\n",
    "print(a)"
   ]
  },
  {
   "cell_type": "markdown",
   "metadata": {},
   "source": [
    "### MEMBERSHIP OPERATORS\n"
   ]
  },
  {
   "cell_type": "code",
   "execution_count": 20,
   "metadata": {},
   "outputs": [
    {
     "name": "stdout",
     "output_type": "stream",
     "text": [
      "False False True\n"
     ]
    }
   ],
   "source": [
    "a = 'Python'\n",
    "b = 'Py'\n",
    "c = 'py'\n",
    "\n",
    "print(a in b, a in c, a not in c)"
   ]
  },
  {
   "cell_type": "markdown",
   "metadata": {},
   "source": [
    "### IDENTITY OPERATORS"
   ]
  },
  {
   "cell_type": "code",
   "execution_count": 21,
   "metadata": {},
   "outputs": [],
   "source": [
    "a = 5\n",
    "b = 5.5\n",
    "c = 5\n",
    "d = [1,2,3]\n",
    "e = [1,2,3]\n",
    "f = d"
   ]
  },
  {
   "cell_type": "code",
   "execution_count": 23,
   "metadata": {},
   "outputs": [
    {
     "name": "stdout",
     "output_type": "stream",
     "text": [
      "140733743773600\n",
      "140733743773600\n",
      "2144239856512\n",
      "2144239845120\n",
      "2144239856512\n"
     ]
    }
   ],
   "source": [
    "print(id(a))\n",
    "print(id(c))\n",
    "print(id(d))\n",
    "print(id(e))\n",
    "print(id(f))"
   ]
  },
  {
   "cell_type": "code",
   "execution_count": 25,
   "metadata": {},
   "outputs": [
    {
     "name": "stdout",
     "output_type": "stream",
     "text": [
      "[1, 2, 3, 'Python'] [1, 2, 3] [1, 2, 3, 'Python']\n",
      "False True False True\n"
     ]
    }
   ],
   "source": [
    "print(d,e,f)\n",
    "print(d is e, d is f, e is f, d is not e)"
   ]
  },
  {
   "cell_type": "code",
   "execution_count": null,
   "metadata": {},
   "outputs": [],
   "source": []
  }
 ],
 "metadata": {
  "kernelspec": {
   "display_name": "Python 3",
   "language": "python",
   "name": "python3"
  },
  "language_info": {
   "codemirror_mode": {
    "name": "ipython",
    "version": 3
   },
   "file_extension": ".py",
   "mimetype": "text/x-python",
   "name": "python",
   "nbconvert_exporter": "python",
   "pygments_lexer": "ipython3",
   "version": "3.8.3"
  }
 },
 "nbformat": 4,
 "nbformat_minor": 4
}
