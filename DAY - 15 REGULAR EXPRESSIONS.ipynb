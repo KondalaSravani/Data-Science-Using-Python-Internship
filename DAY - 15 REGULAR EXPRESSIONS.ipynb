{
 "cells": [
  {
   "cell_type": "markdown",
   "metadata": {},
   "source": [
    "### Contents \n",
    "\n",
    "- Regular Expressions"
   ]
  },
  {
   "cell_type": "code",
   "execution_count": 6,
   "metadata": {},
   "outputs": [],
   "source": [
    "s = \"\"\"Python is an interpreted high-level general-purpose programming language. Python's design philosophy emphasizes code readability with its notable use of significant indentation. Wikipedia\n",
    "Developer: Python Software Foundation\n",
    "Stable release: 3.9.5 / 3 May 2021; 19 days ago\n",
    "Preview release: 3.10.0b1 / 3 May 2021; 19 days ago\n",
    "Typing discipline: Duck, dynamic, strong typing; gradual (since 3.5, but ignored in CPython)\n",
    "First appeared: February 1991; 30 years ago\n",
    "Paradigm: Multi-paradigm: object-oriented, procedural (imperative), functional, structured, reflective\n",
    "\"\"\""
   ]
  },
  {
   "cell_type": "code",
   "execution_count": 7,
   "metadata": {},
   "outputs": [
    {
     "name": "stdout",
     "output_type": "stream",
     "text": [
      "['P', 'y', 't', 'h', 'o', 'n', ' ', 'i', 's', ' ', 'a', 'n', ' ', 'i', 'n', 't', 'e', 'r', 'p', 'r', 'e', 't', 'e', 'd', ' ', 'h', 'i', 'g', 'h', '-', 'l', 'e', 'v', 'e', 'l', ' ', 'g', 'e', 'n', 'e', 'r', 'a', 'l', '-', 'p', 'u', 'r', 'p', 'o', 's', 'e', ' ', 'p', 'r', 'o', 'g', 'r', 'a', 'm', 'm', 'i', 'n', 'g', ' ', 'l', 'a', 'n', 'g', 'u', 'a', 'g', 'e', '.', ' ', 'P', 'y', 't', 'h', 'o', 'n', \"'\", 's', ' ', 'd', 'e', 's', 'i', 'g', 'n', ' ', 'p', 'h', 'i', 'l', 'o', 's', 'o', 'p', 'h', 'y', ' ', 'e', 'm', 'p', 'h', 'a', 's', 'i', 'z', 'e', 's', ' ', 'c', 'o', 'd', 'e', ' ', 'r', 'e', 'a', 'd', 'a', 'b', 'i', 'l', 'i', 't', 'y', ' ', 'w', 'i', 't', 'h', ' ', 'i', 't', 's', ' ', 'n', 'o', 't', 'a', 'b', 'l', 'e', ' ', 'u', 's', 'e', ' ', 'o', 'f', ' ', 's', 'i', 'g', 'n', 'i', 'f', 'i', 'c', 'a', 'n', 't', ' ', 'i', 'n', 'd', 'e', 'n', 't', 'a', 't', 'i', 'o', 'n', '.', ' ', 'W', 'i', 'k', 'i', 'p', 'e', 'd', 'i', 'a', '\\n', 'D', 'e', 'v', 'e', 'l', 'o', 'p', 'e', 'r', ':', ' ', 'P', 'y', 't', 'h', 'o', 'n', ' ', 'S', 'o', 'f', 't', 'w', 'a', 'r', 'e', ' ', 'F', 'o', 'u', 'n', 'd', 'a', 't', 'i', 'o', 'n', '\\n', 'S', 't', 'a', 'b', 'l', 'e', ' ', 'r', 'e', 'l', 'e', 'a', 's', 'e', ':', ' ', '3', '.', '9', '.', '5', ' ', '/', ' ', '3', ' ', 'M', 'a', 'y', ' ', '2', '0', '2', '1', ';', ' ', '1', '9', ' ', 'd', 'a', 'y', 's', ' ', 'a', 'g', 'o', '\\n', 'P', 'r', 'e', 'v', 'i', 'e', 'w', ' ', 'r', 'e', 'l', 'e', 'a', 's', 'e', ':', ' ', '3', '.', '1', '0', '.', '0', 'b', '1', ' ', '/', ' ', '3', ' ', 'M', 'a', 'y', ' ', '2', '0', '2', '1', ';', ' ', '1', '9', ' ', 'd', 'a', 'y', 's', ' ', 'a', 'g', 'o', '\\n', 'T', 'y', 'p', 'i', 'n', 'g', ' ', 'd', 'i', 's', 'c', 'i', 'p', 'l', 'i', 'n', 'e', ':', ' ', 'D', 'u', 'c', 'k', ',', ' ', 'd', 'y', 'n', 'a', 'm', 'i', 'c', ',', ' ', 's', 't', 'r', 'o', 'n', 'g', ' ', 't', 'y', 'p', 'i', 'n', 'g', ';', ' ', 'g', 'r', 'a', 'd', 'u', 'a', 'l', ' ', '(', 's', 'i', 'n', 'c', 'e', ' ', '3', '.', '5', ',', ' ', 'b', 'u', 't', ' ', 'i', 'g', 'n', 'o', 'r', 'e', 'd', ' ', 'i', 'n', ' ', 'C', 'P', 'y', 't', 'h', 'o', 'n', ')', '\\n', 'F', 'i', 'r', 's', 't', ' ', 'a', 'p', 'p', 'e', 'a', 'r', 'e', 'd', ':', ' ', 'F', 'e', 'b', 'r', 'u', 'a', 'r', 'y', ' ', '1', '9', '9', '1', ';', ' ', '3', '0', ' ', 'y', 'e', 'a', 'r', 's', ' ', 'a', 'g', 'o', '\\n', 'P', 'a', 'r', 'a', 'd', 'i', 'g', 'm', ':', ' ', 'M', 'u', 'l', 't', 'i', '-', 'p', 'a', 'r', 'a', 'd', 'i', 'g', 'm', ':', ' ', 'o', 'b', 'j', 'e', 'c', 't', '-', 'o', 'r', 'i', 'e', 'n', 't', 'e', 'd', ',', ' ', 'p', 'r', 'o', 'c', 'e', 'd', 'u', 'r', 'a', 'l', ' ', '(', 'i', 'm', 'p', 'e', 'r', 'a', 't', 'i', 'v', 'e', ')', ',', ' ', 'f', 'u', 'n', 'c', 't', 'i', 'o', 'n', 'a', 'l', ',', ' ', 's', 't', 'r', 'u', 'c', 't', 'u', 'r', 'e', 'd', ',', ' ', 'r', 'e', 'f', 'l', 'e', 'c', 't', 'i', 'v', 'e', '\\n']\n"
     ]
    }
   ],
   "source": [
    "print(list(s))"
   ]
  },
  {
   "cell_type": "code",
   "execution_count": 8,
   "metadata": {},
   "outputs": [
    {
     "name": "stdout",
     "output_type": "stream",
     "text": [
      "Python is an interpreted high-level general-purpose programming language. Python's design philosophy emphasizes code readability with its notable use of significant indentation. Wikipedia\n",
      "Developer: Python Software Foundation\n",
      "Stable release: 3.9.5 / 3 May 2021; 19 days ago\n",
      "Preview release: 3.10.0b1 / 3 May 2021; 19 days ago\n",
      "Typing discipline: Duck, dynamic, strong typing; gradual (since 3.5, but ignored in CPython)\n",
      "First appeared: February 1991; 30 years ago\n",
      "Paradigm: Multi-paradigm: object-oriented, procedural (imperative), functional, structured, reflective\n",
      "\n"
     ]
    }
   ],
   "source": [
    "print(s)"
   ]
  },
  {
   "cell_type": "code",
   "execution_count": 10,
   "metadata": {},
   "outputs": [
    {
     "name": "stdout",
     "output_type": "stream",
     "text": [
      "['P', 'P', 'W', 'D', 'P', 'S', 'F', 'S', 'M', 'P', 'M', 'T', 'D', 'C', 'P', 'F', 'F', 'P', 'M']\n"
     ]
    }
   ],
   "source": [
    "li = []\n",
    "\n",
    "for char in s:\n",
    "    if char.isupper():\n",
    "        li.append(char)\n",
    "print(li)"
   ]
  },
  {
   "cell_type": "code",
   "execution_count": 12,
   "metadata": {},
   "outputs": [
    {
     "name": "stdout",
     "output_type": "stream",
     "text": [
      "[' ', ' ', ' ', ' ', '-', ' ', '-', ' ', ' ', '.', ' ', \"'\", ' ', ' ', ' ', ' ', ' ', ' ', ' ', ' ', ' ', ' ', ' ', ' ', '.', ' ', '\\n', ':', ' ', ' ', ' ', '\\n', ' ', ':', ' ', '.', '.', ' ', '/', ' ', ' ', ' ', ';', ' ', ' ', ' ', '\\n', ' ', ':', ' ', '.', '.', ' ', '/', ' ', ' ', ' ', ';', ' ', ' ', ' ', '\\n', ' ', ':', ' ', ',', ' ', ',', ' ', ' ', ';', ' ', ' ', '(', ' ', '.', ',', ' ', ' ', ' ', ' ', ')', '\\n', ' ', ':', ' ', ' ', ';', ' ', ' ', ' ', '\\n', ':', ' ', '-', ':', ' ', '-', ',', ' ', ' ', '(', ')', ',', ' ', ',', ' ', ',', ' ', '\\n']\n"
     ]
    }
   ],
   "source": [
    "li = []\n",
    "\n",
    "for char in s:\n",
    "    if not char.isalnum():\n",
    "        li.append(char)\n",
    "print(li)"
   ]
  },
  {
   "cell_type": "code",
   "execution_count": 13,
   "metadata": {},
   "outputs": [
    {
     "name": "stdout",
     "output_type": "stream",
     "text": [
      "566\n"
     ]
    }
   ],
   "source": [
    "print(len(s))"
   ]
  },
  {
   "cell_type": "code",
   "execution_count": 14,
   "metadata": {},
   "outputs": [],
   "source": [
    "### replace special char with `**`"
   ]
  },
  {
   "cell_type": "code",
   "execution_count": 16,
   "metadata": {},
   "outputs": [
    {
     "name": "stdout",
     "output_type": "stream",
     "text": [
      "Python**is**an**interpreted**high**level**general**purpose**programming**language****Python**s**design**philosophy**emphasizes**code**readability**with**its**notable**use**of**significant**indentation****Wikipedia**Developer****Python**Software**Foundation**Stable**release****3**9**5******3**May**2021****19**days**ago**Preview**release****3**10**0b1******3**May**2021****19**days**ago**Typing**discipline****Duck****dynamic****strong**typing****gradual****since**3**5****but**ignored**in**CPython****First**appeared****February**1991****30**years**ago**Paradigm****Multi**paradigm****object**oriented****procedural****imperative******functional****structured****reflective**\n"
     ]
    }
   ],
   "source": [
    "s1=\"\"\n",
    "\n",
    "li = []\n",
    "\n",
    "for char in s:\n",
    "    if not char.isalnum():\n",
    "        s1+=\"**\"\n",
    "    else:\n",
    "        s1+=char\n",
    "print(s1)"
   ]
  },
  {
   "cell_type": "code",
   "execution_count": 19,
   "metadata": {},
   "outputs": [
    {
     "name": "stdout",
     "output_type": "stream",
     "text": [
      "Python is an interpreted high**level general**purpose programming language** Python**s design philosophy emphasizes code readability with its notable use of significant indentation** Wikipedia\n",
      "Developer** Python Software Foundation\n",
      "Stable release** 3**9**5 ** 3 May 2021** 19 days ago\n",
      "Preview release** 3**10**0b1 ** 3 May 2021** 19 days ago\n",
      "Typing discipline** Duck** dynamic** strong typing** gradual **since 3**5** but ignored in CPython**\n",
      "First appeared** February 1991** 30 years ago\n",
      "Paradigm** Multi**paradigm** object**oriented** procedural **imperative**** functional** structured** reflective\n",
      "\n"
     ]
    }
   ],
   "source": [
    "s1=\"\"\n",
    "\n",
    "li = []\n",
    "\n",
    "for char in s:\n",
    "    if not char.isalnum() and char !=' ' and not char.isspace():\n",
    "        s1+=\"**\"\n",
    "    else:\n",
    "        s1+=char\n",
    "print(s1)"
   ]
  },
  {
   "cell_type": "code",
   "execution_count": 21,
   "metadata": {},
   "outputs": [
    {
     "name": "stdout",
     "output_type": "stream",
     "text": [
      "['is', 'an', 'interpreted', 'high-level', 'general-purpose', 'programming', 'language.', 'design', 'philosophy', 'emphasizes', 'code', 'readability', 'with', 'its', 'notable', 'use', 'of', 'significant', 'indentation.', 'release:', 'days', 'ago', 'release:', 'days', 'ago', 'discipline:', 'dynamic,', 'strong', 'typing;', 'gradual', 'but', 'ignored', 'in', 'appeared:', 'years', 'ago', 'object-oriented,', 'procedural', 'functional,', 'structured,', 'reflective']\n"
     ]
    }
   ],
   "source": [
    "ss = s.split()\n",
    "li = []\n",
    "for char in ss:\n",
    "    if char[0].islower():\n",
    "        li.append(char)\n",
    "print(li)\n",
    "    "
   ]
  },
  {
   "cell_type": "markdown",
   "metadata": {},
   "source": [
    "#### RE\n",
    "- A group of characters/special characters for matching a pattern"
   ]
  },
  {
   "cell_type": "code",
   "execution_count": 23,
   "metadata": {},
   "outputs": [],
   "source": [
    "import re"
   ]
  },
  {
   "cell_type": "code",
   "execution_count": 24,
   "metadata": {
    "collapsed": true
   },
   "outputs": [
    {
     "name": "stdout",
     "output_type": "stream",
     "text": [
      "Help on module re:\n",
      "\n",
      "NAME\n",
      "    re - Support for regular expressions (RE).\n",
      "\n",
      "MODULE REFERENCE\n",
      "    https://docs.python.org/3.8/library/re\n",
      "    \n",
      "    The following documentation is automatically generated from the Python\n",
      "    source files.  It may be incomplete, incorrect or include features that\n",
      "    are considered implementation detail and may vary between Python\n",
      "    implementations.  When in doubt, consult the module reference at the\n",
      "    location listed above.\n",
      "\n",
      "DESCRIPTION\n",
      "    This module provides regular expression matching operations similar to\n",
      "    those found in Perl.  It supports both 8-bit and Unicode strings; both\n",
      "    the pattern and the strings being processed can contain null bytes and\n",
      "    characters outside the US ASCII range.\n",
      "    \n",
      "    Regular expressions can contain both special and ordinary characters.\n",
      "    Most ordinary characters, like \"A\", \"a\", or \"0\", are the simplest\n",
      "    regular expressions; they simply match themselves.  You can\n",
      "    concatenate ordinary characters, so last matches the string 'last'.\n",
      "    \n",
      "    The special characters are:\n",
      "        \".\"      Matches any character except a newline.\n",
      "        \"^\"      Matches the start of the string.\n",
      "        \"$\"      Matches the end of the string or just before the newline at\n",
      "                 the end of the string.\n",
      "        \"*\"      Matches 0 or more (greedy) repetitions of the preceding RE.\n",
      "                 Greedy means that it will match as many repetitions as possible.\n",
      "        \"+\"      Matches 1 or more (greedy) repetitions of the preceding RE.\n",
      "        \"?\"      Matches 0 or 1 (greedy) of the preceding RE.\n",
      "        *?,+?,?? Non-greedy versions of the previous three special characters.\n",
      "        {m,n}    Matches from m to n repetitions of the preceding RE.\n",
      "        {m,n}?   Non-greedy version of the above.\n",
      "        \"\\\\\"     Either escapes special characters or signals a special sequence.\n",
      "        []       Indicates a set of characters.\n",
      "                 A \"^\" as the first character indicates a complementing set.\n",
      "        \"|\"      A|B, creates an RE that will match either A or B.\n",
      "        (...)    Matches the RE inside the parentheses.\n",
      "                 The contents can be retrieved or matched later in the string.\n",
      "        (?aiLmsux) The letters set the corresponding flags defined below.\n",
      "        (?:...)  Non-grouping version of regular parentheses.\n",
      "        (?P<name>...) The substring matched by the group is accessible by name.\n",
      "        (?P=name)     Matches the text matched earlier by the group named name.\n",
      "        (?#...)  A comment; ignored.\n",
      "        (?=...)  Matches if ... matches next, but doesn't consume the string.\n",
      "        (?!...)  Matches if ... doesn't match next.\n",
      "        (?<=...) Matches if preceded by ... (must be fixed length).\n",
      "        (?<!...) Matches if not preceded by ... (must be fixed length).\n",
      "        (?(id/name)yes|no) Matches yes pattern if the group with id/name matched,\n",
      "                           the (optional) no pattern otherwise.\n",
      "    \n",
      "    The special sequences consist of \"\\\\\" and a character from the list\n",
      "    below.  If the ordinary character is not on the list, then the\n",
      "    resulting RE will match the second character.\n",
      "        \\number  Matches the contents of the group of the same number.\n",
      "        \\A       Matches only at the start of the string.\n",
      "        \\Z       Matches only at the end of the string.\n",
      "        \\b       Matches the empty string, but only at the start or end of a word.\n",
      "        \\B       Matches the empty string, but not at the start or end of a word.\n",
      "        \\d       Matches any decimal digit; equivalent to the set [0-9] in\n",
      "                 bytes patterns or string patterns with the ASCII flag.\n",
      "                 In string patterns without the ASCII flag, it will match the whole\n",
      "                 range of Unicode digits.\n",
      "        \\D       Matches any non-digit character; equivalent to [^\\d].\n",
      "        \\s       Matches any whitespace character; equivalent to [ \\t\\n\\r\\f\\v] in\n",
      "                 bytes patterns or string patterns with the ASCII flag.\n",
      "                 In string patterns without the ASCII flag, it will match the whole\n",
      "                 range of Unicode whitespace characters.\n",
      "        \\S       Matches any non-whitespace character; equivalent to [^\\s].\n",
      "        \\w       Matches any alphanumeric character; equivalent to [a-zA-Z0-9_]\n",
      "                 in bytes patterns or string patterns with the ASCII flag.\n",
      "                 In string patterns without the ASCII flag, it will match the\n",
      "                 range of Unicode alphanumeric characters (letters plus digits\n",
      "                 plus underscore).\n",
      "                 With LOCALE, it will match the set [0-9_] plus characters defined\n",
      "                 as letters for the current locale.\n",
      "        \\W       Matches the complement of \\w.\n",
      "        \\\\       Matches a literal backslash.\n",
      "    \n",
      "    This module exports the following functions:\n",
      "        match     Match a regular expression pattern to the beginning of a string.\n",
      "        fullmatch Match a regular expression pattern to all of a string.\n",
      "        search    Search a string for the presence of a pattern.\n",
      "        sub       Substitute occurrences of a pattern found in a string.\n",
      "        subn      Same as sub, but also return the number of substitutions made.\n",
      "        split     Split a string by the occurrences of a pattern.\n",
      "        findall   Find all occurrences of a pattern in a string.\n",
      "        finditer  Return an iterator yielding a Match object for each match.\n",
      "        compile   Compile a pattern into a Pattern object.\n",
      "        purge     Clear the regular expression cache.\n",
      "        escape    Backslash all non-alphanumerics in a string.\n",
      "    \n",
      "    Each function other than purge and escape can take an optional 'flags' argument\n",
      "    consisting of one or more of the following module constants, joined by \"|\".\n",
      "    A, L, and U are mutually exclusive.\n",
      "        A  ASCII       For string patterns, make \\w, \\W, \\b, \\B, \\d, \\D\n",
      "                       match the corresponding ASCII character categories\n",
      "                       (rather than the whole Unicode categories, which is the\n",
      "                       default).\n",
      "                       For bytes patterns, this flag is the only available\n",
      "                       behaviour and needn't be specified.\n",
      "        I  IGNORECASE  Perform case-insensitive matching.\n",
      "        L  LOCALE      Make \\w, \\W, \\b, \\B, dependent on the current locale.\n",
      "        M  MULTILINE   \"^\" matches the beginning of lines (after a newline)\n",
      "                       as well as the string.\n",
      "                       \"$\" matches the end of lines (before a newline) as well\n",
      "                       as the end of the string.\n",
      "        S  DOTALL      \".\" matches any character at all, including the newline.\n",
      "        X  VERBOSE     Ignore whitespace and comments for nicer looking RE's.\n",
      "        U  UNICODE     For compatibility only. Ignored for string patterns (it\n",
      "                       is the default), and forbidden for bytes patterns.\n",
      "    \n",
      "    This module also defines an exception 'error'.\n",
      "\n",
      "CLASSES\n",
      "    builtins.Exception(builtins.BaseException)\n",
      "        error\n",
      "    builtins.object\n",
      "        Match\n",
      "        Pattern\n",
      "    \n",
      "    class Match(builtins.object)\n",
      "     |  The result of re.match() and re.search().\n",
      "     |  Match objects always have a boolean value of True.\n",
      "     |  \n",
      "     |  Methods defined here:\n",
      "     |  \n",
      "     |  __copy__(self, /)\n",
      "     |  \n",
      "     |  __deepcopy__(self, memo, /)\n",
      "     |  \n",
      "     |  __getitem__(self, key, /)\n",
      "     |      Return self[key].\n",
      "     |  \n",
      "     |  __repr__(self, /)\n",
      "     |      Return repr(self).\n",
      "     |  \n",
      "     |  end(self, group=0, /)\n",
      "     |      Return index of the end of the substring matched by group.\n",
      "     |  \n",
      "     |  expand(self, /, template)\n",
      "     |      Return the string obtained by doing backslash substitution on the string template, as done by the sub() method.\n",
      "     |  \n",
      "     |  group(...)\n",
      "     |      group([group1, ...]) -> str or tuple.\n",
      "     |      Return subgroup(s) of the match by indices or names.\n",
      "     |      For 0 returns the entire match.\n",
      "     |  \n",
      "     |  groupdict(self, /, default=None)\n",
      "     |      Return a dictionary containing all the named subgroups of the match, keyed by the subgroup name.\n",
      "     |      \n",
      "     |      default\n",
      "     |        Is used for groups that did not participate in the match.\n",
      "     |  \n",
      "     |  groups(self, /, default=None)\n",
      "     |      Return a tuple containing all the subgroups of the match, from 1.\n",
      "     |      \n",
      "     |      default\n",
      "     |        Is used for groups that did not participate in the match.\n",
      "     |  \n",
      "     |  span(self, group=0, /)\n",
      "     |      For match object m, return the 2-tuple (m.start(group), m.end(group)).\n",
      "     |  \n",
      "     |  start(self, group=0, /)\n",
      "     |      Return index of the start of the substring matched by group.\n",
      "     |  \n",
      "     |  ----------------------------------------------------------------------\n",
      "     |  Data descriptors defined here:\n",
      "     |  \n",
      "     |  endpos\n",
      "     |      The index into the string beyond which the RE engine will not go.\n",
      "     |  \n",
      "     |  lastgroup\n",
      "     |      The name of the last matched capturing group.\n",
      "     |  \n",
      "     |  lastindex\n",
      "     |      The integer index of the last matched capturing group.\n",
      "     |  \n",
      "     |  pos\n",
      "     |      The index into the string at which the RE engine started looking for a match.\n",
      "     |  \n",
      "     |  re\n",
      "     |      The regular expression object.\n",
      "     |  \n",
      "     |  regs\n",
      "     |  \n",
      "     |  string\n",
      "     |      The string passed to match() or search().\n",
      "    \n",
      "    class Pattern(builtins.object)\n",
      "     |  Compiled regular expression object.\n",
      "     |  \n",
      "     |  Methods defined here:\n",
      "     |  \n",
      "     |  __copy__(self, /)\n",
      "     |  \n",
      "     |  __deepcopy__(self, memo, /)\n",
      "     |  \n",
      "     |  __eq__(self, value, /)\n",
      "     |      Return self==value.\n",
      "     |  \n",
      "     |  __ge__(self, value, /)\n",
      "     |      Return self>=value.\n",
      "     |  \n",
      "     |  __gt__(self, value, /)\n",
      "     |      Return self>value.\n",
      "     |  \n",
      "     |  __hash__(self, /)\n",
      "     |      Return hash(self).\n",
      "     |  \n",
      "     |  __le__(self, value, /)\n",
      "     |      Return self<=value.\n",
      "     |  \n",
      "     |  __lt__(self, value, /)\n",
      "     |      Return self<value.\n",
      "     |  \n",
      "     |  __ne__(self, value, /)\n",
      "     |      Return self!=value.\n",
      "     |  \n",
      "     |  __repr__(self, /)\n",
      "     |      Return repr(self).\n",
      "     |  \n",
      "     |  findall(self, /, string, pos=0, endpos=9223372036854775807)\n",
      "     |      Return a list of all non-overlapping matches of pattern in string.\n",
      "     |  \n",
      "     |  finditer(self, /, string, pos=0, endpos=9223372036854775807)\n",
      "     |      Return an iterator over all non-overlapping matches for the RE pattern in string.\n",
      "     |      \n",
      "     |      For each match, the iterator returns a match object.\n",
      "     |  \n",
      "     |  fullmatch(self, /, string, pos=0, endpos=9223372036854775807)\n",
      "     |      Matches against all of the string.\n",
      "     |  \n",
      "     |  match(self, /, string, pos=0, endpos=9223372036854775807)\n",
      "     |      Matches zero or more characters at the beginning of the string.\n",
      "     |  \n",
      "     |  scanner(self, /, string, pos=0, endpos=9223372036854775807)\n",
      "     |  \n",
      "     |  search(self, /, string, pos=0, endpos=9223372036854775807)\n",
      "     |      Scan through string looking for a match, and return a corresponding match object instance.\n",
      "     |      \n",
      "     |      Return None if no position in the string matches.\n",
      "     |  \n",
      "     |  split(self, /, string, maxsplit=0)\n",
      "     |      Split string by the occurrences of pattern.\n",
      "     |  \n",
      "     |  sub(self, /, repl, string, count=0)\n",
      "     |      Return the string obtained by replacing the leftmost non-overlapping occurrences of pattern in string by the replacement repl.\n",
      "     |  \n",
      "     |  subn(self, /, repl, string, count=0)\n",
      "     |      Return the tuple (new_string, number_of_subs_made) found by replacing the leftmost non-overlapping occurrences of pattern with the replacement repl.\n",
      "     |  \n",
      "     |  ----------------------------------------------------------------------\n",
      "     |  Data descriptors defined here:\n",
      "     |  \n",
      "     |  flags\n",
      "     |      The regex matching flags.\n",
      "     |  \n",
      "     |  groupindex\n",
      "     |      A dictionary mapping group names to group numbers.\n",
      "     |  \n",
      "     |  groups\n",
      "     |      The number of capturing groups in the pattern.\n",
      "     |  \n",
      "     |  pattern\n",
      "     |      The pattern string from which the RE object was compiled.\n",
      "    \n",
      "    class error(builtins.Exception)\n",
      "     |  error(msg, pattern=None, pos=None)\n",
      "     |  \n",
      "     |  Exception raised for invalid regular expressions.\n",
      "     |  \n",
      "     |  Attributes:\n",
      "     |  \n",
      "     |      msg: The unformatted error message\n",
      "     |      pattern: The regular expression pattern\n",
      "     |      pos: The index in the pattern where compilation failed (may be None)\n",
      "     |      lineno: The line corresponding to pos (may be None)\n",
      "     |      colno: The column corresponding to pos (may be None)\n",
      "     |  \n",
      "     |  Method resolution order:\n",
      "     |      error\n",
      "     |      builtins.Exception\n",
      "     |      builtins.BaseException\n",
      "     |      builtins.object\n",
      "     |  \n",
      "     |  Methods defined here:\n",
      "     |  \n",
      "     |  __init__(self, msg, pattern=None, pos=None)\n",
      "     |      Initialize self.  See help(type(self)) for accurate signature.\n",
      "     |  \n",
      "     |  ----------------------------------------------------------------------\n",
      "     |  Data descriptors defined here:\n",
      "     |  \n",
      "     |  __weakref__\n",
      "     |      list of weak references to the object (if defined)\n",
      "     |  \n",
      "     |  ----------------------------------------------------------------------\n",
      "     |  Static methods inherited from builtins.Exception:\n",
      "     |  \n",
      "     |  __new__(*args, **kwargs) from builtins.type\n",
      "     |      Create and return a new object.  See help(type) for accurate signature.\n",
      "     |  \n",
      "     |  ----------------------------------------------------------------------\n",
      "     |  Methods inherited from builtins.BaseException:\n",
      "     |  \n",
      "     |  __delattr__(self, name, /)\n",
      "     |      Implement delattr(self, name).\n",
      "     |  \n",
      "     |  __getattribute__(self, name, /)\n",
      "     |      Return getattr(self, name).\n",
      "     |  \n",
      "     |  __reduce__(...)\n",
      "     |      Helper for pickle.\n",
      "     |  \n",
      "     |  __repr__(self, /)\n",
      "     |      Return repr(self).\n",
      "     |  \n",
      "     |  __setattr__(self, name, value, /)\n",
      "     |      Implement setattr(self, name, value).\n",
      "     |  \n",
      "     |  __setstate__(...)\n",
      "     |  \n",
      "     |  __str__(self, /)\n",
      "     |      Return str(self).\n",
      "     |  \n",
      "     |  with_traceback(...)\n",
      "     |      Exception.with_traceback(tb) --\n",
      "     |      set self.__traceback__ to tb and return self.\n",
      "     |  \n",
      "     |  ----------------------------------------------------------------------\n",
      "     |  Data descriptors inherited from builtins.BaseException:\n",
      "     |  \n",
      "     |  __cause__\n",
      "     |      exception cause\n",
      "     |  \n",
      "     |  __context__\n",
      "     |      exception context\n",
      "     |  \n",
      "     |  __dict__\n",
      "     |  \n",
      "     |  __suppress_context__\n",
      "     |  \n",
      "     |  __traceback__\n",
      "     |  \n",
      "     |  args\n",
      "\n",
      "FUNCTIONS\n",
      "    compile(pattern, flags=0)\n",
      "        Compile a regular expression pattern, returning a Pattern object.\n",
      "    \n",
      "    escape(pattern)\n",
      "        Escape special characters in a string.\n",
      "    \n",
      "    findall(pattern, string, flags=0)\n",
      "        Return a list of all non-overlapping matches in the string.\n",
      "        \n",
      "        If one or more capturing groups are present in the pattern, return\n",
      "        a list of groups; this will be a list of tuples if the pattern\n",
      "        has more than one group.\n",
      "        \n",
      "        Empty matches are included in the result.\n",
      "    \n",
      "    finditer(pattern, string, flags=0)\n",
      "        Return an iterator over all non-overlapping matches in the\n",
      "        string.  For each match, the iterator returns a Match object.\n",
      "        \n",
      "        Empty matches are included in the result.\n",
      "    \n",
      "    fullmatch(pattern, string, flags=0)\n",
      "        Try to apply the pattern to all of the string, returning\n",
      "        a Match object, or None if no match was found.\n",
      "    \n",
      "    match(pattern, string, flags=0)\n",
      "        Try to apply the pattern at the start of the string, returning\n",
      "        a Match object, or None if no match was found.\n",
      "    \n",
      "    purge()\n",
      "        Clear the regular expression caches\n",
      "    \n",
      "    search(pattern, string, flags=0)\n",
      "        Scan through string looking for a match to the pattern, returning\n",
      "        a Match object, or None if no match was found.\n",
      "    \n",
      "    split(pattern, string, maxsplit=0, flags=0)\n",
      "        Split the source string by the occurrences of the pattern,\n",
      "        returning a list containing the resulting substrings.  If\n",
      "        capturing parentheses are used in pattern, then the text of all\n",
      "        groups in the pattern are also returned as part of the resulting\n",
      "        list.  If maxsplit is nonzero, at most maxsplit splits occur,\n",
      "        and the remainder of the string is returned as the final element\n",
      "        of the list.\n",
      "    \n",
      "    sub(pattern, repl, string, count=0, flags=0)\n",
      "        Return the string obtained by replacing the leftmost\n",
      "        non-overlapping occurrences of the pattern in string by the\n",
      "        replacement repl.  repl can be either a string or a callable;\n",
      "        if a string, backslash escapes in it are processed.  If it is\n",
      "        a callable, it's passed the Match object and must return\n",
      "        a replacement string to be used.\n",
      "    \n",
      "    subn(pattern, repl, string, count=0, flags=0)\n",
      "        Return a 2-tuple containing (new_string, number).\n",
      "        new_string is the string obtained by replacing the leftmost\n",
      "        non-overlapping occurrences of the pattern in the source\n",
      "        string by the replacement repl.  number is the number of\n",
      "        substitutions that were made. repl can be either a string or a\n",
      "        callable; if a string, backslash escapes in it are processed.\n",
      "        If it is a callable, it's passed the Match object and must\n",
      "        return a replacement string to be used.\n",
      "    \n",
      "    template(pattern, flags=0)\n",
      "        Compile a template pattern, returning a Pattern object\n",
      "\n",
      "DATA\n",
      "    A = re.ASCII\n",
      "    ASCII = re.ASCII\n",
      "    DOTALL = re.DOTALL\n",
      "    I = re.IGNORECASE\n",
      "    IGNORECASE = re.IGNORECASE\n",
      "    L = re.LOCALE\n",
      "    LOCALE = re.LOCALE\n",
      "    M = re.MULTILINE\n",
      "    MULTILINE = re.MULTILINE\n",
      "    S = re.DOTALL\n",
      "    U = re.UNICODE\n",
      "    UNICODE = re.UNICODE\n",
      "    VERBOSE = re.VERBOSE\n",
      "    X = re.VERBOSE\n",
      "    __all__ = ['match', 'fullmatch', 'search', 'sub', 'subn', 'split', 'fi...\n",
      "\n",
      "VERSION\n",
      "    2.2.1\n",
      "\n",
      "FILE\n",
      "    c:\\users\\sravani\\anaconda3\\lib\\re.py\n",
      "\n",
      "\n"
     ]
    }
   ],
   "source": [
    "help(re)"
   ]
  },
  {
   "cell_type": "code",
   "execution_count": 26,
   "metadata": {},
   "outputs": [
    {
     "name": "stdout",
     "output_type": "stream",
     "text": [
      "Support for regular expressions (RE).\n",
      "\n",
      "This module provides regular expression matching operations similar to\n",
      "those found in Perl.  It supports both 8-bit and Unicode strings; both\n",
      "the pattern and the strings being processed can contain null bytes and\n",
      "characters outside the US ASCII range.\n",
      "\n",
      "Regular expressions can contain both special and ordinary characters.\n",
      "Most ordinary characters, like \"A\", \"a\", or \"0\", are the simplest\n",
      "regular expressions; they simply match themselves.  You can\n",
      "concatenate ordinary characters, so last matches the string 'last'.\n",
      "\n",
      "The special characters are:\n",
      "    \".\"      Matches any character except a newline.\n",
      "    \"^\"      Matches the start of the string.\n",
      "    \"$\"      Matches the end of the string or just before the newline at\n",
      "             the end of the string.\n",
      "    \"*\"      Matches 0 or more (greedy) repetitions of the preceding RE.\n",
      "             Greedy means that it will match as many repetitions as possible.\n",
      "    \"+\"      Matches 1 or more (greedy) repetitions of the preceding RE.\n",
      "    \"?\"      Matches 0 or 1 (greedy) of the preceding RE.\n",
      "    *?,+?,?? Non-greedy versions of the previous three special characters.\n",
      "    {m,n}    Matches from m to n repetitions of the preceding RE.\n",
      "    {m,n}?   Non-greedy version of the above.\n",
      "    \"\\\\\"     Either escapes special characters or signals a special sequence.\n",
      "    []       Indicates a set of characters.\n",
      "             A \"^\" as the first character indicates a complementing set.\n",
      "    \"|\"      A|B, creates an RE that will match either A or B.\n",
      "    (...)    Matches the RE inside the parentheses.\n",
      "             The contents can be retrieved or matched later in the string.\n",
      "    (?aiLmsux) The letters set the corresponding flags defined below.\n",
      "    (?:...)  Non-grouping version of regular parentheses.\n",
      "    (?P<name>...) The substring matched by the group is accessible by name.\n",
      "    (?P=name)     Matches the text matched earlier by the group named name.\n",
      "    (?#...)  A comment; ignored.\n",
      "    (?=...)  Matches if ... matches next, but doesn't consume the string.\n",
      "    (?!...)  Matches if ... doesn't match next.\n",
      "    (?<=...) Matches if preceded by ... (must be fixed length).\n",
      "    (?<!...) Matches if not preceded by ... (must be fixed length).\n",
      "    (?(id/name)yes|no) Matches yes pattern if the group with id/name matched,\n",
      "                       the (optional) no pattern otherwise.\n",
      "\n",
      "The special sequences consist of \"\\\\\" and a character from the list\n",
      "below.  If the ordinary character is not on the list, then the\n",
      "resulting RE will match the second character.\n",
      "    \\number  Matches the contents of the group of the same number.\n",
      "    \\A       Matches only at the start of the string.\n",
      "    \\Z       Matches only at the end of the string.\n",
      "    \\b       Matches the empty string, but only at the start or end of a word.\n",
      "    \\B       Matches the empty string, but not at the start or end of a word.\n",
      "    \\d       Matches any decimal digit; equivalent to the set [0-9] in\n",
      "             bytes patterns or string patterns with the ASCII flag.\n",
      "             In string patterns without the ASCII flag, it will match the whole\n",
      "             range of Unicode digits.\n",
      "    \\D       Matches any non-digit character; equivalent to [^\\d].\n",
      "    \\s       Matches any whitespace character; equivalent to [ \\t\\n\\r\\f\\v] in\n",
      "             bytes patterns or string patterns with the ASCII flag.\n",
      "             In string patterns without the ASCII flag, it will match the whole\n",
      "             range of Unicode whitespace characters.\n",
      "    \\S       Matches any non-whitespace character; equivalent to [^\\s].\n",
      "    \\w       Matches any alphanumeric character; equivalent to [a-zA-Z0-9_]\n",
      "             in bytes patterns or string patterns with the ASCII flag.\n",
      "             In string patterns without the ASCII flag, it will match the\n",
      "             range of Unicode alphanumeric characters (letters plus digits\n",
      "             plus underscore).\n",
      "             With LOCALE, it will match the set [0-9_] plus characters defined\n",
      "             as letters for the current locale.\n",
      "    \\W       Matches the complement of \\w.\n",
      "    \\\\       Matches a literal backslash.\n",
      "\n",
      "This module exports the following functions:\n",
      "    match     Match a regular expression pattern to the beginning of a string.\n",
      "    fullmatch Match a regular expression pattern to all of a string.\n",
      "    search    Search a string for the presence of a pattern.\n",
      "    sub       Substitute occurrences of a pattern found in a string.\n",
      "    subn      Same as sub, but also return the number of substitutions made.\n",
      "    split     Split a string by the occurrences of a pattern.\n",
      "    findall   Find all occurrences of a pattern in a string.\n",
      "    finditer  Return an iterator yielding a Match object for each match.\n",
      "    compile   Compile a pattern into a Pattern object.\n",
      "    purge     Clear the regular expression cache.\n",
      "    escape    Backslash all non-alphanumerics in a string.\n",
      "\n",
      "Each function other than purge and escape can take an optional 'flags' argument\n",
      "consisting of one or more of the following module constants, joined by \"|\".\n",
      "A, L, and U are mutually exclusive.\n",
      "    A  ASCII       For string patterns, make \\w, \\W, \\b, \\B, \\d, \\D\n",
      "                   match the corresponding ASCII character categories\n",
      "                   (rather than the whole Unicode categories, which is the\n",
      "                   default).\n",
      "                   For bytes patterns, this flag is the only available\n",
      "                   behaviour and needn't be specified.\n",
      "    I  IGNORECASE  Perform case-insensitive matching.\n",
      "    L  LOCALE      Make \\w, \\W, \\b, \\B, dependent on the current locale.\n",
      "    M  MULTILINE   \"^\" matches the beginning of lines (after a newline)\n",
      "                   as well as the string.\n",
      "                   \"$\" matches the end of lines (before a newline) as well\n",
      "                   as the end of the string.\n",
      "    S  DOTALL      \".\" matches any character at all, including the newline.\n",
      "    X  VERBOSE     Ignore whitespace and comments for nicer looking RE's.\n",
      "    U  UNICODE     For compatibility only. Ignored for string patterns (it\n",
      "                   is the default), and forbidden for bytes patterns.\n",
      "\n",
      "This module also defines an exception 'error'.\n",
      "\n",
      "\n"
     ]
    }
   ],
   "source": [
    "print(re.__doc__)"
   ]
  },
  {
   "cell_type": "code",
   "execution_count": 27,
   "metadata": {},
   "outputs": [
    {
     "name": "stdout",
     "output_type": "stream",
     "text": [
      "['A', 'ASCII', 'DEBUG', 'DOTALL', 'I', 'IGNORECASE', 'L', 'LOCALE', 'M', 'MULTILINE', 'Match', 'Pattern', 'RegexFlag', 'S', 'Scanner', 'T', 'TEMPLATE', 'U', 'UNICODE', 'VERBOSE', 'X', '_MAXCACHE', '__all__', '__builtins__', '__cached__', '__doc__', '__file__', '__loader__', '__name__', '__package__', '__spec__', '__version__', '_cache', '_compile', '_compile_repl', '_expand', '_locale', '_pickle', '_special_chars_map', '_subx', 'compile', 'copyreg', 'enum', 'error', 'escape', 'findall', 'finditer', 'fullmatch', 'functools', 'match', 'purge', 'search', 'split', 'sre_compile', 'sre_parse', 'sub', 'subn', 'template']\n"
     ]
    }
   ],
   "source": [
    "print(dir(re))"
   ]
  },
  {
   "cell_type": "markdown",
   "metadata": {},
   "source": [
    "### Syntax\n",
    "\n",
    "- method(pattern,string)"
   ]
  },
  {
   "cell_type": "code",
   "execution_count": 29,
   "metadata": {},
   "outputs": [
    {
     "name": "stdout",
     "output_type": "stream",
     "text": [
      "['P', 'P', 'P', 'P', 'P', 'P']\n"
     ]
    }
   ],
   "source": [
    "print(re.findall('P',s))"
   ]
  },
  {
   "cell_type": "code",
   "execution_count": 30,
   "metadata": {},
   "outputs": [
    {
     "name": "stdout",
     "output_type": "stream",
     "text": [
      "['Pyt', 'Pyt', 'Pyt', 'Pre', 'Pyt', 'Par']\n"
     ]
    }
   ],
   "source": [
    "print(re.findall('P..',s))"
   ]
  },
  {
   "cell_type": "code",
   "execution_count": 31,
   "metadata": {},
   "outputs": [
    {
     "name": "stdout",
     "output_type": "stream",
     "text": [
      "['an ', 'al-', 'amm', 'ang', 'age', 'asi', 'ada', 'abl', 'ant', 'ati', 'are', 'ati', 'abl', 'ase', 'ay ', 'ays', 'ago', 'ase', 'ay ', 'ays', 'ago', 'ami', 'adu', 'al ', 'app', 'are', 'ary', 'ars', 'ago', 'ara', 'ara', 'al ', 'ati', 'al,']\n"
     ]
    }
   ],
   "source": [
    "print(re.findall('a..',s))"
   ]
  },
  {
   "cell_type": "code",
   "execution_count": 33,
   "metadata": {},
   "outputs": [
    {
     "name": "stdout",
     "output_type": "stream",
     "text": [
      "['Pyt']\n"
     ]
    }
   ],
   "source": [
    "print(re.findall('^P..',s))"
   ]
  },
  {
   "cell_type": "code",
   "execution_count": 34,
   "metadata": {},
   "outputs": [
    {
     "name": "stdout",
     "output_type": "stream",
     "text": [
      "['Py']\n"
     ]
    }
   ],
   "source": [
    "print(re.findall('\\A..',s))"
   ]
  },
  {
   "cell_type": "code",
   "execution_count": 35,
   "metadata": {},
   "outputs": [
    {
     "name": "stdout",
     "output_type": "stream",
     "text": [
      "['ive']\n"
     ]
    }
   ],
   "source": [
    "print(re.findall('..e$',s))"
   ]
  },
  {
   "cell_type": "code",
   "execution_count": 37,
   "metadata": {},
   "outputs": [
    {
     "name": "stdout",
     "output_type": "stream",
     "text": [
      "['ective']\n"
     ]
    }
   ],
   "source": [
    "print(re.findall('.....e$',s))"
   ]
  },
  {
   "cell_type": "code",
   "execution_count": 38,
   "metadata": {},
   "outputs": [
    {
     "data": {
      "text/plain": [
       "\"Python is an interpreted high-level general-purpose programming language. Python's design philosophy emphasizes code readability with its notable use of significant indentation. Wikipedia\\nDeveloper: Python Software Foundation\\nStable release: 3.9.5 / 3 May 2021; 19 days ago\\nPreview release: 3.10.0b1 / 3 May 2021; 19 days ago\\nTyping discipline: Duck, dynamic, strong typing; gradual (since 3.5, but ignored in CPython)\\nFirst appeared: February 1991; 30 years ago\\nParadigm: Multi-paradigm: object-oriented, procedural (imperative), functional, structured, reflective\\n\""
      ]
     },
     "execution_count": 38,
     "metadata": {},
     "output_type": "execute_result"
    }
   ],
   "source": [
    "s"
   ]
  },
  {
   "cell_type": "code",
   "execution_count": 40,
   "metadata": {},
   "outputs": [
    {
     "name": "stdout",
     "output_type": "stream",
     "text": [
      "['shnZ']\n"
     ]
    }
   ],
   "source": [
    "st=\"hgfghdfdfgdhjjyuyu7y54washnZ\"\n",
    "\n",
    "print(re.findall('....\\Z',st))"
   ]
  },
  {
   "cell_type": "code",
   "execution_count": 41,
   "metadata": {},
   "outputs": [
    {
     "name": "stdout",
     "output_type": "stream",
     "text": [
      "['Pyt', 'hon', ' is', ' an', ' in', 'ter', 'pre', 'ted', ' hi', 'gh-', 'lev', 'el ', 'gen', 'era', 'l-p', 'urp', 'ose', ' pr', 'ogr', 'amm', 'ing', ' la', 'ngu', 'age', '. P', 'yth', \"on'\", 's d', 'esi', 'gn ', 'phi', 'los', 'oph', 'y e', 'mph', 'asi', 'zes', ' co', 'de ', 'rea', 'dab', 'ili', 'ty ', 'wit', 'h i', 'ts ', 'not', 'abl', 'e u', 'se ', 'of ', 'sig', 'nif', 'ica', 'nt ', 'ind', 'ent', 'ati', 'on.', ' Wi', 'kip', 'edi', 'Dev', 'elo', 'per', ': P', 'yth', 'on ', 'Sof', 'twa', 're ', 'Fou', 'nda', 'tio', 'Sta', 'ble', ' re', 'lea', 'se:', ' 3.', '9.5', ' / ', '3 M', 'ay ', '202', '1; ', '19 ', 'day', 's a', 'Pre', 'vie', 'w r', 'ele', 'ase', ': 3', '.10', '.0b', '1 /', ' 3 ', 'May', ' 20', '21;', ' 19', ' da', 'ys ', 'ago', 'Typ', 'ing', ' di', 'sci', 'pli', 'ne:', ' Du', 'ck,', ' dy', 'nam', 'ic,', ' st', 'ron', 'g t', 'ypi', 'ng;', ' gr', 'adu', 'al ', '(si', 'nce', ' 3.', '5, ', 'but', ' ig', 'nor', 'ed ', 'in ', 'CPy', 'tho', 'Fir', 'st ', 'app', 'ear', 'ed:', ' Fe', 'bru', 'ary', ' 19', '91;', ' 30', ' ye', 'ars', ' ag', 'Par', 'adi', 'gm:', ' Mu', 'lti', '-pa', 'rad', 'igm', ': o', 'bje', 'ct-', 'ori', 'ent', 'ed,', ' pr', 'oce', 'dur', 'al ', '(im', 'per', 'ati', 've)', ', f', 'unc', 'tio', 'nal', ', s', 'tru', 'ctu', 'red', ', r', 'efl', 'ect', 'ive']\n"
     ]
    }
   ],
   "source": [
    "print(re.findall('...',s))"
   ]
  },
  {
   "cell_type": "code",
   "execution_count": 42,
   "metadata": {},
   "outputs": [
    {
     "name": "stdout",
     "output_type": "stream",
     "text": [
      "['Pyth', 'on i', 's an', ' int', 'erpr', 'eted', ' hig', 'h-le', 'el g', 'ener', 'al-p', 'urpo', 'se p', 'rogr', 'ammi', 'ng l', 'angu', '. Py', 'thon', \"'s d\", 'esig', 'n ph', 'ilos', 'ophy', ' emp', 'hasi', 'es c', 'de r', 'eada', 'bili', 'ty w', 'th i', 'ts n', 'otab', 'le u', 'se o', 'f si', 'gnif', 'ican', 't in', 'dent', 'atio', '. Wi', 'kipe', 'Deve', 'lope', ': Py', 'thon', ' Sof', 'twar', 'e Fo', 'unda', 'tion', 'Stab', 'le r', 'elea', '3 Ma', '19 d', 'ys a', 'Prev', 'ew r', 'elea', '0.0b', '3 Ma', '19 d', 'ys a', 'Typi', 'ng d', 'isci', 'plin', ': Du', 'k, d', 'ynam', 'c, s', 'tron', 'g ty', 'ping', '; gr', 'adua', 'l (s', 'ince', '5, b', 'ut i', 'gnor', 'ed i', ' CPy', 'thon', 'Firs', 't ap', 'pear', ': Fe', 'brua', '30 y', 'ears', ' ago', 'Para', 'digm', ': Mu', 'ti-p', 'arad', 'm: o', 'bjec', 't-or', 'ient', 'd, p', 'roce', 'dura', 'l (i', 'mper', 'ativ', '), f', 'unct', 'iona', 'l, s', 'truc', 'ture', 'd, r', 'efle', 'ctiv']\n"
     ]
    }
   ],
   "source": [
    "print(re.findall('...[a-z]',s))"
   ]
  },
  {
   "cell_type": "code",
   "execution_count": 44,
   "metadata": {},
   "outputs": [
    {
     "name": "stdout",
     "output_type": "stream",
     "text": [
      "['yth', 'n i', 's a', 'n i', 'nte', 'rpr', 'ete', 'd h', 'igh', 'lev', 'l g', 'ene', 'ral', 'pur', 'pos', 'e p', 'rog', 'ram', 'min', 'g l', 'ang', 'uag', 'yth', \"n's\", 'des', 'ign', 'phi', 'los', 'oph', 'y e', 'mph', 'asi', 'zes', 'cod', 'e r', 'ead', 'abi', 'lit', 'y w', 'ith', 'its', 'not', 'abl', 'e u', 'e o', 'f s', 'ign', 'ifi', 'can', 't i', 'nde', 'nta', 'tio', 'iki', 'ped', 'eve', 'lop', 'yth', 'oft', 'war', 'oun', 'dat', 'ion', 'tab', 'e r', 'ele', 'ase', 'day', 's a', 'rev', 'iew', 'rel', 'eas', 'day', 's a', 'ypi', 'g d', 'isc', 'ipl', 'ine', 'uck', 'dyn', 'ami', 'str', 'ong', 'typ', 'ing', 'gra', 'dua', 'sin', 'but', 'ign', 'ore', 'd i', 'yth', 'irs', 't a', 'ppe', 'are', 'ebr', 'uar', 'yea', 's a', 'ara', 'dig', 'ult', 'i-p', 'ara', 'dig', 'obj', 'ect', 'ori', 'ent', 'pro', 'ced', 'ura', 'imp', 'era', 'tiv', 'fun', 'cti', 'ona', 'str', 'uct', 'ure', 'ref', 'lec', 'tiv']\n"
     ]
    }
   ],
   "source": [
    "print(re.findall('[a-z].[a-z]',s))"
   ]
  },
  {
   "cell_type": "code",
   "execution_count": 45,
   "metadata": {},
   "outputs": [
    {
     "name": "stdout",
     "output_type": "stream",
     "text": [
      "['Pyt', 'hon', 's a', 'n i', 'nte', 'rpr', 'ete', 'd h', 'igh', 'lev', 'l g', 'ene', 'ral', 'pur', 'pos', 'e p', 'rog', 'ram', 'min', 'g l', 'ang', 'uag', 'Pyt', 'hon', 's d', 'esi', 'n p', 'hil', 'oso', 'phy', 'emp', 'has', 'ize', 's c', 'ode', 'rea', 'dab', 'ili', 'y w', 'ith', 'its', 'not', 'abl', 'e u', 'e o', 'f s', 'ign', 'ifi', 'can', 't i', 'nde', 'nta', 'tio', 'Wik', 'ipe', 'dia', 'Dev', 'elo', 'per', 'Pyt', 'hon', 'Sof', 'twa', 'Fou', 'nda', 'tio', 'Sta', 'ble', 'rel', 'eas', 'May', 'day', 's a', 'Pre', 'vie', 'w r', 'ele', 'ase', 'May', 'day', 's a', 'Typ', 'ing', 'dis', 'cip', 'lin', 'Duc', 'dyn', 'ami', 'str', 'ong', 'typ', 'ing', 'gra', 'dua', 'sin', 'but', 'ign', 'ore', 'd i', 'CPy', 'tho', 'Fir', 't a', 'ppe', 'are', 'Feb', 'rua', 'yea', 's a', 'Par', 'adi', 'Mul', 'i-p', 'ara', 'dig', 'obj', 'ect', 'ori', 'ent', 'pro', 'ced', 'ura', 'imp', 'era', 'tiv', 'fun', 'cti', 'ona', 'str', 'uct', 'ure', 'ref', 'lec', 'tiv']\n"
     ]
    }
   ],
   "source": [
    "print(re.findall('[A-Za-z].[a-z]',s))"
   ]
  },
  {
   "cell_type": "code",
   "execution_count": 43,
   "metadata": {},
   "outputs": [
    {
     "name": "stdout",
     "output_type": "stream",
     "text": [
      "['e: 3', '.9.5', ' / 3', 'ay 2', '1; 1', 'e: 3', '10.0', ' / 3', 'ay 2', '1; 1', 'ce 3', 'ry 1', '1; 3']\n"
     ]
    }
   ],
   "source": [
    "print(re.findall('...[0-9]',s))"
   ]
  },
  {
   "cell_type": "code",
   "execution_count": 51,
   "metadata": {},
   "outputs": [
    {
     "name": "stdout",
     "output_type": "stream",
     "text": [
      "['Pyt', 'Pyt', 'Wik', 'Dev', 'Pyt', 'Sof', 'Fou', 'Sta', 'May', 'Pre', 'May', 'Typ', 'Duc', 'Pyt', 'Fir', 'Feb', 'Par', 'Mul']\n"
     ]
    }
   ],
   "source": [
    "print(re.findall('[A-Z][a-z][a-z]',s))"
   ]
  },
  {
   "cell_type": "code",
   "execution_count": 56,
   "metadata": {},
   "outputs": [
    {
     "name": "stdout",
     "output_type": "stream",
     "text": [
      "['10$']\n"
     ]
    }
   ],
   "source": [
    "d = 'Today I received 10$ from my boss'\n",
    "\n",
    "print(re.findall('..\\$',d))"
   ]
  },
  {
   "cell_type": "code",
   "execution_count": 57,
   "metadata": {},
   "outputs": [
    {
     "name": "stdout",
     "output_type": "stream",
     "text": [
      "['ss']\n"
     ]
    }
   ],
   "source": [
    "print(re.findall('..$',d))"
   ]
  },
  {
   "cell_type": "code",
   "execution_count": 58,
   "metadata": {},
   "outputs": [
    {
     "name": "stdout",
     "output_type": "stream",
     "text": [
      "['P', 'y', 't', 'h', 'o', 'n', ' ', 'i', 's', ' ', 'a', 'n', ' ', 'i', 'n', 't', 'e', 'r', 'p', 'r', 'e', 't', 'e', 'd', ' ', 'h', 'i', 'g', 'h', '-', 'l', 'e', 'v', 'e', 'l', ' ', 'g', 'e', 'n', 'e', 'r', 'a', 'l', '-', 'p', 'u', 'r', 'p', 'o', 's', 'e', ' ', 'p', 'r', 'o', 'g', 'r', 'a', 'm', 'm', 'i', 'n', 'g', ' ', 'l', 'a', 'n', 'g', 'u', 'a', 'g', 'e', '.', ' ', 'P', 'y', 't', 'h', 'o', 'n', \"'\", 's', ' ', 'd', 'e', 's', 'i', 'g', 'n', ' ', 'p', 'h', 'i', 'l', 'o', 's', 'o', 'p', 'h', 'y', ' ', 'e', 'm', 'p', 'h', 'a', 's', 'i', 'z', 'e', 's', ' ', 'c', 'o', 'd', 'e', ' ', 'r', 'e', 'a', 'd', 'a', 'b', 'i', 'l', 'i', 't', 'y', ' ', 'w', 'i', 't', 'h', ' ', 'i', 't', 's', ' ', 'n', 'o', 't', 'a', 'b', 'l', 'e', ' ', 'u', 's', 'e', ' ', 'o', 'f', ' ', 's', 'i', 'g', 'n', 'i', 'f', 'i', 'c', 'a', 'n', 't', ' ', 'i', 'n', 'd', 'e', 'n', 't', 'a', 't', 'i', 'o', 'n', '.', ' ', 'W', 'i', 'k', 'i', 'p', 'e', 'd', 'i', 'a', 'D', 'e', 'v', 'e', 'l', 'o', 'p', 'e', 'r', ':', ' ', 'P', 'y', 't', 'h', 'o', 'n', ' ', 'S', 'o', 'f', 't', 'w', 'a', 'r', 'e', ' ', 'F', 'o', 'u', 'n', 'd', 'a', 't', 'i', 'o', 'n', 'S', 't', 'a', 'b', 'l', 'e', ' ', 'r', 'e', 'l', 'e', 'a', 's', 'e', ':', ' ', '3', '.', '9', '.', '5', ' ', '/', ' ', '3', ' ', 'M', 'a', 'y', ' ', '2', '0', '2', '1', ';', ' ', '1', '9', ' ', 'd', 'a', 'y', 's', ' ', 'a', 'g', 'o', 'P', 'r', 'e', 'v', 'i', 'e', 'w', ' ', 'r', 'e', 'l', 'e', 'a', 's', 'e', ':', ' ', '3', '.', '1', '0', '.', '0', 'b', '1', ' ', '/', ' ', '3', ' ', 'M', 'a', 'y', ' ', '2', '0', '2', '1', ';', ' ', '1', '9', ' ', 'd', 'a', 'y', 's', ' ', 'a', 'g', 'o', 'T', 'y', 'p', 'i', 'n', 'g', ' ', 'd', 'i', 's', 'c', 'i', 'p', 'l', 'i', 'n', 'e', ':', ' ', 'D', 'u', 'c', 'k', ',', ' ', 'd', 'y', 'n', 'a', 'm', 'i', 'c', ',', ' ', 's', 't', 'r', 'o', 'n', 'g', ' ', 't', 'y', 'p', 'i', 'n', 'g', ';', ' ', 'g', 'r', 'a', 'd', 'u', 'a', 'l', ' ', '(', 's', 'i', 'n', 'c', 'e', ' ', '3', '.', '5', ',', ' ', 'b', 'u', 't', ' ', 'i', 'g', 'n', 'o', 'r', 'e', 'd', ' ', 'i', 'n', ' ', 'C', 'P', 'y', 't', 'h', 'o', 'n', ')', 'F', 'i', 'r', 's', 't', ' ', 'a', 'p', 'p', 'e', 'a', 'r', 'e', 'd', ':', ' ', 'F', 'e', 'b', 'r', 'u', 'a', 'r', 'y', ' ', '1', '9', '9', '1', ';', ' ', '3', '0', ' ', 'y', 'e', 'a', 'r', 's', ' ', 'a', 'g', 'o', 'P', 'a', 'r', 'a', 'd', 'i', 'g', 'm', ':', ' ', 'M', 'u', 'l', 't', 'i', '-', 'p', 'a', 'r', 'a', 'd', 'i', 'g', 'm', ':', ' ', 'o', 'b', 'j', 'e', 'c', 't', '-', 'o', 'r', 'i', 'e', 'n', 't', 'e', 'd', ',', ' ', 'p', 'r', 'o', 'c', 'e', 'd', 'u', 'r', 'a', 'l', ' ', '(', 'i', 'm', 'p', 'e', 'r', 'a', 't', 'i', 'v', 'e', ')', ',', ' ', 'f', 'u', 'n', 'c', 't', 'i', 'o', 'n', 'a', 'l', ',', ' ', 's', 't', 'r', 'u', 'c', 't', 'u', 'r', 'e', 'd', ',', ' ', 'r', 'e', 'f', 'l', 'e', 'c', 't', 'i', 'v', 'e']\n"
     ]
    }
   ],
   "source": [
    "print(re.findall('.',s))"
   ]
  },
  {
   "cell_type": "code",
   "execution_count": 59,
   "metadata": {},
   "outputs": [
    {
     "name": "stdout",
     "output_type": "stream",
     "text": [
      "['P', 'y', 't', 'h', 'o', 'n', 'i', 's', 'a', 'n', 'i', 'n', 't', 'e', 'r', 'p', 'r', 'e', 't', 'e', 'd', 'h', 'i', 'g', 'h', 'l', 'e', 'v', 'e', 'l', 'g', 'e', 'n', 'e', 'r', 'a', 'l', 'p', 'u', 'r', 'p', 'o', 's', 'e', 'p', 'r', 'o', 'g', 'r', 'a', 'm', 'm', 'i', 'n', 'g', 'l', 'a', 'n', 'g', 'u', 'a', 'g', 'e', 'P', 'y', 't', 'h', 'o', 'n', 's', 'd', 'e', 's', 'i', 'g', 'n', 'p', 'h', 'i', 'l', 'o', 's', 'o', 'p', 'h', 'y', 'e', 'm', 'p', 'h', 'a', 's', 'i', 'z', 'e', 's', 'c', 'o', 'd', 'e', 'r', 'e', 'a', 'd', 'a', 'b', 'i', 'l', 'i', 't', 'y', 'w', 'i', 't', 'h', 'i', 't', 's', 'n', 'o', 't', 'a', 'b', 'l', 'e', 'u', 's', 'e', 'o', 'f', 's', 'i', 'g', 'n', 'i', 'f', 'i', 'c', 'a', 'n', 't', 'i', 'n', 'd', 'e', 'n', 't', 'a', 't', 'i', 'o', 'n', 'W', 'i', 'k', 'i', 'p', 'e', 'd', 'i', 'a', 'D', 'e', 'v', 'e', 'l', 'o', 'p', 'e', 'r', 'P', 'y', 't', 'h', 'o', 'n', 'S', 'o', 'f', 't', 'w', 'a', 'r', 'e', 'F', 'o', 'u', 'n', 'd', 'a', 't', 'i', 'o', 'n', 'S', 't', 'a', 'b', 'l', 'e', 'r', 'e', 'l', 'e', 'a', 's', 'e', '3', '9', '5', '3', 'M', 'a', 'y', '2', '0', '2', '1', '1', '9', 'd', 'a', 'y', 's', 'a', 'g', 'o', 'P', 'r', 'e', 'v', 'i', 'e', 'w', 'r', 'e', 'l', 'e', 'a', 's', 'e', '3', '1', '0', '0', 'b', '1', '3', 'M', 'a', 'y', '2', '0', '2', '1', '1', '9', 'd', 'a', 'y', 's', 'a', 'g', 'o', 'T', 'y', 'p', 'i', 'n', 'g', 'd', 'i', 's', 'c', 'i', 'p', 'l', 'i', 'n', 'e', 'D', 'u', 'c', 'k', 'd', 'y', 'n', 'a', 'm', 'i', 'c', 's', 't', 'r', 'o', 'n', 'g', 't', 'y', 'p', 'i', 'n', 'g', 'g', 'r', 'a', 'd', 'u', 'a', 'l', 's', 'i', 'n', 'c', 'e', '3', '5', 'b', 'u', 't', 'i', 'g', 'n', 'o', 'r', 'e', 'd', 'i', 'n', 'C', 'P', 'y', 't', 'h', 'o', 'n', 'F', 'i', 'r', 's', 't', 'a', 'p', 'p', 'e', 'a', 'r', 'e', 'd', 'F', 'e', 'b', 'r', 'u', 'a', 'r', 'y', '1', '9', '9', '1', '3', '0', 'y', 'e', 'a', 'r', 's', 'a', 'g', 'o', 'P', 'a', 'r', 'a', 'd', 'i', 'g', 'm', 'M', 'u', 'l', 't', 'i', 'p', 'a', 'r', 'a', 'd', 'i', 'g', 'm', 'o', 'b', 'j', 'e', 'c', 't', 'o', 'r', 'i', 'e', 'n', 't', 'e', 'd', 'p', 'r', 'o', 'c', 'e', 'd', 'u', 'r', 'a', 'l', 'i', 'm', 'p', 'e', 'r', 'a', 't', 'i', 'v', 'e', 'f', 'u', 'n', 'c', 't', 'i', 'o', 'n', 'a', 'l', 's', 't', 'r', 'u', 'c', 't', 'u', 'r', 'e', 'd', 'r', 'e', 'f', 'l', 'e', 'c', 't', 'i', 'v', 'e']\n"
     ]
    }
   ],
   "source": [
    "print(re.findall('\\w',s))"
   ]
  },
  {
   "cell_type": "code",
   "execution_count": 61,
   "metadata": {},
   "outputs": [
    {
     "name": "stdout",
     "output_type": "stream",
     "text": [
      "[' ', ' ', ' ', ' ', '-', ' ', '-', ' ', ' ', '.', ' ', \"'\", ' ', ' ', ' ', ' ', ' ', ' ', ' ', ' ', ' ', ' ', ' ', ' ', '.', ' ', '\\n', ':', ' ', ' ', ' ', '\\n', ' ', ':', ' ', '.', '.', ' ', '/', ' ', ' ', ' ', ';', ' ', ' ', ' ', '\\n', ' ', ':', ' ', '.', '.', ' ', '/', ' ', ' ', ' ', ';', ' ', ' ', ' ', '\\n', ' ', ':', ' ', ',', ' ', ',', ' ', ' ', ';', ' ', ' ', '(', ' ', '.', ',', ' ', ' ', ' ', ' ', ')', '\\n', ' ', ':', ' ', ' ', ';', ' ', ' ', ' ', '\\n', ':', ' ', '-', ':', ' ', '-', ',', ' ', ' ', '(', ')', ',', ' ', ',', ' ', ',', ' ', '\\n']\n"
     ]
    }
   ],
   "source": [
    "print(re.findall('\\W',s))"
   ]
  },
  {
   "cell_type": "code",
   "execution_count": 62,
   "metadata": {},
   "outputs": [
    {
     "name": "stdout",
     "output_type": "stream",
     "text": [
      "['3', '9', '5', '3', '2', '0', '2', '1', '1', '9', '3', '1', '0', '0', '1', '3', '2', '0', '2', '1', '1', '9', '3', '5', '1', '9', '9', '1', '3', '0']\n"
     ]
    }
   ],
   "source": [
    "print(re.findall('\\d',s))"
   ]
  },
  {
   "cell_type": "code",
   "execution_count": 64,
   "metadata": {},
   "outputs": [
    {
     "name": "stdout",
     "output_type": "stream",
     "text": [
      "['P', 'y', 't', 'h', 'o', 'n', ' ', 'i', 's', ' ', 'a', 'n', ' ', 'i', 'n', 't', 'e', 'r', 'p', 'r', 'e', 't', 'e', 'd', ' ', 'h', 'i', 'g', 'h', '-', 'l', 'e', 'v', 'e', 'l', ' ', 'g', 'e', 'n', 'e', 'r', 'a', 'l', '-', 'p', 'u', 'r', 'p', 'o', 's', 'e', ' ', 'p', 'r', 'o', 'g', 'r', 'a', 'm', 'm', 'i', 'n', 'g', ' ', 'l', 'a', 'n', 'g', 'u', 'a', 'g', 'e', '.', ' ', 'P', 'y', 't', 'h', 'o', 'n', \"'\", 's', ' ', 'd', 'e', 's', 'i', 'g', 'n', ' ', 'p', 'h', 'i', 'l', 'o', 's', 'o', 'p', 'h', 'y', ' ', 'e', 'm', 'p', 'h', 'a', 's', 'i', 'z', 'e', 's', ' ', 'c', 'o', 'd', 'e', ' ', 'r', 'e', 'a', 'd', 'a', 'b', 'i', 'l', 'i', 't', 'y', ' ', 'w', 'i', 't', 'h', ' ', 'i', 't', 's', ' ', 'n', 'o', 't', 'a', 'b', 'l', 'e', ' ', 'u', 's', 'e', ' ', 'o', 'f', ' ', 's', 'i', 'g', 'n', 'i', 'f', 'i', 'c', 'a', 'n', 't', ' ', 'i', 'n', 'd', 'e', 'n', 't', 'a', 't', 'i', 'o', 'n', '.', ' ', 'W', 'i', 'k', 'i', 'p', 'e', 'd', 'i', 'a', '\\n', 'D', 'e', 'v', 'e', 'l', 'o', 'p', 'e', 'r', ':', ' ', 'P', 'y', 't', 'h', 'o', 'n', ' ', 'S', 'o', 'f', 't', 'w', 'a', 'r', 'e', ' ', 'F', 'o', 'u', 'n', 'd', 'a', 't', 'i', 'o', 'n', '\\n', 'S', 't', 'a', 'b', 'l', 'e', ' ', 'r', 'e', 'l', 'e', 'a', 's', 'e', ':', ' ', '.', '.', ' ', '/', ' ', ' ', 'M', 'a', 'y', ' ', ';', ' ', ' ', 'd', 'a', 'y', 's', ' ', 'a', 'g', 'o', '\\n', 'P', 'r', 'e', 'v', 'i', 'e', 'w', ' ', 'r', 'e', 'l', 'e', 'a', 's', 'e', ':', ' ', '.', '.', 'b', ' ', '/', ' ', ' ', 'M', 'a', 'y', ' ', ';', ' ', ' ', 'd', 'a', 'y', 's', ' ', 'a', 'g', 'o', '\\n', 'T', 'y', 'p', 'i', 'n', 'g', ' ', 'd', 'i', 's', 'c', 'i', 'p', 'l', 'i', 'n', 'e', ':', ' ', 'D', 'u', 'c', 'k', ',', ' ', 'd', 'y', 'n', 'a', 'm', 'i', 'c', ',', ' ', 's', 't', 'r', 'o', 'n', 'g', ' ', 't', 'y', 'p', 'i', 'n', 'g', ';', ' ', 'g', 'r', 'a', 'd', 'u', 'a', 'l', ' ', '(', 's', 'i', 'n', 'c', 'e', ' ', '.', ',', ' ', 'b', 'u', 't', ' ', 'i', 'g', 'n', 'o', 'r', 'e', 'd', ' ', 'i', 'n', ' ', 'C', 'P', 'y', 't', 'h', 'o', 'n', ')', '\\n', 'F', 'i', 'r', 's', 't', ' ', 'a', 'p', 'p', 'e', 'a', 'r', 'e', 'd', ':', ' ', 'F', 'e', 'b', 'r', 'u', 'a', 'r', 'y', ' ', ';', ' ', ' ', 'y', 'e', 'a', 'r', 's', ' ', 'a', 'g', 'o', '\\n', 'P', 'a', 'r', 'a', 'd', 'i', 'g', 'm', ':', ' ', 'M', 'u', 'l', 't', 'i', '-', 'p', 'a', 'r', 'a', 'd', 'i', 'g', 'm', ':', ' ', 'o', 'b', 'j', 'e', 'c', 't', '-', 'o', 'r', 'i', 'e', 'n', 't', 'e', 'd', ',', ' ', 'p', 'r', 'o', 'c', 'e', 'd', 'u', 'r', 'a', 'l', ' ', '(', 'i', 'm', 'p', 'e', 'r', 'a', 't', 'i', 'v', 'e', ')', ',', ' ', 'f', 'u', 'n', 'c', 't', 'i', 'o', 'n', 'a', 'l', ',', ' ', 's', 't', 'r', 'u', 'c', 't', 'u', 'r', 'e', 'd', ',', ' ', 'r', 'e', 'f', 'l', 'e', 'c', 't', 'i', 'v', 'e', '\\n']\n"
     ]
    }
   ],
   "source": [
    "print(re.findall('\\D',s)) #except number all other"
   ]
  },
  {
   "cell_type": "code",
   "execution_count": 66,
   "metadata": {},
   "outputs": [
    {
     "name": "stdout",
     "output_type": "stream",
     "text": [
      "['202', '202', '199']\n"
     ]
    }
   ],
   "source": [
    "print(re.findall('\\d\\d\\d',s))"
   ]
  },
  {
   "cell_type": "code",
   "execution_count": 67,
   "metadata": {},
   "outputs": [
    {
     "name": "stdout",
     "output_type": "stream",
     "text": [
      "['2021', '2021', '1991']\n"
     ]
    }
   ],
   "source": [
    "print(re.findall('\\d\\d\\d\\d',s))"
   ]
  },
  {
   "cell_type": "code",
   "execution_count": 68,
   "metadata": {},
   "outputs": [
    {
     "name": "stdout",
     "output_type": "stream",
     "text": [
      "['556']\n"
     ]
    }
   ],
   "source": [
    "n = '4556'\n",
    "n1 = '365'\n",
    "\n",
    "print(re.findall('\\d\\d\\d$',n))"
   ]
  },
  {
   "cell_type": "code",
   "execution_count": 69,
   "metadata": {},
   "outputs": [
    {
     "name": "stdout",
     "output_type": "stream",
     "text": [
      "[' ', ' ', ' ', ' ', ' ', ' ', ' ', ' ', ' ', ' ', ' ', ' ', ' ', ' ', ' ', ' ', ' ', ' ', ' ', ' ', ' ', '\\n', ' ', ' ', ' ', '\\n', ' ', ' ', ' ', ' ', ' ', ' ', ' ', ' ', ' ', '\\n', ' ', ' ', ' ', ' ', ' ', ' ', ' ', ' ', ' ', '\\n', ' ', ' ', ' ', ' ', ' ', ' ', ' ', ' ', ' ', ' ', ' ', ' ', '\\n', ' ', ' ', ' ', ' ', ' ', ' ', '\\n', ' ', ' ', ' ', ' ', ' ', ' ', ' ', '\\n']\n"
     ]
    }
   ],
   "source": [
    "print(re.findall('\\s',s))"
   ]
  },
  {
   "cell_type": "code",
   "execution_count": 70,
   "metadata": {},
   "outputs": [
    {
     "name": "stdout",
     "output_type": "stream",
     "text": [
      "['P', 'y', 't', 'h', 'o', 'n', 'i', 's', 'a', 'n', 'i', 'n', 't', 'e', 'r', 'p', 'r', 'e', 't', 'e', 'd', 'h', 'i', 'g', 'h', '-', 'l', 'e', 'v', 'e', 'l', 'g', 'e', 'n', 'e', 'r', 'a', 'l', '-', 'p', 'u', 'r', 'p', 'o', 's', 'e', 'p', 'r', 'o', 'g', 'r', 'a', 'm', 'm', 'i', 'n', 'g', 'l', 'a', 'n', 'g', 'u', 'a', 'g', 'e', '.', 'P', 'y', 't', 'h', 'o', 'n', \"'\", 's', 'd', 'e', 's', 'i', 'g', 'n', 'p', 'h', 'i', 'l', 'o', 's', 'o', 'p', 'h', 'y', 'e', 'm', 'p', 'h', 'a', 's', 'i', 'z', 'e', 's', 'c', 'o', 'd', 'e', 'r', 'e', 'a', 'd', 'a', 'b', 'i', 'l', 'i', 't', 'y', 'w', 'i', 't', 'h', 'i', 't', 's', 'n', 'o', 't', 'a', 'b', 'l', 'e', 'u', 's', 'e', 'o', 'f', 's', 'i', 'g', 'n', 'i', 'f', 'i', 'c', 'a', 'n', 't', 'i', 'n', 'd', 'e', 'n', 't', 'a', 't', 'i', 'o', 'n', '.', 'W', 'i', 'k', 'i', 'p', 'e', 'd', 'i', 'a', 'D', 'e', 'v', 'e', 'l', 'o', 'p', 'e', 'r', ':', 'P', 'y', 't', 'h', 'o', 'n', 'S', 'o', 'f', 't', 'w', 'a', 'r', 'e', 'F', 'o', 'u', 'n', 'd', 'a', 't', 'i', 'o', 'n', 'S', 't', 'a', 'b', 'l', 'e', 'r', 'e', 'l', 'e', 'a', 's', 'e', ':', '3', '.', '9', '.', '5', '/', '3', 'M', 'a', 'y', '2', '0', '2', '1', ';', '1', '9', 'd', 'a', 'y', 's', 'a', 'g', 'o', 'P', 'r', 'e', 'v', 'i', 'e', 'w', 'r', 'e', 'l', 'e', 'a', 's', 'e', ':', '3', '.', '1', '0', '.', '0', 'b', '1', '/', '3', 'M', 'a', 'y', '2', '0', '2', '1', ';', '1', '9', 'd', 'a', 'y', 's', 'a', 'g', 'o', 'T', 'y', 'p', 'i', 'n', 'g', 'd', 'i', 's', 'c', 'i', 'p', 'l', 'i', 'n', 'e', ':', 'D', 'u', 'c', 'k', ',', 'd', 'y', 'n', 'a', 'm', 'i', 'c', ',', 's', 't', 'r', 'o', 'n', 'g', 't', 'y', 'p', 'i', 'n', 'g', ';', 'g', 'r', 'a', 'd', 'u', 'a', 'l', '(', 's', 'i', 'n', 'c', 'e', '3', '.', '5', ',', 'b', 'u', 't', 'i', 'g', 'n', 'o', 'r', 'e', 'd', 'i', 'n', 'C', 'P', 'y', 't', 'h', 'o', 'n', ')', 'F', 'i', 'r', 's', 't', 'a', 'p', 'p', 'e', 'a', 'r', 'e', 'd', ':', 'F', 'e', 'b', 'r', 'u', 'a', 'r', 'y', '1', '9', '9', '1', ';', '3', '0', 'y', 'e', 'a', 'r', 's', 'a', 'g', 'o', 'P', 'a', 'r', 'a', 'd', 'i', 'g', 'm', ':', 'M', 'u', 'l', 't', 'i', '-', 'p', 'a', 'r', 'a', 'd', 'i', 'g', 'm', ':', 'o', 'b', 'j', 'e', 'c', 't', '-', 'o', 'r', 'i', 'e', 'n', 't', 'e', 'd', ',', 'p', 'r', 'o', 'c', 'e', 'd', 'u', 'r', 'a', 'l', '(', 'i', 'm', 'p', 'e', 'r', 'a', 't', 'i', 'v', 'e', ')', ',', 'f', 'u', 'n', 'c', 't', 'i', 'o', 'n', 'a', 'l', ',', 's', 't', 'r', 'u', 'c', 't', 'u', 'r', 'e', 'd', ',', 'r', 'e', 'f', 'l', 'e', 'c', 't', 'i', 'v', 'e']\n"
     ]
    }
   ],
   "source": [
    "print(re.findall('\\S',s))"
   ]
  },
  {
   "cell_type": "code",
   "execution_count": 72,
   "metadata": {},
   "outputs": [
    {
     "name": "stdout",
     "output_type": "stream",
     "text": [
      "['', '', '', '', '', '', '', '', '', '', '', '', '', '', '', '', '', '', 'p', '', '', '', '', '', '', '', '', '', '', '', '', '', '', '', '', '', '', '', '', '', '', '', '', '', 'p', '', '', 'p', '', '', '', '', 'p', '', '', '', '', '', '', '', '', '', '', '', '', '', '', '', '', '', '', '', '', '', '', '', '', '', '', '', '', '', '', '', '', '', '', '', '', '', 'p', '', '', '', '', '', '', 'p', '', '', '', '', '', 'p', '', '', '', '', '', '', '', '', '', '', '', '', '', '', '', '', '', '', '', '', '', '', '', '', '', '', '', '', '', '', '', '', '', '', '', '', '', '', '', '', '', '', '', '', '', '', '', '', '', '', '', '', '', '', '', '', '', '', '', '', '', '', '', '', '', '', '', '', '', '', '', '', '', '', '', '', '', '', 'p', '', '', '', '', '', '', '', '', '', '', '', 'p', '', '', '', '', '', '', '', '', '', '', '', '', '', '', '', '', '', '', '', '', '', '', '', '', '', '', '', '', '', '', '', '', '', '', '', '', '', '', '', '', '', '', '', '', '', '', '', '', '', '', '', '', '', '', '', '', '', '', '', '', '', '', '', '', '', '', '', '', '', '', '', '', '', '', '', '', '', '', '', '', '', '', '', '', '', '', '', '', '', '', '', '', '', '', '', '', '', '', '', '', '', '', '', '', '', '', '', '', '', '', '', '', '', '', '', '', '', '', '', '', '', '', '', '', '', '', '', '', '', '', '', '', '', 'p', '', '', '', '', '', '', '', '', '', 'p', '', '', '', '', '', '', '', '', '', '', '', '', '', '', '', '', '', '', '', '', '', '', '', '', '', '', '', '', '', '', 'p', '', '', '', '', '', '', '', '', '', '', '', '', '', '', '', '', '', '', '', '', '', '', '', '', '', '', '', '', '', '', '', '', '', '', '', '', '', '', '', '', '', '', '', '', '', '', '', '', '', '', '', '', '', '', '', '', 'pp', '', '', '', '', '', '', '', '', '', '', '', '', '', '', '', '', '', '', '', '', '', '', '', '', '', '', '', '', '', '', '', '', '', '', '', '', '', '', '', '', '', '', '', '', '', '', '', '', '', '', '', 'p', '', '', '', '', '', '', '', '', '', '', '', '', '', '', '', '', '', '', '', '', '', '', '', '', '', '', 'p', '', '', '', '', '', '', '', '', '', '', '', '', '', 'p', '', '', '', '', '', '', '', '', '', '', '', '', '', '', '', '', '', '', '', '', '', '', '', '', '', '', '', '', '', '', '', '', '', '', '', '', '', '', '', '', '', '', '', '', '', '']\n"
     ]
    }
   ],
   "source": [
    "print(re.findall('p*',s))"
   ]
  },
  {
   "cell_type": "code",
   "execution_count": 73,
   "metadata": {},
   "outputs": [
    {
     "name": "stdout",
     "output_type": "stream",
     "text": [
      "['Py', 't', 'h', 'o', 'n', ' ', 'i', 's', ' ', 'a', 'n', ' ', 'i', 'n', 't', 'e', 'r', 'p', 'r', 'e', 't', 'e', 'd', ' ', 'h', 'i', 'g', 'h', '-', 'l', 'e', 'v', 'e', 'l', ' ', 'g', 'e', 'n', 'e', 'r', 'a', 'l', '-', 'p', 'u', 'r', 'p', 'o', 's', 'e', ' ', 'p', 'r', 'o', 'g', 'r', 'a', 'm', 'm', 'i', 'n', 'g', ' ', 'l', 'a', 'n', 'g', 'u', 'a', 'g', 'e', '.', ' ', 'Py', 't', 'h', 'o', 'n', \"'\", 's', ' ', 'd', 'e', 's', 'i', 'g', 'n', ' ', 'p', 'h', 'i', 'l', 'o', 's', 'o', 'p', 'h', 'y', ' ', 'e', 'm', 'p', 'h', 'a', 's', 'i', 'z', 'e', 's', ' ', 'c', 'o', 'd', 'e', ' ', 'r', 'e', 'a', 'd', 'a', 'b', 'i', 'l', 'i', 't', 'y', ' ', 'w', 'i', 't', 'h', ' ', 'i', 't', 's', ' ', 'n', 'o', 't', 'a', 'b', 'l', 'e', ' ', 'u', 's', 'e', ' ', 'o', 'f', ' ', 's', 'i', 'g', 'n', 'i', 'f', 'i', 'c', 'a', 'n', 't', ' ', 'i', 'n', 'd', 'e', 'n', 't', 'a', 't', 'i', 'o', 'n', '.', ' ', 'W', 'i', 'k', 'i', 'p', 'e', 'd', 'i', 'a', 'D', 'e', 'v', 'e', 'l', 'o', 'p', 'e', 'r', ':', ' ', 'Py', 't', 'h', 'o', 'n', ' ', 'S', 'o', 'f', 't', 'w', 'a', 'r', 'e', ' ', 'F', 'o', 'u', 'n', 'd', 'a', 't', 'i', 'o', 'n', 'S', 't', 'a', 'b', 'l', 'e', ' ', 'r', 'e', 'l', 'e', 'a', 's', 'e', ':', ' ', '3', '.', '9', '.', '5', ' ', '/', ' ', '3', ' ', 'M', 'a', 'y', ' ', '2', '0', '2', '1', ';', ' ', '1', '9', ' ', 'd', 'a', 'y', 's', ' ', 'a', 'g', 'o', 'Pr', 'e', 'v', 'i', 'e', 'w', ' ', 'r', 'e', 'l', 'e', 'a', 's', 'e', ':', ' ', '3', '.', '1', '0', '.', '0', 'b', '1', ' ', '/', ' ', '3', ' ', 'M', 'a', 'y', ' ', '2', '0', '2', '1', ';', ' ', '1', '9', ' ', 'd', 'a', 'y', 's', ' ', 'a', 'g', 'o', 'T', 'y', 'p', 'i', 'n', 'g', ' ', 'd', 'i', 's', 'c', 'i', 'p', 'l', 'i', 'n', 'e', ':', ' ', 'D', 'u', 'c', 'k', ',', ' ', 'd', 'y', 'n', 'a', 'm', 'i', 'c', ',', ' ', 's', 't', 'r', 'o', 'n', 'g', ' ', 't', 'y', 'p', 'i', 'n', 'g', ';', ' ', 'g', 'r', 'a', 'd', 'u', 'a', 'l', ' ', '(', 's', 'i', 'n', 'c', 'e', ' ', '3', '.', '5', ',', ' ', 'b', 'u', 't', ' ', 'i', 'g', 'n', 'o', 'r', 'e', 'd', ' ', 'i', 'n', ' ', 'C', 'Py', 't', 'h', 'o', 'n', ')', 'F', 'i', 'r', 's', 't', ' ', 'a', 'p', 'p', 'e', 'a', 'r', 'e', 'd', ':', ' ', 'F', 'e', 'b', 'r', 'u', 'a', 'r', 'y', ' ', '1', '9', '9', '1', ';', ' ', '3', '0', ' ', 'y', 'e', 'a', 'r', 's', ' ', 'a', 'g', 'o', 'Pa', 'r', 'a', 'd', 'i', 'g', 'm', ':', ' ', 'M', 'u', 'l', 't', 'i', '-', 'p', 'a', 'r', 'a', 'd', 'i', 'g', 'm', ':', ' ', 'o', 'b', 'j', 'e', 'c', 't', '-', 'o', 'r', 'i', 'e', 'n', 't', 'e', 'd', ',', ' ', 'p', 'r', 'o', 'c', 'e', 'd', 'u', 'r', 'a', 'l', ' ', '(', 'i', 'm', 'p', 'e', 'r', 'a', 't', 'i', 'v', 'e', ')', ',', ' ', 'f', 'u', 'n', 'c', 't', 'i', 'o', 'n', 'a', 'l', ',', ' ', 's', 't', 'r', 'u', 'c', 't', 'u', 'r', 'e', 'd', ',', ' ', 'r', 'e', 'f', 'l', 'e', 'c', 't', 'i', 'v', 'e']\n"
     ]
    }
   ],
   "source": [
    "print(re.findall('P*.',s))"
   ]
  },
  {
   "cell_type": "code",
   "execution_count": 75,
   "metadata": {},
   "outputs": [
    {
     "name": "stdout",
     "output_type": "stream",
     "text": [
      "['P', 'P', 'P', 'P', 'P', 'P']\n"
     ]
    }
   ],
   "source": [
    "print(re.findall('P\\d*',s))"
   ]
  },
  {
   "cell_type": "code",
   "execution_count": 76,
   "metadata": {},
   "outputs": [
    {
     "name": "stdout",
     "output_type": "stream",
     "text": [
      "['abcdefghijklm', '', 'gmail', '', 'com', '']\n"
     ]
    }
   ],
   "source": [
    "email = 'abcdefghijklm@gmail.com'\n",
    "\n",
    "print(re.findall('[a-z]*',email))"
   ]
  },
  {
   "cell_type": "code",
   "execution_count": 77,
   "metadata": {},
   "outputs": [
    {
     "name": "stdout",
     "output_type": "stream",
     "text": [
      "['abcdefghijklm', '', 'gmail', '', 'com', '']\n"
     ]
    }
   ],
   "source": [
    "print(re.findall('[a-z_]*',email))"
   ]
  },
  {
   "cell_type": "code",
   "execution_count": 78,
   "metadata": {},
   "outputs": [
    {
     "name": "stdout",
     "output_type": "stream",
     "text": [
      "['a', 'b', 'c', 'd', 'e', 'f', 'g', 'h', 'i', 'j', 'k', 'l', 'm', '', 'g', 'm', 'a', 'i', 'l', '', 'c', 'o', 'm', '']\n"
     ]
    }
   ],
   "source": [
    "print(re.findall('[a-z]?',email))"
   ]
  },
  {
   "cell_type": "code",
   "execution_count": 79,
   "metadata": {},
   "outputs": [
    {
     "name": "stdout",
     "output_type": "stream",
     "text": [
      "['ab', 'cd', 'ef', 'gh', 'ij', 'kl', 'm', 'gm', 'ai', 'l', 'co', 'm']\n"
     ]
    }
   ],
   "source": [
    "print(re.findall('[a-z]?[a-z]',email))"
   ]
  },
  {
   "cell_type": "code",
   "execution_count": 80,
   "metadata": {},
   "outputs": [
    {
     "name": "stdout",
     "output_type": "stream",
     "text": [
      "['em', 'ai']\n"
     ]
    }
   ],
   "source": [
    "print(re.findall('[a-z]{2}','email'))"
   ]
  },
  {
   "cell_type": "code",
   "execution_count": 81,
   "metadata": {},
   "outputs": [],
   "source": [
    "ip = '163.125.255.125'\n",
    "\n",
    "ip2 = '172.160.250.5'"
   ]
  },
  {
   "cell_type": "code",
   "execution_count": 82,
   "metadata": {},
   "outputs": [
    {
     "name": "stdout",
     "output_type": "stream",
     "text": [
      "[]\n"
     ]
    }
   ],
   "source": [
    "print(re.findall('163.125.255[0-2][0-5][0-5]',ip))"
   ]
  },
  {
   "cell_type": "code",
   "execution_count": null,
   "metadata": {},
   "outputs": [],
   "source": []
  },
  {
   "cell_type": "code",
   "execution_count": 84,
   "metadata": {},
   "outputs": [
    {
     "name": "stdout",
     "output_type": "stream",
     "text": [
      "[]\n"
     ]
    },
    {
     "ename": "AttributeError",
     "evalue": "'NoneType' object has no attribute 'span'",
     "output_type": "error",
     "traceback": [
      "\u001b[1;31m---------------------------------------------------------------------------\u001b[0m",
      "\u001b[1;31mAttributeError\u001b[0m                            Traceback (most recent call last)",
      "\u001b[1;32m<ipython-input-84-8f591c757cc7>\u001b[0m in \u001b[0;36m<module>\u001b[1;34m\u001b[0m\n\u001b[0;32m      1\u001b[0m \u001b[0mobj\u001b[0m \u001b[1;33m=\u001b[0m \u001b[0mprint\u001b[0m\u001b[1;33m(\u001b[0m\u001b[0mre\u001b[0m\u001b[1;33m.\u001b[0m\u001b[0mfindall\u001b[0m\u001b[1;33m(\u001b[0m\u001b[1;34m'163.125.255[0-2][0-5][0-5]'\u001b[0m\u001b[1;33m,\u001b[0m\u001b[0mip\u001b[0m\u001b[1;33m)\u001b[0m\u001b[1;33m)\u001b[0m\u001b[1;33m\u001b[0m\u001b[1;33m\u001b[0m\u001b[0m\n\u001b[0;32m      2\u001b[0m \u001b[1;33m\u001b[0m\u001b[0m\n\u001b[1;32m----> 3\u001b[1;33m \u001b[0mobj\u001b[0m\u001b[1;33m.\u001b[0m\u001b[0mspan\u001b[0m\u001b[1;33m(\u001b[0m\u001b[1;33m)\u001b[0m\u001b[1;33m\u001b[0m\u001b[1;33m\u001b[0m\u001b[0m\n\u001b[0m",
      "\u001b[1;31mAttributeError\u001b[0m: 'NoneType' object has no attribute 'span'"
     ]
    }
   ],
   "source": [
    "obj = print(re.findall('163.125.255[0-2][0-5][0-5]',ip))\n",
    "\n",
    "obj.span()"
   ]
  },
  {
   "cell_type": "code",
   "execution_count": 86,
   "metadata": {},
   "outputs": [
    {
     "name": "stdout",
     "output_type": "stream",
     "text": [
      "<re.Match object; span=(0, 15), match='163.125.255.125'>\n"
     ]
    }
   ],
   "source": [
    "ip3 = '163.125.255.125opa'\n",
    "\n",
    "print(re.match('^163.125.255.[0-2][0-5][0-5]',ip3))"
   ]
  },
  {
   "cell_type": "code",
   "execution_count": 87,
   "metadata": {},
   "outputs": [
    {
     "data": {
      "text/plain": [
       "<re.Match object; span=(0, 10), match='9876543210'>"
      ]
     },
     "execution_count": 87,
     "metadata": {},
     "output_type": "execute_result"
    }
   ],
   "source": [
    "m1 = '9876543210'\n",
    "m2 = '1234567890'\n",
    "m3 = '987654321o'\n",
    "pattern = '^[6789]\\d{9}$'\n",
    "re.match(pattern,m1)"
   ]
  },
  {
   "cell_type": "code",
   "execution_count": 89,
   "metadata": {},
   "outputs": [
    {
     "name": "stdout",
     "output_type": "stream",
     "text": [
      "None None\n"
     ]
    }
   ],
   "source": [
    "print(re.match(pattern,m2),re.match(pattern,m3))"
   ]
  },
  {
   "cell_type": "code",
   "execution_count": 94,
   "metadata": {},
   "outputs": [
    {
     "ename": "error",
     "evalue": "nothing to repeat at position 0",
     "output_type": "error",
     "traceback": [
      "\u001b[1;31m---------------------------------------------------------------------------\u001b[0m",
      "\u001b[1;31merror\u001b[0m                                     Traceback (most recent call last)",
      "\u001b[1;32m<ipython-input-94-191df9b3e32a>\u001b[0m in \u001b[0;36m<module>\u001b[1;34m\u001b[0m\n\u001b[0;32m      3\u001b[0m \u001b[0mpattern\u001b[0m \u001b[1;33m=\u001b[0m \u001b[1;34m'+91^[6789]\\d{9}'\u001b[0m\u001b[1;33m\u001b[0m\u001b[1;33m\u001b[0m\u001b[0m\n\u001b[0;32m      4\u001b[0m \u001b[1;33m\u001b[0m\u001b[0m\n\u001b[1;32m----> 5\u001b[1;33m \u001b[0mre\u001b[0m\u001b[1;33m.\u001b[0m\u001b[0mmatch\u001b[0m\u001b[1;33m(\u001b[0m\u001b[0mpattern\u001b[0m\u001b[1;33m,\u001b[0m\u001b[0mm4\u001b[0m\u001b[1;33m)\u001b[0m\u001b[1;33m\u001b[0m\u001b[1;33m\u001b[0m\u001b[0m\n\u001b[0m",
      "\u001b[1;32m~\\anaconda3\\lib\\re.py\u001b[0m in \u001b[0;36mmatch\u001b[1;34m(pattern, string, flags)\u001b[0m\n\u001b[0;32m    189\u001b[0m     \"\"\"Try to apply the pattern at the start of the string, returning\n\u001b[0;32m    190\u001b[0m     a Match object, or None if no match was found.\"\"\"\n\u001b[1;32m--> 191\u001b[1;33m     \u001b[1;32mreturn\u001b[0m \u001b[0m_compile\u001b[0m\u001b[1;33m(\u001b[0m\u001b[0mpattern\u001b[0m\u001b[1;33m,\u001b[0m \u001b[0mflags\u001b[0m\u001b[1;33m)\u001b[0m\u001b[1;33m.\u001b[0m\u001b[0mmatch\u001b[0m\u001b[1;33m(\u001b[0m\u001b[0mstring\u001b[0m\u001b[1;33m)\u001b[0m\u001b[1;33m\u001b[0m\u001b[1;33m\u001b[0m\u001b[0m\n\u001b[0m\u001b[0;32m    192\u001b[0m \u001b[1;33m\u001b[0m\u001b[0m\n\u001b[0;32m    193\u001b[0m \u001b[1;32mdef\u001b[0m \u001b[0mfullmatch\u001b[0m\u001b[1;33m(\u001b[0m\u001b[0mpattern\u001b[0m\u001b[1;33m,\u001b[0m \u001b[0mstring\u001b[0m\u001b[1;33m,\u001b[0m \u001b[0mflags\u001b[0m\u001b[1;33m=\u001b[0m\u001b[1;36m0\u001b[0m\u001b[1;33m)\u001b[0m\u001b[1;33m:\u001b[0m\u001b[1;33m\u001b[0m\u001b[1;33m\u001b[0m\u001b[0m\n",
      "\u001b[1;32m~\\anaconda3\\lib\\re.py\u001b[0m in \u001b[0;36m_compile\u001b[1;34m(pattern, flags)\u001b[0m\n\u001b[0;32m    302\u001b[0m     \u001b[1;32mif\u001b[0m \u001b[1;32mnot\u001b[0m \u001b[0msre_compile\u001b[0m\u001b[1;33m.\u001b[0m\u001b[0misstring\u001b[0m\u001b[1;33m(\u001b[0m\u001b[0mpattern\u001b[0m\u001b[1;33m)\u001b[0m\u001b[1;33m:\u001b[0m\u001b[1;33m\u001b[0m\u001b[1;33m\u001b[0m\u001b[0m\n\u001b[0;32m    303\u001b[0m         \u001b[1;32mraise\u001b[0m \u001b[0mTypeError\u001b[0m\u001b[1;33m(\u001b[0m\u001b[1;34m\"first argument must be string or compiled pattern\"\u001b[0m\u001b[1;33m)\u001b[0m\u001b[1;33m\u001b[0m\u001b[1;33m\u001b[0m\u001b[0m\n\u001b[1;32m--> 304\u001b[1;33m     \u001b[0mp\u001b[0m \u001b[1;33m=\u001b[0m \u001b[0msre_compile\u001b[0m\u001b[1;33m.\u001b[0m\u001b[0mcompile\u001b[0m\u001b[1;33m(\u001b[0m\u001b[0mpattern\u001b[0m\u001b[1;33m,\u001b[0m \u001b[0mflags\u001b[0m\u001b[1;33m)\u001b[0m\u001b[1;33m\u001b[0m\u001b[1;33m\u001b[0m\u001b[0m\n\u001b[0m\u001b[0;32m    305\u001b[0m     \u001b[1;32mif\u001b[0m \u001b[1;32mnot\u001b[0m \u001b[1;33m(\u001b[0m\u001b[0mflags\u001b[0m \u001b[1;33m&\u001b[0m \u001b[0mDEBUG\u001b[0m\u001b[1;33m)\u001b[0m\u001b[1;33m:\u001b[0m\u001b[1;33m\u001b[0m\u001b[1;33m\u001b[0m\u001b[0m\n\u001b[0;32m    306\u001b[0m         \u001b[1;32mif\u001b[0m \u001b[0mlen\u001b[0m\u001b[1;33m(\u001b[0m\u001b[0m_cache\u001b[0m\u001b[1;33m)\u001b[0m \u001b[1;33m>=\u001b[0m \u001b[0m_MAXCACHE\u001b[0m\u001b[1;33m:\u001b[0m\u001b[1;33m\u001b[0m\u001b[1;33m\u001b[0m\u001b[0m\n",
      "\u001b[1;32m~\\anaconda3\\lib\\sre_compile.py\u001b[0m in \u001b[0;36mcompile\u001b[1;34m(p, flags)\u001b[0m\n\u001b[0;32m    762\u001b[0m     \u001b[1;32mif\u001b[0m \u001b[0misstring\u001b[0m\u001b[1;33m(\u001b[0m\u001b[0mp\u001b[0m\u001b[1;33m)\u001b[0m\u001b[1;33m:\u001b[0m\u001b[1;33m\u001b[0m\u001b[1;33m\u001b[0m\u001b[0m\n\u001b[0;32m    763\u001b[0m         \u001b[0mpattern\u001b[0m \u001b[1;33m=\u001b[0m \u001b[0mp\u001b[0m\u001b[1;33m\u001b[0m\u001b[1;33m\u001b[0m\u001b[0m\n\u001b[1;32m--> 764\u001b[1;33m         \u001b[0mp\u001b[0m \u001b[1;33m=\u001b[0m \u001b[0msre_parse\u001b[0m\u001b[1;33m.\u001b[0m\u001b[0mparse\u001b[0m\u001b[1;33m(\u001b[0m\u001b[0mp\u001b[0m\u001b[1;33m,\u001b[0m \u001b[0mflags\u001b[0m\u001b[1;33m)\u001b[0m\u001b[1;33m\u001b[0m\u001b[1;33m\u001b[0m\u001b[0m\n\u001b[0m\u001b[0;32m    765\u001b[0m     \u001b[1;32melse\u001b[0m\u001b[1;33m:\u001b[0m\u001b[1;33m\u001b[0m\u001b[1;33m\u001b[0m\u001b[0m\n\u001b[0;32m    766\u001b[0m         \u001b[0mpattern\u001b[0m \u001b[1;33m=\u001b[0m \u001b[1;32mNone\u001b[0m\u001b[1;33m\u001b[0m\u001b[1;33m\u001b[0m\u001b[0m\n",
      "\u001b[1;32m~\\anaconda3\\lib\\sre_parse.py\u001b[0m in \u001b[0;36mparse\u001b[1;34m(str, flags, state)\u001b[0m\n\u001b[0;32m    946\u001b[0m \u001b[1;33m\u001b[0m\u001b[0m\n\u001b[0;32m    947\u001b[0m     \u001b[1;32mtry\u001b[0m\u001b[1;33m:\u001b[0m\u001b[1;33m\u001b[0m\u001b[1;33m\u001b[0m\u001b[0m\n\u001b[1;32m--> 948\u001b[1;33m         \u001b[0mp\u001b[0m \u001b[1;33m=\u001b[0m \u001b[0m_parse_sub\u001b[0m\u001b[1;33m(\u001b[0m\u001b[0msource\u001b[0m\u001b[1;33m,\u001b[0m \u001b[0mstate\u001b[0m\u001b[1;33m,\u001b[0m \u001b[0mflags\u001b[0m \u001b[1;33m&\u001b[0m \u001b[0mSRE_FLAG_VERBOSE\u001b[0m\u001b[1;33m,\u001b[0m \u001b[1;36m0\u001b[0m\u001b[1;33m)\u001b[0m\u001b[1;33m\u001b[0m\u001b[1;33m\u001b[0m\u001b[0m\n\u001b[0m\u001b[0;32m    949\u001b[0m     \u001b[1;32mexcept\u001b[0m \u001b[0mVerbose\u001b[0m\u001b[1;33m:\u001b[0m\u001b[1;33m\u001b[0m\u001b[1;33m\u001b[0m\u001b[0m\n\u001b[0;32m    950\u001b[0m         \u001b[1;31m# the VERBOSE flag was switched on inside the pattern.  to be\u001b[0m\u001b[1;33m\u001b[0m\u001b[1;33m\u001b[0m\u001b[1;33m\u001b[0m\u001b[0m\n",
      "\u001b[1;32m~\\anaconda3\\lib\\sre_parse.py\u001b[0m in \u001b[0;36m_parse_sub\u001b[1;34m(source, state, verbose, nested)\u001b[0m\n\u001b[0;32m    441\u001b[0m     \u001b[0mstart\u001b[0m \u001b[1;33m=\u001b[0m \u001b[0msource\u001b[0m\u001b[1;33m.\u001b[0m\u001b[0mtell\u001b[0m\u001b[1;33m(\u001b[0m\u001b[1;33m)\u001b[0m\u001b[1;33m\u001b[0m\u001b[1;33m\u001b[0m\u001b[0m\n\u001b[0;32m    442\u001b[0m     \u001b[1;32mwhile\u001b[0m \u001b[1;32mTrue\u001b[0m\u001b[1;33m:\u001b[0m\u001b[1;33m\u001b[0m\u001b[1;33m\u001b[0m\u001b[0m\n\u001b[1;32m--> 443\u001b[1;33m         itemsappend(_parse(source, state, verbose, nested + 1,\n\u001b[0m\u001b[0;32m    444\u001b[0m                            not nested and not items))\n\u001b[0;32m    445\u001b[0m         \u001b[1;32mif\u001b[0m \u001b[1;32mnot\u001b[0m \u001b[0msourcematch\u001b[0m\u001b[1;33m(\u001b[0m\u001b[1;34m\"|\"\u001b[0m\u001b[1;33m)\u001b[0m\u001b[1;33m:\u001b[0m\u001b[1;33m\u001b[0m\u001b[1;33m\u001b[0m\u001b[0m\n",
      "\u001b[1;32m~\\anaconda3\\lib\\sre_parse.py\u001b[0m in \u001b[0;36m_parse\u001b[1;34m(source, state, verbose, nested, first)\u001b[0m\n\u001b[0;32m    666\u001b[0m                 \u001b[0mitem\u001b[0m \u001b[1;33m=\u001b[0m \u001b[1;32mNone\u001b[0m\u001b[1;33m\u001b[0m\u001b[1;33m\u001b[0m\u001b[0m\n\u001b[0;32m    667\u001b[0m             \u001b[1;32mif\u001b[0m \u001b[1;32mnot\u001b[0m \u001b[0mitem\u001b[0m \u001b[1;32mor\u001b[0m \u001b[0mitem\u001b[0m\u001b[1;33m[\u001b[0m\u001b[1;36m0\u001b[0m\u001b[1;33m]\u001b[0m\u001b[1;33m[\u001b[0m\u001b[1;36m0\u001b[0m\u001b[1;33m]\u001b[0m \u001b[1;32mis\u001b[0m \u001b[0mAT\u001b[0m\u001b[1;33m:\u001b[0m\u001b[1;33m\u001b[0m\u001b[1;33m\u001b[0m\u001b[0m\n\u001b[1;32m--> 668\u001b[1;33m                 raise source.error(\"nothing to repeat\",\n\u001b[0m\u001b[0;32m    669\u001b[0m                                    source.tell() - here + len(this))\n\u001b[0;32m    670\u001b[0m             \u001b[1;32mif\u001b[0m \u001b[0mitem\u001b[0m\u001b[1;33m[\u001b[0m\u001b[1;36m0\u001b[0m\u001b[1;33m]\u001b[0m\u001b[1;33m[\u001b[0m\u001b[1;36m0\u001b[0m\u001b[1;33m]\u001b[0m \u001b[1;32min\u001b[0m \u001b[0m_REPEATCODES\u001b[0m\u001b[1;33m:\u001b[0m\u001b[1;33m\u001b[0m\u001b[1;33m\u001b[0m\u001b[0m\n",
      "\u001b[1;31merror\u001b[0m: nothing to repeat at position 0"
     ]
    }
   ],
   "source": [
    "m4 = '+919876543210'\n",
    "\n",
    "pattern = '+91^[6789]\\d{9}'\n",
    "\n",
    "re.match(pattern,m4)"
   ]
  },
  {
   "cell_type": "code",
   "execution_count": 100,
   "metadata": {},
   "outputs": [
    {
     "name": "stdout",
     "output_type": "stream",
     "text": [
      "<re.Match object; span=(0, 13), match='+919876543210'>\n"
     ]
    }
   ],
   "source": [
    "m4 = '+919876543210'\n",
    "\n",
    "pattern = '^[+]91[6789]\\d{9}'\n",
    "\n",
    "print(re.match(pattern,m4))"
   ]
  },
  {
   "cell_type": "code",
   "execution_count": 101,
   "metadata": {},
   "outputs": [
    {
     "name": "stdout",
     "output_type": "stream",
     "text": [
      "None\n"
     ]
    }
   ],
   "source": [
    "m4 = '+91987654321ghj'\n",
    "\n",
    "pattern = '^[+]91[6789]\\d{9}'\n",
    "\n",
    "print(re.match(pattern,m4))"
   ]
  },
  {
   "cell_type": "markdown",
   "metadata": {},
   "source": [
    "### Task\n",
    "\n",
    "#### username@domail.extension\n",
    "\n",
    "- Conditions\n",
    "   - username\n",
    "     - a-zA-z0-9._\n",
    "     - it shouldn't start with . or 0-9\n",
    "     - min 8 max 15\n",
    "   - @\n",
    "   - Domain\n",
    "      - a-zA-Z0-9\n",
    "      - min 2 max 10\n",
    "   - Extension\n",
    "       - a-zA-Z\n",
    "       - {2,5}\n"
   ]
  },
  {
   "cell_type": "markdown",
   "metadata": {},
   "source": [
    "### Sub --> replace\n",
    "\n",
    "#### Syntax\"\n",
    "\n",
    "sub(oldpattern,replace,string)"
   ]
  },
  {
   "cell_type": "code",
   "execution_count": 102,
   "metadata": {},
   "outputs": [
    {
     "name": "stdout",
     "output_type": "stream",
     "text": [
      "Python-is-an-interpreted-high-level-general-purpose-programming-language.-Python's-design-philosophy-emphasizes-code-readability-with-its-notable-use-of-significant-indentation.-Wikipedia-Developer:-Python-Software-Foundation-Stable-release:-3.9.5-/-3-May-2021;-19-days-ago-Preview-release:-3.10.0b1-/-3-May-2021;-19-days-ago-Typing-discipline:-Duck,-dynamic,-strong-typing;-gradual-(since-3.5,-but-ignored-in-CPython)-First-appeared:-February-1991;-30-years-ago-Paradigm:-Multi-paradigm:-object-oriented,-procedural-(imperative),-functional,-structured,-reflective-\n"
     ]
    }
   ],
   "source": [
    "print(re.sub('\\s','-',s))"
   ]
  },
  {
   "cell_type": "code",
   "execution_count": 103,
   "metadata": {},
   "outputs": [
    {
     "name": "stdout",
     "output_type": "stream",
     "text": [
      "Python is an interpreted high-level general-purpose programming language. Python's design philosophy emphasizes code readability with its notable use of significant indentation. Wikipedia\n",
      "Developer: Python Software Foundation\n",
      "Stable release: 0.0.0 / 0 May 0000; 00 days ago\n",
      "Preview release: 0.00.0b0 / 0 May 0000; 00 days ago\n",
      "Typing discipline: Duck, dynamic, strong typing; gradual (since 0.0, but ignored in CPython)\n",
      "First appeared: February 0000; 00 years ago\n",
      "Paradigm: Multi-paradigm: object-oriented, procedural (imperative), functional, structured, reflective\n",
      "\n"
     ]
    }
   ],
   "source": [
    "print(re.sub('\\d','0',s))"
   ]
  },
  {
   "cell_type": "code",
   "execution_count": 104,
   "metadata": {},
   "outputs": [
    {
     "name": "stdout",
     "output_type": "stream",
     "text": [
      "(\"Python is an interpreted high-level general-purpose programming language. Python's design philosophy emphasizes code readability with its notable use of significant indentation. Wikipedia\\nDeveloper: Python Software Foundation\\nStable release: 0.0.0 / 0 May 0000; 00 days ago\\nPreview release: 0.00.0b0 / 0 May 0000; 00 days ago\\nTyping discipline: Duck, dynamic, strong typing; gradual (since 0.0, but ignored in CPython)\\nFirst appeared: February 0000; 00 years ago\\nParadigm: Multi-paradigm: object-oriented, procedural (imperative), functional, structured, reflective\\n\", 30)\n"
     ]
    }
   ],
   "source": [
    "print(re.subn('\\d','0',s))"
   ]
  },
  {
   "cell_type": "code",
   "execution_count": 105,
   "metadata": {},
   "outputs": [
    {
     "name": "stdout",
     "output_type": "stream",
     "text": [
      "****** ** ** *********** ********** *************** *********** ********* ******** ****** ********** ********** **** *********** **** *** ******* *** ** *********** ************ *********\n",
      "********** ****** ******** **********\n",
      "****** ******** ***** * * *** ***** ** **** ***\n",
      "******* ******** ******** * * *** ***** ** **** ***\n",
      "****** *********** ***** ******** ****** ******* ******* ****** **** *** ******* ** ********\n",
      "***** ********* ******** ***** ** ***** ***\n",
      "********* *************** **************** ********** ************* *********** *********** **********\n",
      "\n"
     ]
    }
   ],
   "source": [
    "print(re.sub('\\S','*',s))"
   ]
  },
  {
   "cell_type": "code",
   "execution_count": 106,
   "metadata": {},
   "outputs": [
    {
     "name": "stdout",
     "output_type": "stream",
     "text": [
      "(\"Pyth*n *s *n *nt*rpr*t*d h*gh-l*v*l g*n*r*l-p*rp*s* pr*gr*mm*ng l*ng**g*. Pyth*n's d*s*gn ph*l*s*phy *mph*s*z*s c*d* r**d*b*l*ty w*th *ts n*t*bl* *s* *f s*gn*f*c*nt *nd*nt*t**n. W*k*p*d**\\nD*v*l*p*r: Pyth*n S*ftw*r* F**nd*t**n\\nSt*bl* r*l**s*: 3.9.5 / 3 M*y 2021; 19 d*ys *g*\\nPr*v**w r*l**s*: 3.10.0b1 / 3 M*y 2021; 19 d*ys *g*\\nTyp*ng d*sc*pl*n*: D*ck, dyn*m*c, str*ng typ*ng; gr*d**l (s*nc* 3.5, b*t *gn*r*d *n CPyth*n)\\nF*rst *pp**r*d: F*br**ry 1991; 30 y**rs *g*\\nP*r*d*gm: M*lt*-p*r*d*gm: *bj*ct-*r**nt*d, pr*c*d*r*l (*mp*r*t*v*), f*nct**n*l, str*ct*r*d, r*fl*ct*v*\\n\", 163)\n"
     ]
    }
   ],
   "source": [
    "print(re.subn('[aeiou]','*',s))"
   ]
  },
  {
   "cell_type": "code",
   "execution_count": 107,
   "metadata": {},
   "outputs": [
    {
     "name": "stdout",
     "output_type": "stream",
     "text": [
      "('****o**i**a**i**e***e*e***i****e*e***e*e*a***u**o*e***o**a**i****a**ua*e******o*****e*i*****i*o*o****e***a*i*e***o*e**ea*a*i*i****i***i****o*a**e*u*e*o***i**i*i*a***i**e**a*io****i*i*e*ia**e*e*o*e*******o***o***a*e**ou**a*io****a**e**e*ea*e*************a************a***a*o***e*ie***e*ea*e****************a************a***a*o****i****i**i**i*e***u*******a*i******o******i******a*ua****i**e*******u**i**o*e**i*******o****i****a**ea*e****e**ua*************ea***a*o**a*a*i*****u**i**a*a*i****o**e***o*ie**e*****o*e*u*a***i**e*a*i*e****u***io*a******u**u*e****e**e**i*e*', 403)\n"
     ]
    }
   ],
   "source": [
    "print(re.subn('[^aeiou]','*',s))"
   ]
  },
  {
   "cell_type": "code",
   "execution_count": 108,
   "metadata": {},
   "outputs": [
    {
     "name": "stdout",
     "output_type": "stream",
     "text": [
      "(\"Python@is@an@interpreted@high-level@general-purpose@programming@language.@Python's@design@philosophy@emphasizes@code@readability@with@its@notable@use@of@significant@indentation.@Wikipedia@Developer:@Python@Software@Foundation@Stable@release:@3.9.5@/@3@May@2021;@19@days@ago@Preview@release:@3.10.0b1@/@3@May@2021;@19@days@ago@Typing@discipline:@Duck,@dynamic,@strong@typing;@gradual@(since@3.5,@but@ignored@in@CPython)@First@appeared:@February@1991;@30@years@ago@Paradigm:@Multi-paradigm:@object-oriented,@procedural@(imperative),@functional,@structured,@reflective@\", 74)\n"
     ]
    }
   ],
   "source": [
    "print(re.subn('[^aeiou\\S]','@',s))"
   ]
  },
  {
   "cell_type": "code",
   "execution_count": null,
   "metadata": {},
   "outputs": [],
   "source": []
  }
 ],
 "metadata": {
  "kernelspec": {
   "display_name": "Python 3",
   "language": "python",
   "name": "python3"
  },
  "language_info": {
   "codemirror_mode": {
    "name": "ipython",
    "version": 3
   },
   "file_extension": ".py",
   "mimetype": "text/x-python",
   "name": "python",
   "nbconvert_exporter": "python",
   "pygments_lexer": "ipython3",
   "version": "3.8.3"
  }
 },
 "nbformat": 4,
 "nbformat_minor": 4
}
